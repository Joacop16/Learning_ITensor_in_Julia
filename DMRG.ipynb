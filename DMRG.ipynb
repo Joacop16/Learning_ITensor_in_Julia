{
 "cells": [
  {
   "cell_type": "code",
   "execution_count": 1,
   "id": "30fb30d6-f97c-4dab-bd82-dfc8f66eb859",
   "metadata": {},
   "outputs": [],
   "source": [
    "using ITensors"
   ]
  },
  {
   "cell_type": "code",
   "execution_count": 2,
   "id": "7fbb0681-9dde-416c-bc93-8e8e1bd0cea1",
   "metadata": {},
   "outputs": [
    {
     "data": {
      "text/plain": [
       "heisenberg_mpo (generic function with 1 method)"
      ]
     },
     "execution_count": 2,
     "metadata": {},
     "output_type": "execute_result"
    }
   ],
   "source": [
    "function heisenberg_mpo(N) # Make N S=1/2 spin indices \n",
    "    sites = siteinds(\"S=1/2\",N) \n",
    "    # Input the operator terms \n",
    "    \n",
    "    os = OpSum() \n",
    "    \n",
    "    for i=1:N-1 \n",
    "        os += \"Sz\",i,\"Sz\",i+1 \n",
    "        os += 1/2,\"S+\",i,\"S-\",i+1 \n",
    "        os += 1/2,\"S-\",i,\"S+\",i+1 \n",
    "    end \n",
    "    \n",
    "    # Convert these terms to an MPO \n",
    "    H = MPO(os,sites)\n",
    "    return H, sites\n",
    "end"
   ]
  },
  {
   "cell_type": "code",
   "execution_count": 3,
   "id": "14302f9e-1fde-4864-9ab3-7e20bb1d1298",
   "metadata": {},
   "outputs": [
    {
     "name": "stdout",
     "output_type": "stream",
     "text": [
      "MPO\n",
      "[1] ((dim=5|id=291|\"Link,l=1\"), (dim=2|id=240|\"S=1/2,Site,n=1\")', (dim=2|id=240|\"S=1/2,Site,n=1\"))\n",
      "[2] ((dim=5|id=291|\"Link,l=1\"), (dim=5|id=247|\"Link,l=2\"), (dim=2|id=431|\"S=1/2,Site,n=2\")', (dim=2|id=431|\"S=1/2,Site,n=2\"))\n",
      "[3] ((dim=5|id=247|\"Link,l=2\"), (dim=5|id=274|\"Link,l=3\"), (dim=2|id=880|\"S=1/2,Site,n=3\")', (dim=2|id=880|\"S=1/2,Site,n=3\"))\n",
      "[4] ((dim=5|id=274|\"Link,l=3\"), (dim=5|id=846|\"Link,l=4\"), (dim=2|id=391|\"S=1/2,Site,n=4\")', (dim=2|id=391|\"S=1/2,Site,n=4\"))\n",
      "[5] ((dim=5|id=846|\"Link,l=4\"), (dim=2|id=422|\"S=1/2,Site,n=5\")', (dim=2|id=422|\"S=1/2,Site,n=5\"))\n",
      "\n",
      "Index{Int64}[(dim=2|id=240|\"S=1/2,Site,n=1\"), (dim=2|id=431|\"S=1/2,Site,n=2\"), (dim=2|id=880|\"S=1/2,Site,n=3\"), (dim=2|id=391|\"S=1/2,Site,n=4\"), (dim=2|id=422|\"S=1/2,Site,n=5\")]\n"
     ]
    }
   ],
   "source": [
    "N = 5\n",
    "\n",
    "H, sites = heisenberg_mpo(N)\n",
    "\n",
    "println(H)\n",
    "println(sites)"
   ]
  },
  {
   "cell_type": "code",
   "execution_count": 17,
   "id": "055070c5-de7f-46f5-a6da-6678e726e93e",
   "metadata": {},
   "outputs": [
    {
     "data": {
      "text/plain": [
       "MPS\n",
       "[1] ((dim=2|id=240|\"S=1/2,Site,n=1\"), (dim=10|id=148|\"Link,l=1\"))\n",
       "[2] ((dim=10|id=148|\"Link,l=1\"), (dim=2|id=431|\"S=1/2,Site,n=2\"), (dim=8|id=399|\"Link,l=2\"))\n",
       "[3] ((dim=8|id=399|\"Link,l=2\"), (dim=2|id=880|\"S=1/2,Site,n=3\"), (dim=4|id=674|\"Link,l=3\"))\n",
       "[4] ((dim=4|id=674|\"Link,l=3\"), (dim=2|id=391|\"S=1/2,Site,n=4\"), (dim=2|id=350|\"Link,l=4\"))\n",
       "[5] ((dim=2|id=350|\"Link,l=4\"), (dim=2|id=422|\"S=1/2,Site,n=5\"))\n"
      ]
     },
     "execution_count": 17,
     "metadata": {},
     "output_type": "execute_result"
    }
   ],
   "source": [
    "psi0 = randomMPS(sites,10)"
   ]
  },
  {
   "cell_type": "code",
   "execution_count": 6,
   "id": "b37c1cc9-6a5f-4b5b-b1dc-a56c633f3d14",
   "metadata": {},
   "outputs": [
    {
     "data": {
      "text/plain": [
       "1-element Vector{Float64}:\n",
       " 1.0e-10"
      ]
     },
     "execution_count": 6,
     "metadata": {},
     "output_type": "execute_result"
    }
   ],
   "source": [
    "nsweeps = 5\n",
    "maxdim = [10,20,100,100,200]\n",
    "cutoff = [1E-10]"
   ]
  },
  {
   "cell_type": "code",
   "execution_count": 7,
   "id": "37488f40-6016-4734-bd76-129f6f15d812",
   "metadata": {},
   "outputs": [
    {
     "name": "stdout",
     "output_type": "stream",
     "text": [
      "After sweep 1 energy=-1.9278861936370253  maxlinkdim=4 maxerr=8.39E-17 time=14.106\n",
      "After sweep 2 energy=-1.9278862533179897  maxlinkdim=4 maxerr=1.66E-16 time=0.007\n",
      "After sweep 3 energy=-1.927886253317992  maxlinkdim=4 maxerr=1.37E-16 time=0.004\n",
      "After sweep 4 energy=-1.927886253317993  maxlinkdim=4 maxerr=1.32E-16 time=0.019\n",
      "After sweep 5 energy=-1.9278862533179955  maxlinkdim=4 maxerr=1.23E-16 time=0.005\n"
     ]
    },
    {
     "data": {
      "text/plain": [
       "(-1.9278862533179955, MPS\n",
       "[1] ((dim=2|id=219|\"Link,l=1\"), (dim=2|id=240|\"S=1/2,Site,n=1\"))\n",
       "[2] ((dim=4|id=834|\"Link,l=2\"), (dim=2|id=431|\"S=1/2,Site,n=2\"), (dim=2|id=219|\"Link,l=1\"))\n",
       "[3] ((dim=2|id=880|\"S=1/2,Site,n=3\"), (dim=4|id=641|\"Link,l=3\"), (dim=4|id=834|\"Link,l=2\"))\n",
       "[4] ((dim=2|id=391|\"S=1/2,Site,n=4\"), (dim=2|id=938|\"Link,l=4\"), (dim=4|id=641|\"Link,l=3\"))\n",
       "[5] ((dim=2|id=422|\"S=1/2,Site,n=5\"), (dim=2|id=938|\"Link,l=4\"))\n",
       ")"
      ]
     },
     "execution_count": 7,
     "metadata": {},
     "output_type": "execute_result"
    }
   ],
   "source": [
    "energy, psi = dmrg(H,psi0; nsweeps, maxdim, cutoff)"
   ]
  },
  {
   "cell_type": "code",
   "execution_count": 8,
   "id": "e70254c7-f4f2-4058-a0ea-da2b97ee260a",
   "metadata": {},
   "outputs": [
    {
     "name": "stdout",
     "output_type": "stream",
     "text": [
      "[0.5 0.0; 0.0 -0.5][0 1; 0 0][0 0; 1 0][1 0; 0 1]\n"
     ]
    }
   ],
   "source": [
    "S_z = [1 0; 0 -1]/2\n",
    "S_plus = [0 1; 0 0]\n",
    "S_minus = [0 0; 1 0]\n",
    "Identity = [1 0; 0 1] #or Using LinearAlgebra and Matrix{Float64}(I, 2, 2)\n",
    "\n",
    "println(S_z, S_plus, S_minus, Identity)"
   ]
  },
  {
   "cell_type": "code",
   "execution_count": 9,
   "id": "81d94c6b-f41a-4530-83e4-f32d546ae27f",
   "metadata": {},
   "outputs": [],
   "source": [
    "using LinearAlgebra"
   ]
  },
  {
   "cell_type": "code",
   "execution_count": 10,
   "id": "3f33eb71-3f37-4e43-8554-06b4c5213acf",
   "metadata": {},
   "outputs": [
    {
     "data": {
      "text/plain": [
       "Exact_Diagonalization (generic function with 1 method)"
      ]
     },
     "execution_count": 10,
     "metadata": {},
     "output_type": "execute_result"
    }
   ],
   "source": [
    "function SZ_Term(N)\n",
    "    Matrix_Sz = zeros(2^N, 2^N)\n",
    "    \n",
    "    for i=1:N-1\n",
    "        M = Identity\n",
    "        \n",
    "        if i == 1\n",
    "            M = S_z\n",
    "        end\n",
    "\n",
    "        for j=2:N \n",
    "            if j == i || j == i + 1\n",
    "            M = kron(M, S_z)\n",
    "            else\n",
    "            M = kron(M, Identity)        \n",
    "            end\n",
    "        end \n",
    "\n",
    "        Matrix_Sz = Matrix_Sz + M\n",
    "    end\n",
    "\n",
    "    return Matrix_Sz\n",
    "end\n",
    "\n",
    "function SPlus_Minus_Term(N)\n",
    "    Matriz_SP_SM = zeros(2^N, 2^N)\n",
    "    \n",
    "    for i=1:N-1\n",
    "        M = Identity\n",
    "        \n",
    "        if i == 1\n",
    "            M = S_plus\n",
    "        end\n",
    "\n",
    "        M = M/2\n",
    "\n",
    "        for j=2:N \n",
    "            if j == i\n",
    "            M = kron(M, S_plus)\n",
    "            elseif j == i + 1\n",
    "            M = kron(M, S_minus)\n",
    "            else\n",
    "            M = kron(M, Identity)        \n",
    "            end\n",
    "        end \n",
    "\n",
    "        Matriz_SP_SM = Matriz_SP_SM + M\n",
    "    end\n",
    "\n",
    "    return Matriz_SP_SM\n",
    "end\n",
    "\n",
    "function SMinus_Plus_Term(N)\n",
    "    Matriz_SM_SP = zeros(2^N, 2^N)\n",
    "    \n",
    "    for i=1:N-1\n",
    "        M = Identity\n",
    "        \n",
    "        if i == 1\n",
    "            M = S_minus\n",
    "        end\n",
    "\n",
    "        M = M/2\n",
    "\n",
    "        for j=2:N \n",
    "            if j == i\n",
    "            M = kron(M, S_minus)\n",
    "            elseif j == i + 1\n",
    "            M = kron(M, S_plus)\n",
    "            else\n",
    "            M = kron(M, Identity)        \n",
    "            end\n",
    "        end \n",
    "\n",
    "        Matriz_SM_SP = Matriz_SM_SP + M\n",
    "    end\n",
    "\n",
    "    return Matriz_SM_SP\n",
    "end\n",
    "\n",
    "function Exact_Diagonalization(N)\n",
    "\n",
    "    H = SZ_Term(N) + SPlus_Minus_Term(N) + SMinus_Plus_Term(N)\n",
    "    return eigen(H).values, eigen(H).vectors   \n",
    "end"
   ]
  },
  {
   "cell_type": "code",
   "execution_count": 11,
   "id": "32017a01-a5ca-4478-bae3-6613a1801a01",
   "metadata": {},
   "outputs": [],
   "source": [
    "# using Kronecker\n",
    "# kronecker(I, I, I,I)\n",
    "# I⊗I⊗I⊗I"
   ]
  },
  {
   "cell_type": "code",
   "execution_count": 12,
   "id": "6ac924bd-f537-4ee6-86d0-2090a77135d4",
   "metadata": {},
   "outputs": [
    {
     "data": {
      "text/plain": [
       "true"
      ]
     },
     "execution_count": 12,
     "metadata": {},
     "output_type": "execute_result"
    }
   ],
   "source": [
    "SZ_Term(3) == kron(S_z, S_z, Identity) + kron(Identity, S_z, S_z)\n",
    "SPlus_Minus_Term(3) == kron(S_plus, S_minus, Identity)/2 + kron(Identity, S_plus, S_minus)/2\n",
    "SMinus_Plus_Term(3) == kron(S_minus, S_plus, Identity)/2 + kron(Identity, S_minus, S_plus)/2"
   ]
  },
  {
   "cell_type": "code",
   "execution_count": 13,
   "id": "d60e2cd7-5c95-4836-96e9-3acd6b3e0168",
   "metadata": {},
   "outputs": [
    {
     "data": {
      "text/plain": [
       "([-1.9278862533179946, -1.9278862533179932, -1.207106781186551, -1.2071067811865437, -0.8090169943749478, -0.8090169943749477, -0.8090169943749469, -0.8090169943749452, -0.6608185871316489, -0.6608185871316484  …  0.8090169943749472, 0.8090169943749475, 0.8090169943749477, 0.8090169943749481, 1.0, 1.0, 1.0, 1.0, 1.0, 1.0000000000000002], [0.0 0.0 … 0.0 0.0; -3.40136667881805e-21 3.7269449679189215e-19 … 0.0 0.23863476681970214; … ; 0.0 0.0 … 0.0 0.0; 0.0 0.0 … 1.0 0.0])"
      ]
     },
     "execution_count": 13,
     "metadata": {},
     "output_type": "execute_result"
    }
   ],
   "source": [
    "values, vectors = Exact_Diagonalization(5)"
   ]
  },
  {
   "cell_type": "code",
   "execution_count": 14,
   "id": "9f246da2-05fc-4edf-9577-fa9752ed3756",
   "metadata": {},
   "outputs": [
    {
     "data": {
      "text/plain": [
       "32-element Vector{Float64}:\n",
       " -1.9278862533179946\n",
       " -1.9278862533179932\n",
       " -1.207106781186551\n",
       " -1.2071067811865437\n",
       " -0.8090169943749478\n",
       " -0.8090169943749477\n",
       " -0.8090169943749469\n",
       " -0.8090169943749452\n",
       " -0.6608185871316489\n",
       " -0.6608185871316484\n",
       " -0.309016994374949\n",
       " -0.3090169943749465\n",
       " -0.3090169943749461\n",
       "  ⋮\n",
       "  0.588704840449642\n",
       "  0.5887048404496427\n",
       "  0.8090169943749472\n",
       "  0.8090169943749475\n",
       "  0.8090169943749477\n",
       "  0.8090169943749481\n",
       "  1.0\n",
       "  1.0\n",
       "  1.0\n",
       "  1.0\n",
       "  1.0\n",
       "  1.0000000000000002"
      ]
     },
     "execution_count": 14,
     "metadata": {},
     "output_type": "execute_result"
    }
   ],
   "source": [
    "values"
   ]
  },
  {
   "cell_type": "code",
   "execution_count": 16,
   "id": "9edb294c-937d-432f-b10a-d97bc4b070ca",
   "metadata": {},
   "outputs": [
    {
     "name": "stdout",
     "output_type": "stream",
     "text": [
      "After sweep 1 energy=-1.9278861936370253  maxlinkdim=4 maxerr=8.39E-17 time=0.016\n",
      "After sweep 2 energy=-1.9278862533179897  maxlinkdim=4 maxerr=1.66E-16 time=0.025\n",
      "After sweep 3 energy=-1.927886253317992  maxlinkdim=4 maxerr=1.37E-16 time=0.038\n",
      "After sweep 4 energy=-1.927886253317993  maxlinkdim=4 maxerr=1.32E-16 time=0.009\n",
      "After sweep 5 energy=-1.9278862533179955  maxlinkdim=4 maxerr=1.23E-16 time=0.006\n"
     ]
    },
    {
     "data": {
      "text/plain": [
       "(-1.9278862533179955, MPS\n",
       "[1] ((dim=2|id=370|\"Link,l=1\"), (dim=2|id=240|\"S=1/2,Site,n=1\"))\n",
       "[2] ((dim=4|id=729|\"Link,l=2\"), (dim=2|id=431|\"S=1/2,Site,n=2\"), (dim=2|id=370|\"Link,l=1\"))\n",
       "[3] ((dim=2|id=880|\"S=1/2,Site,n=3\"), (dim=4|id=988|\"Link,l=3\"), (dim=4|id=729|\"Link,l=2\"))\n",
       "[4] ((dim=2|id=391|\"S=1/2,Site,n=4\"), (dim=2|id=197|\"Link,l=4\"), (dim=4|id=988|\"Link,l=3\"))\n",
       "[5] ((dim=2|id=422|\"S=1/2,Site,n=5\"), (dim=2|id=197|\"Link,l=4\"))\n",
       ")"
      ]
     },
     "execution_count": 16,
     "metadata": {},
     "output_type": "execute_result"
    }
   ],
   "source": [
    "energy, psi_0 = dmrg(H,psi0; nsweeps, maxdim, cutoff)"
   ]
  },
  {
   "cell_type": "code",
   "execution_count": 18,
   "id": "bf4de388-db2e-4b01-82a3-32016aacd3d8",
   "metadata": {},
   "outputs": [
    {
     "name": "stdout",
     "output_type": "stream",
     "text": [
      "After sweep 1 energy=-1.927885002240556  maxlinkdim=4 maxerr=1.24E-15 time=0.392\n",
      "After sweep 2 energy=-1.9278862533176033  maxlinkdim=4 maxerr=3.33E-17 time=0.004\n",
      "After sweep 3 energy=-1.9278862533179948  maxlinkdim=4 maxerr=1.91E-16 time=0.005\n",
      "After sweep 4 energy=-1.927886253317995  maxlinkdim=4 maxerr=2.03E-16 time=0.031\n",
      "After sweep 5 energy=-1.9278862533179952  maxlinkdim=4 maxerr=1.57E-16 time=0.005\n"
     ]
    },
    {
     "data": {
      "text/plain": [
       "(-1.9278862533179952, MPS\n",
       "[1] ((dim=2|id=441|\"Link,l=1\"), (dim=2|id=240|\"S=1/2,Site,n=1\"))\n",
       "[2] ((dim=4|id=491|\"Link,l=2\"), (dim=2|id=431|\"S=1/2,Site,n=2\"), (dim=2|id=441|\"Link,l=1\"))\n",
       "[3] ((dim=2|id=880|\"S=1/2,Site,n=3\"), (dim=4|id=92|\"Link,l=3\"), (dim=4|id=491|\"Link,l=2\"))\n",
       "[4] ((dim=2|id=391|\"S=1/2,Site,n=4\"), (dim=2|id=100|\"Link,l=4\"), (dim=4|id=92|\"Link,l=3\"))\n",
       "[5] ((dim=2|id=422|\"S=1/2,Site,n=5\"), (dim=2|id=100|\"Link,l=4\"))\n",
       ")"
      ]
     },
     "execution_count": 18,
     "metadata": {},
     "output_type": "execute_result"
    }
   ],
   "source": [
    "energy, psi_1 = dmrg(H,[psi_0], psi0; nsweeps, maxdim, cutoff)"
   ]
  },
  {
   "cell_type": "code",
   "execution_count": 19,
   "id": "6474b370-a906-438e-bdbc-671b6766e764",
   "metadata": {},
   "outputs": [
    {
     "name": "stdout",
     "output_type": "stream",
     "text": [
      "After sweep 1 energy=-1.2071050294411456  maxlinkdim=4 maxerr=4.63E-16 time=0.014\n",
      "After sweep 2 energy=-1.2071067811527736  maxlinkdim=4 maxerr=1.66E-16 time=0.031\n",
      "After sweep 3 energy=-1.2071067811865475  maxlinkdim=4 maxerr=8.54E-17 time=0.040\n",
      "After sweep 4 energy=-1.2071067811865472  maxlinkdim=4 maxerr=1.30E-16 time=0.016\n",
      "After sweep 5 energy=-1.207106781186548  maxlinkdim=4 maxerr=1.65E-16 time=0.012\n"
     ]
    },
    {
     "data": {
      "text/plain": [
       "(-1.207106781186548, MPS\n",
       "[1] ((dim=2|id=402|\"Link,l=1\"), (dim=2|id=240|\"S=1/2,Site,n=1\"))\n",
       "[2] ((dim=4|id=641|\"Link,l=2\"), (dim=2|id=431|\"S=1/2,Site,n=2\"), (dim=2|id=402|\"Link,l=1\"))\n",
       "[3] ((dim=2|id=880|\"S=1/2,Site,n=3\"), (dim=4|id=758|\"Link,l=3\"), (dim=4|id=641|\"Link,l=2\"))\n",
       "[4] ((dim=2|id=391|\"S=1/2,Site,n=4\"), (dim=2|id=959|\"Link,l=4\"), (dim=4|id=758|\"Link,l=3\"))\n",
       "[5] ((dim=2|id=422|\"S=1/2,Site,n=5\"), (dim=2|id=959|\"Link,l=4\"))\n",
       ")"
      ]
     },
     "execution_count": 19,
     "metadata": {},
     "output_type": "execute_result"
    }
   ],
   "source": [
    "energy, psi_2 = dmrg(H,[psi_0, psi_1], psi0; nsweeps, maxdim, cutoff)"
   ]
  },
  {
   "cell_type": "code",
   "execution_count": null,
   "id": "d871fdb1-9641-4030-b585-71463125e8dc",
   "metadata": {},
   "outputs": [],
   "source": []
  }
 ],
 "metadata": {
  "kernelspec": {
   "display_name": "Julia 1.9.2",
   "language": "julia",
   "name": "julia-1.9"
  },
  "language_info": {
   "file_extension": ".jl",
   "mimetype": "application/julia",
   "name": "julia",
   "version": "1.9.2"
  }
 },
 "nbformat": 4,
 "nbformat_minor": 5
}
