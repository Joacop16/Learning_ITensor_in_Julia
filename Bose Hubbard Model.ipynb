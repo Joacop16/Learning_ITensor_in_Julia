{
 "cells": [
  {
   "cell_type": "code",
   "execution_count": 1,
   "id": "f9773c70-2ee4-4c89-a81b-d61bff8bfbc4",
   "metadata": {},
   "outputs": [],
   "source": [
    "using LinearAlgebra"
   ]
  },
  {
   "cell_type": "code",
   "execution_count": 2,
   "id": "9e371280-b33e-4a87-a519-2c553979254f",
   "metadata": {},
   "outputs": [],
   "source": [
    "using Plots\n",
    "using LaTeXStrings #Latex Syntax for Plotting"
   ]
  },
  {
   "cell_type": "code",
   "execution_count": 3,
   "id": "436cf2a2-9db9-4827-934a-2cec5e164947",
   "metadata": {},
   "outputs": [],
   "source": [
    "using ITensors\n",
    "# ITensors.compile()"
   ]
  },
  {
   "cell_type": "markdown",
   "id": "91a1e5ca-2b32-4a1f-9a0a-109d203a78e4",
   "metadata": {},
   "source": [
    "$$ H = -J\\sum_{j = 1}^{N - 1}( b^{\\dagger}_{j}b_{j+1} + h.c.)+\\frac{U}{2} \\sum_{j = 1}^{N} n_{j}(n_{j} - 1)$$"
   ]
  },
  {
   "cell_type": "markdown",
   "id": "914ae0cc-d853-4488-ab84-4c6c509b0084",
   "metadata": {},
   "source": [
    "**Exact Diagonalization:**"
   ]
  },
  {
   "cell_type": "code",
   "execution_count": 4,
   "id": "b84b3134-8680-402f-b989-e363c6685afb",
   "metadata": {},
   "outputs": [
    {
     "data": {
      "text/plain": [
       "Enlarge_Matrix_i_Matrix_j (generic function with 1 method)"
      ]
     },
     "execution_count": 4,
     "metadata": {},
     "output_type": "execute_result"
    }
   ],
   "source": [
    "function Create_Annihilation_Creation_Operators(N)\n",
    "    Creation = zeros(N+1, N+1)\n",
    "    for i=1:N\n",
    "        Creation[i+1,i] = sqrt(i)\n",
    "    end\n",
    "    Annihilation = Adjoint(Creation)\n",
    "    return Creation, Annihilation\n",
    "end\n",
    "\n",
    "function Enlarge_Matrix_site_j(j, N, matrix)\n",
    "    # I⊗...⊗I⊗M⊗I...⊗I\n",
    "\n",
    "    Identity = zeros(size(matrix))\n",
    "    for i=1:size(matrix)[1]\n",
    "        Identity[i,i] = 1\n",
    "    end\n",
    "    \n",
    "    M = Identity\n",
    "    \n",
    "    if j == 1\n",
    "        M = matrix\n",
    "    end    \n",
    "    \n",
    "    for i=2:N \n",
    "        if i == j\n",
    "        M = kron(M, matrix)\n",
    "        else\n",
    "        M = kron(M, Identity)        \n",
    "        end\n",
    "    end\n",
    "\n",
    "    return M\n",
    "end\n",
    "\n",
    "function Enlarge_Matrix_i_Matrix_j(i,j,N, matrix_i, matrix_j)\n",
    "    # I⊗...⊗I⊗M_i⊗I...⊗I⊗M_j⊗I⊗I...⊗I\n",
    "\n",
    "    Identity = zeros(size(matrix_i))\n",
    "    for i=1:size(matrix_i)[1]\n",
    "        Identity[i,i] = 1\n",
    "    end\n",
    "\n",
    "    M = Identity\n",
    "\n",
    "    \n",
    "    if j == 1\n",
    "        M = matrix_j\n",
    "    end    \n",
    "\n",
    "    if i == 1\n",
    "        M = matrix_i\n",
    "    end   \n",
    "    \n",
    "    for k=2:N \n",
    "        if k == j\n",
    "        M = kron(M, matrix_j)\n",
    "        elseif k == i\n",
    "        M = kron(M, matrix_i)\n",
    "        else\n",
    "        M = kron(M, Identity)        \n",
    "        end\n",
    "    end\n",
    "\n",
    "    return M\n",
    "end"
   ]
  },
  {
   "cell_type": "code",
   "execution_count": 5,
   "id": "0ecdcaac-1c97-43b5-b743-c08d140bc24f",
   "metadata": {},
   "outputs": [
    {
     "data": {
      "text/plain": [
       "true"
      ]
     },
     "execution_count": 5,
     "metadata": {},
     "output_type": "execute_result"
    }
   ],
   "source": [
    "#Test: \n",
    "Creation, Annihilation = Create_Annihilation_Creation_Operators(3)\n",
    "Identity = zeros(4,4)\n",
    "for i=1:4\n",
    "    Identity[i,i] = 1\n",
    "end\n",
    "kron(Identity,Creation) == Enlarge_Matrix_site_j(2,2,Creation)\n",
    "kron(Identity,Creation, Annihilation) == Enlarge_Matrix_i_Matrix_j(2,3,3,Creation, Annihilation)"
   ]
  },
  {
   "cell_type": "code",
   "execution_count": 6,
   "id": "f2755d5e-524c-41dd-a76b-6bc91f0f57a0",
   "metadata": {},
   "outputs": [
    {
     "data": {
      "text/plain": [
       "4×4 Matrix{Float64}:\n",
       " 0.0  0.0      0.0      0.0\n",
       " 1.0  0.0      0.0      0.0\n",
       " 0.0  1.41421  0.0      0.0\n",
       " 0.0  0.0      1.73205  0.0"
      ]
     },
     "execution_count": 6,
     "metadata": {},
     "output_type": "execute_result"
    }
   ],
   "source": [
    "Creation"
   ]
  },
  {
   "cell_type": "code",
   "execution_count": 7,
   "id": "a09dcbf8-fed0-4d41-8a58-f450ac08a744",
   "metadata": {},
   "outputs": [
    {
     "data": {
      "text/plain": [
       "Build_ED_Bose_Hubbard_Hamiltonian (generic function with 1 method)"
      ]
     },
     "execution_count": 7,
     "metadata": {},
     "output_type": "execute_result"
    }
   ],
   "source": [
    "function Build_ED_Bose_Hubbard_Hamiltonian(N_Bosons, L_Chain, J, U)\n",
    "    # H = ∑ J(I⊗...⊗I...⊗I⊗bdag⊗b⊗I⊗...I⊗...⊗I + h.c.) +0.5*U(I⊗...⊗I...⊗I⊗n⊗n⊗I⊗...I⊗...⊗I - ⊗...⊗I⊗n⊗I⊗I...⊗I)\n",
    "\n",
    "    H = zeros((N_Bosons+1)^L_Chain, (N_Bosons+1)^L_Chain)\n",
    "\n",
    "    Creation, Annihilation = Create_Annihilation_Creation_Operators(N_Bosons)\n",
    "    Particle_Number_Op = Creation*Annihilation\n",
    "\n",
    "    for i=1:L_Chain-1\n",
    "        j = i + 1 #nearest neighbor in 1D. Let's consider just OBC\n",
    "        BdagB_Term = Enlarge_Matrix_i_Matrix_j(i,j,L_Chain, Creation, Annihilation)\n",
    "        BBdag_Term = Enlarge_Matrix_i_Matrix_j(i,j,L_Chain, Annihilation, Creation)\n",
    "        H = H -J*(BdagB_Term + BBdag_Term)\n",
    "    end\n",
    "\n",
    "    for i=1:L_Chain\n",
    "        nini_Term =  Enlarge_Matrix_site_j(i, L_Chain, Particle_Number_Op*Particle_Number_Op)\n",
    "        ni_Term = Enlarge_Matrix_site_j(i, L_Chain, Particle_Number_Op)\n",
    "        H = H + 0.5*U*(nini_Term - ni_Term)\n",
    "    end    \n",
    "\n",
    "    return H\n",
    "end"
   ]
  },
  {
   "cell_type": "code",
   "execution_count": 8,
   "id": "f62126f8-662e-4d0f-97da-a3d023af09d8",
   "metadata": {},
   "outputs": [
    {
     "data": {
      "text/plain": [
       "4096-element Vector{Float64}:\n",
       " -9.48479861742051\n",
       " -9.355368957128752\n",
       " -9.276847906537574\n",
       " -8.930356840283165\n",
       " -8.672987764998894\n",
       " -8.379190815142868\n",
       " -8.337229057949354\n",
       " -8.244158663165601\n",
       " -8.054206185723405\n",
       " -7.9891491546176585\n",
       " -7.59079692649008\n",
       " -7.398754002944134\n",
       " -7.383563887995319\n",
       "  ⋮\n",
       " 21.552041784102897\n",
       " 21.638733732371485\n",
       " 21.742749315836093\n",
       " 22.003406729257534\n",
       " 22.619048826875883\n",
       " 22.680775179505204\n",
       " 22.94842339557522\n",
       " 23.061207708702774\n",
       " 23.5831113243445\n",
       " 24.080837270141828\n",
       " 24.56912961626505\n",
       " 24.64852700401051"
      ]
     },
     "execution_count": 8,
     "metadata": {},
     "output_type": "execute_result"
    }
   ],
   "source": [
    "H = Build_ED_Bose_Hubbard_Hamiltonian(3, 6, 1, 1)\n",
    "Eigenvalues = eigen(H).values"
   ]
  },
  {
   "cell_type": "code",
   "execution_count": 9,
   "id": "816e94c8-d280-4d94-b6f0-4bec3ca14ab2",
   "metadata": {},
   "outputs": [
    {
     "name": "stdout",
     "output_type": "stream",
     "text": [
      "-9.48479861742051-9.355368957128752-9.276847906537574"
     ]
    }
   ],
   "source": [
    "print(Eigenvalues[1], Eigenvalues[2], Eigenvalues[3])"
   ]
  },
  {
   "cell_type": "markdown",
   "id": "ff3d6488-aead-4ada-97e3-a4e3d0c4829c",
   "metadata": {},
   "source": [
    "**Tensor Networks:**"
   ]
  },
  {
   "cell_type": "code",
   "execution_count": 10,
   "id": "3081fd88-b210-45fd-aca8-0be4f961094c",
   "metadata": {},
   "outputs": [
    {
     "data": {
      "text/plain": [
       "Build_MPO_Bose_Hubbard_Hamiltonian (generic function with 1 method)"
      ]
     },
     "execution_count": 10,
     "metadata": {},
     "output_type": "execute_result"
    }
   ],
   "source": [
    "function Build_MPO_Bose_Hubbard_Hamiltonian(N_Bosons, L_Chain, J, U)\n",
    "    # H = ∑ J(I⊗...⊗I...⊗I⊗bdag⊗b⊗I⊗...I⊗...⊗I + h.c.) +0.5*U(I⊗...⊗I...⊗I⊗n⊗n⊗I⊗...I⊗...⊗I - ⊗...⊗I⊗n⊗I⊗I...⊗I)\n",
    "\n",
    "    sites = siteinds(\"Qudit\",L_Chain, dim = N_Bosons + 1) #extra parameter: conserve_qns = true  \n",
    "    # Input the operator terms \n",
    "    \n",
    "    os = OpSum() \n",
    "    for i=1:L_Chain-1\n",
    "        os += -J,\"A\",i,\"Adag\",i+1 \n",
    "        os += -J,\"Adag\",i,\"A\",i+1 \n",
    "    end \n",
    "\n",
    "    for i=1:L_Chain\n",
    "        os += 0.5*U,\"N * N\",i\n",
    "        os += -0.5*U,\"N\",i\n",
    "    end \n",
    "    \n",
    "    # Convert these terms to an MPO \n",
    "    H = MPO(os,sites)\n",
    "    return H, sites\n",
    "end"
   ]
  },
  {
   "cell_type": "code",
   "execution_count": 11,
   "id": "0786dfb0-36f6-45a2-868e-a6c3ea738829",
   "metadata": {},
   "outputs": [
    {
     "name": "stdout",
     "output_type": "stream",
     "text": [
      "After sweep 1 energy=-9.278177087888508  maxlinkdim=10 maxerr=3.70E-03 time=13.231\n",
      "After sweep 2 energy=-9.459640110507083  maxlinkdim=20 maxerr=7.00E-07 time=0.047\n",
      "After sweep 3 energy=-9.475800264208216  maxlinkdim=48 maxerr=9.69E-11 time=0.127\n",
      "After sweep 4 energy=-9.484354607593012  maxlinkdim=48 maxerr=8.60E-11 time=0.201\n",
      "After sweep 5 energy=-9.484759213479977  maxlinkdim=43 maxerr=9.40E-11 time=0.175\n",
      "After sweep 6 energy=-9.4847942315601  maxlinkdim=40 maxerr=9.38E-11 time=0.136\n",
      "After sweep 7 energy=-9.484798385620225  maxlinkdim=39 maxerr=7.52E-11 time=0.114\n",
      "After sweep 8 energy=-9.484798610409758  maxlinkdim=38 maxerr=9.64E-11 time=0.127\n",
      "After sweep 9 energy=-9.484798616215576  maxlinkdim=38 maxerr=7.75E-11 time=0.099\n",
      "After sweep 10 energy=-9.484798616389247  maxlinkdim=38 maxerr=6.77E-11 time=0.104\n",
      "After sweep 1 energy=-9.033549826049029  maxlinkdim=10 maxerr=1.42E-03 time=0.212\n",
      "After sweep 2 energy=-9.266520052346792  maxlinkdim=20 maxerr=1.26E-06 time=0.030\n",
      "After sweep 3 energy=-9.284931056180948  maxlinkdim=49 maxerr=9.10E-11 time=0.159\n",
      "After sweep 4 energy=-9.295345469178422  maxlinkdim=51 maxerr=9.97E-11 time=0.185\n",
      "After sweep 5 energy=-9.30766953001332  maxlinkdim=53 maxerr=8.55E-11 time=0.179\n",
      "After sweep 6 energy=-9.321173418678608  maxlinkdim=54 maxerr=7.78E-11 time=0.207\n",
      "After sweep 7 energy=-9.33389685191785  maxlinkdim=54 maxerr=9.96E-11 time=0.205\n",
      "After sweep 8 energy=-9.343952796085606  maxlinkdim=54 maxerr=7.69E-11 time=0.205\n",
      "After sweep 9 energy=-9.350498684850352  maxlinkdim=53 maxerr=9.02E-11 time=0.182\n",
      "After sweep 10 energy=-9.353868632235045  maxlinkdim=51 maxerr=9.93E-11 time=0.184\n",
      "After sweep 1 energy=-8.466799527064321  maxlinkdim=10 maxerr=1.46E-03 time=0.041\n",
      "After sweep 2 energy=-8.8819404210027  maxlinkdim=20 maxerr=3.27E-06 time=0.066\n",
      "After sweep 3 energy=-9.019669722675795  maxlinkdim=58 maxerr=8.04E-11 time=0.242\n",
      "After sweep 4 energy=-9.20669488849857  maxlinkdim=59 maxerr=7.83E-11 time=0.254\n",
      "After sweep 5 energy=-9.266955891277037  maxlinkdim=58 maxerr=9.03E-11 time=0.261\n",
      "After sweep 6 energy=-9.27755568477026  maxlinkdim=53 maxerr=9.27E-11 time=0.237\n",
      "After sweep 7 energy=-9.278150356093636  maxlinkdim=44 maxerr=9.12E-11 time=0.196\n",
      "After sweep 8 energy=-9.278159800143346  maxlinkdim=38 maxerr=8.65E-11 time=0.173\n",
      "After sweep 9 energy=-9.278159949990009  maxlinkdim=36 maxerr=9.03E-11 time=0.147\n",
      "After sweep 10 energy=-9.278159952755809  maxlinkdim=36 maxerr=7.96E-11 time=0.144\n"
     ]
    },
    {
     "data": {
      "text/plain": [
       "(-9.278159952755809, MPS\n",
       "[1] ((dim=4|id=413|\"Link,l=1\"), (dim=4|id=948|\"Qudit,Site,n=1\"))\n",
       "[2] ((dim=16|id=154|\"Link,l=2\"), (dim=4|id=298|\"Qudit,Site,n=2\"), (dim=4|id=413|\"Link,l=1\"))\n",
       "[3] ((dim=4|id=68|\"Qudit,Site,n=3\"), (dim=36|id=148|\"Link,l=3\"), (dim=16|id=154|\"Link,l=2\"))\n",
       "[4] ((dim=4|id=833|\"Qudit,Site,n=4\"), (dim=16|id=279|\"Link,l=4\"), (dim=36|id=148|\"Link,l=3\"))\n",
       "[5] ((dim=4|id=913|\"Qudit,Site,n=5\"), (dim=4|id=463|\"Link,l=5\"), (dim=16|id=279|\"Link,l=4\"))\n",
       "[6] ((dim=4|id=358|\"Qudit,Site,n=6\"), (dim=4|id=463|\"Link,l=5\"))\n",
       ")"
      ]
     },
     "execution_count": 11,
     "metadata": {},
     "output_type": "execute_result"
    }
   ],
   "source": [
    "H_MPO, sites = Build_MPO_Bose_Hubbard_Hamiltonian(3,6,1,1)\n",
    "\n",
    "nsweeps = 10\n",
    "maxdim = [10,20,100,200,200] #maxdim - integer or array of integers specifying the maximum size allowed for the bond dimension or rank of the MPS being optimized\n",
    "cutoff = [1E-10] #maxdim - integer or array of integers specifying the maximum size allowed for the bond dimension or rank of the MPS being optimized\n",
    "\n",
    "energy_ground_state, psi_ground_state = dmrg(H_MPO,randomMPS(sites,4); nsweeps, maxdim, cutoff) #randomMPS(sites,4) is the start point. Is a random MPS with bond dimension = number of bosons + 1\n",
    "energy_1_excited_state, psi_1_excited_state = dmrg(H_MPO,[psi_ground_state], randomMPS(sites,4); nsweeps, maxdim, cutoff) \n",
    "energy_2_excited_state, psi_2_excited_state = dmrg(H_MPO,[psi_ground_state, psi_1_excited_state], randomMPS(sites,4); nsweeps, maxdim, cutoff) "
   ]
  },
  {
   "cell_type": "code",
   "execution_count": 12,
   "id": "34f8aa73-7c62-48bf-a722-2c1407429068",
   "metadata": {},
   "outputs": [],
   "source": [
    "# ? randomMPS #Important if we want to include the conservation of nqs"
   ]
  },
  {
   "cell_type": "code",
   "execution_count": 13,
   "id": "e02d78d2-4f8f-4dd0-be9a-d03f3e997340",
   "metadata": {},
   "outputs": [
    {
     "name": "stdout",
     "output_type": "stream",
     "text": [
      "-9.48479861742051-9.355368957128752-9.276847906537574"
     ]
    }
   ],
   "source": [
    "print(Eigenvalues[1], Eigenvalues[2], Eigenvalues[3]) #Using ED"
   ]
  },
  {
   "cell_type": "code",
   "execution_count": 14,
   "id": "fa7f89ab-b438-4069-b1d2-7137b7a24c5d",
   "metadata": {},
   "outputs": [
    {
     "name": "stdout",
     "output_type": "stream",
     "text": [
      "-9.484798616389247-9.353868632235045-9.278159952755809\n"
     ]
    }
   ],
   "source": [
    "println(energy_ground_state, energy_1_excited_state, energy_2_excited_state) #Using ITensors"
   ]
  },
  {
   "cell_type": "code",
   "execution_count": null,
   "id": "91787ba3-a6a8-484e-8003-74299f1ee5c3",
   "metadata": {},
   "outputs": [],
   "source": []
  },
  {
   "cell_type": "code",
   "execution_count": null,
   "id": "6e4e6694-21c7-42c4-b9c3-3a5220981d3c",
   "metadata": {},
   "outputs": [],
   "source": []
  }
 ],
 "metadata": {
  "kernelspec": {
   "display_name": "Julia 1.9.2",
   "language": "julia",
   "name": "julia-1.9"
  },
  "language_info": {
   "file_extension": ".jl",
   "mimetype": "application/julia",
   "name": "julia",
   "version": "1.9.2"
  }
 },
 "nbformat": 4,
 "nbformat_minor": 5
}
