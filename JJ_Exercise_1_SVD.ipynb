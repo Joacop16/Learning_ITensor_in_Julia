{
 "cells": [
  {
   "cell_type": "markdown",
   "id": "167b2995",
   "metadata": {},
   "source": [
    "Load packages to be used"
   ]
  },
  {
   "cell_type": "code",
   "execution_count": null,
   "id": "ccf5d31b",
   "metadata": {},
   "outputs": [],
   "source": [
    "using LinearAlgebra"
   ]
  },
  {
   "cell_type": "markdown",
   "id": "91f1684a",
   "metadata": {},
   "source": [
    "Define a $3\\times4$ matrix"
   ]
  },
  {
   "cell_type": "markdown",
   "id": "88e68b4d",
   "metadata": {},
   "source": [
    "Reshape it as a $2\\times6$ matrix"
   ]
  },
  {
   "cell_type": "markdown",
   "id": "63de931b",
   "metadata": {},
   "source": [
    "Create a $n\\times n$ matrix. I recommend $n=5$ for simplicity"
   ]
  },
  {
   "cell_type": "markdown",
   "id": "e0e236cf",
   "metadata": {},
   "source": [
    "Obtain its eigenvalues (matrix $D$) and eigenvectors (matrix $V$)"
   ]
  },
  {
   "cell_type": "markdown",
   "id": "b5d72f53",
   "metadata": {},
   "source": [
    "Check that $A = VDV^{-1}$"
   ]
  },
  {
   "cell_type": "markdown",
   "id": "fe4647d8",
   "metadata": {},
   "source": [
    "Obtain its SVD"
   ]
  },
  {
   "cell_type": "markdown",
   "id": "d4ef23ac",
   "metadata": {},
   "source": [
    "Multiply the matrices $U$, $S$ and $V^{\\dagger}$ and reobtain the original matrix"
   ]
  },
  {
   "cell_type": "markdown",
   "id": "a9f410dd",
   "metadata": {},
   "source": [
    "Approximate matrix A taking $\\chi<n$ singular values"
   ]
  },
  {
   "cell_type": "markdown",
   "id": "ca0ea2b0",
   "metadata": {},
   "source": [
    "Calculate Frobenius norm of the difference of original and approximated matrices"
   ]
  },
  {
   "cell_type": "markdown",
   "id": "ddcef392",
   "metadata": {},
   "source": [
    "Calculate error of the approximation with normalized singular values. If they are not normalized, the result should be identical to the Frobenius norm calculated above"
   ]
  },
  {
   "cell_type": "markdown",
   "id": "70e24328",
   "metadata": {},
   "source": [
    "Calculate eigenvalues and eigenvectors of approximated matrix. Compare with original ones."
   ]
  },
  {
   "cell_type": "markdown",
   "id": "9bc307d5",
   "metadata": {},
   "source": [
    "End of exercise!!!"
   ]
  }
 ],
 "metadata": {
  "kernelspec": {
   "display_name": "Julia 1.7.3",
   "language": "julia",
   "name": "julia-1.7"
  },
  "language_info": {
   "file_extension": ".jl",
   "mimetype": "application/julia",
   "name": "julia",
   "version": "1.7.3"
  }
 },
 "nbformat": 4,
 "nbformat_minor": 5
}
