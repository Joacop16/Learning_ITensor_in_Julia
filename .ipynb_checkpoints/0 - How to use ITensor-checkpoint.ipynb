{
 "cells": [
  {
   "cell_type": "markdown",
   "id": "3bd39f3c-1009-4997-b0be-aa1b67b77148",
   "metadata": {},
   "source": [
    "#### Install ITensor"
   ]
  },
  {
   "cell_type": "code",
   "execution_count": 1,
   "id": "b4607e51-e94e-4028-8693-6ad25031157e",
   "metadata": {},
   "outputs": [],
   "source": [
    "# using Pkg\n",
    "# Pkg.add(\"ITensors\")"
   ]
  },
  {
   "cell_type": "markdown",
   "id": "e1e99ecc-fe19-407b-be0e-2d671f41c5b9",
   "metadata": {},
   "source": [
    "#### Load ITensor"
   ]
  },
  {
   "cell_type": "code",
   "execution_count": 2,
   "id": "9132b2df-9e7e-4c43-94ea-af20f091d4b2",
   "metadata": {},
   "outputs": [],
   "source": [
    "using ITensors"
   ]
  },
  {
   "cell_type": "markdown",
   "id": "032f77fe-f9a8-49de-9996-7fa4d6fff544",
   "metadata": {},
   "source": [
    "#### Index() and Itensor() functions\n",
    "\n",
    "- **Index()**: Define an Index represents a single tensor index with fixed dimension dim. \n",
    "\n",
    "- **Itensor()**: Constructor for an ITensor from a TensorStorage and a set of indices."
   ]
  },
  {
   "cell_type": "code",
   "execution_count": 3,
   "id": "211f5d1e-2960-4e49-98cd-c21884fad194",
   "metadata": {},
   "outputs": [],
   "source": [
    "# ?ITensor #This is how you ask for help in Julia"
   ]
  },
  {
   "cell_type": "code",
   "execution_count": 4,
   "id": "2090cbd5-0e9e-4542-847c-274539402003",
   "metadata": {},
   "outputs": [],
   "source": [
    "# ?Index #This is how you ask for help in Julia"
   ]
  },
  {
   "cell_type": "markdown",
   "id": "34a0bc60-fe61-4709-9b98-a57d039acf05",
   "metadata": {},
   "source": [
    "**Example of usage**:"
   ]
  },
  {
   "cell_type": "code",
   "execution_count": 5,
   "id": "9e0ce45f-16fc-417b-9b57-f50defc8393e",
   "metadata": {},
   "outputs": [
    {
     "name": "stdout",
     "output_type": "stream",
     "text": [
      "ITensor ord=2\n",
      "Dim 1: (dim=3|id=400)\n",
      "Dim 2: (dim=3|id=151)\n",
      "NDTensors.Dense{Int64, Vector{Int64}}\n",
      " 3×3\n",
      " 0  2  0\n",
      " 0  0  0\n",
      " 0  0  0\n"
     ]
    }
   ],
   "source": [
    "i = Index(3) \n",
    "j = Index(3)\n",
    "\n",
    "A = ITensor(i,j) \n",
    "\n",
    "A[i=>1, j => 2] = 2 #This is how we set the elements inside the tensor (it does not matter the order).\n",
    "\n",
    "println(A)"
   ]
  },
  {
   "cell_type": "code",
   "execution_count": 6,
   "id": "7f7183fb-e313-47f4-b2c1-54df55e275b0",
   "metadata": {},
   "outputs": [
    {
     "data": {
      "text/plain": [
       "2"
      ]
     },
     "metadata": {},
     "output_type": "display_data"
    }
   ],
   "source": [
    "A[i=>1,j=>2] #This is how we can get the elements inside the tensor  (it does not matter the order)."
   ]
  },
  {
   "cell_type": "markdown",
   "id": "38e43ec3-49d9-426d-a129-8147d0b9089c",
   "metadata": {},
   "source": [
    "**Matrix Example**:"
   ]
  },
  {
   "cell_type": "markdown",
   "id": "2c379d5f-4681-47e2-be75-6f8fa87584cd",
   "metadata": {},
   "source": [
    "Let's play a little bith with this. Consider the tensor product: $A_{ij}*B_{ik}$"
   ]
  },
  {
   "cell_type": "code",
   "execution_count": 7,
   "id": "0a23de52-f637-4ead-a2a9-e164c4167869",
   "metadata": {},
   "outputs": [],
   "source": [
    "i = Index(3)\n",
    "j = Index(3)\n",
    "k = Index(3)\n",
    "\n",
    "A = ITensor(i,j) \n",
    "B = ITensor(i,k) \n",
    "\n",
    "for j_index in 1:dim(j)\n",
    "    A[i=>1, j => j_index] = j_index\n",
    "    A[i=>2, j => j_index] = 3 + j_index\n",
    "    A[i=>3, j => j_index] = 6 + j_index\n",
    "end\n",
    "\n",
    "for k_index in 1:dim(j)\n",
    "    B[i=>1, k => k_index] = (k_index)/10\n",
    "    B[i=>2, k => k_index] = (3 + k_index)/10\n",
    "    B[i=>3, k => k_index] = (6 + k_index)/10\n",
    "end"
   ]
  },
  {
   "cell_type": "code",
   "execution_count": 8,
   "id": "f12dd410-a1c3-43b9-ae7c-4204d8ce4a98",
   "metadata": {},
   "outputs": [
    {
     "name": "stdout",
     "output_type": "stream",
     "text": [
      "ITensor ord=2\n",
      "Dim 1: (dim=3|id=333)\n",
      "Dim 2: (dim=3|id=57)\n",
      "NDTensors.Dense{Int64, Vector{Int64}}\n",
      " 3×3\n",
      " 1  2  3\n",
      " 4  5  6\n",
      " 7  8  9\n"
     ]
    }
   ],
   "source": [
    "println(A)"
   ]
  },
  {
   "cell_type": "code",
   "execution_count": 9,
   "id": "56267531-e8aa-49da-a780-8f05e1f0979d",
   "metadata": {},
   "outputs": [
    {
     "name": "stdout",
     "output_type": "stream",
     "text": [
      "ITensor ord=2\n",
      "Dim 1: (dim=3|id=333)\n",
      "Dim 2: (dim=3|id=938)\n",
      "NDTensors.Dense{Float64, Vector{Float64}}\n",
      " 3×3\n",
      " 0.1  0.2  0.3\n",
      " 0.4  0.5  0.6\n",
      " 0.7  0.8  0.9\n"
     ]
    }
   ],
   "source": [
    "println(B)"
   ]
  },
  {
   "cell_type": "markdown",
   "id": "6955674f-c2e0-4381-96ad-d57f7ea29f72",
   "metadata": {},
   "source": [
    "I choose this values just because all of them are different. Let's try to contract the indixes using Itensor "
   ]
  },
  {
   "cell_type": "code",
   "execution_count": 10,
   "id": "4c112863-1095-411b-b138-9297f3c2b1b3",
   "metadata": {},
   "outputs": [
    {
     "name": "stdout",
     "output_type": "stream",
     "text": [
      "ITensor ord=2\n",
      "Dim 1: (dim=3|id=57)\n",
      "Dim 2: (dim=3|id=938)\n",
      "NDTensors.Dense{Float64, Vector{Float64}}\n",
      " 3×3\n",
      " 6.6   7.800000000000001   9.0\n",
      " 7.8   9.3                10.8\n",
      " 9.0  10.8                12.6\n"
     ]
    }
   ],
   "source": [
    "C = A*B #Use * is how ITensor do the contraction of the common indexes between A and B.\n",
    "\n",
    "println(C)"
   ]
  },
  {
   "cell_type": "markdown",
   "id": "4965a3c5-fae1-463d-a435-b3a487b4a7b9",
   "metadata": {},
   "source": [
    "Let's try exactly the same without using Itensor, just Julia:"
   ]
  },
  {
   "cell_type": "code",
   "execution_count": 11,
   "id": "a5e64ac2-5056-4753-992e-0ca3ba5b88e7",
   "metadata": {},
   "outputs": [],
   "source": [
    "m, n = 3,3\n",
    "A_matrix = fill(0.0, (3,3))\n",
    "B_matrix = fill(0.0, (3,3))\n",
    "\n",
    "for j_index in 1:3, i_index in 1:3\n",
    "        A_matrix[i_index, j_index] = A[i=>i_index,j=>j_index]\n",
    "end\n",
    "\n",
    "for k_index in 1:3, i_index in 1:3\n",
    "        B_matrix[i_index, k_index] = B[i=>i_index,k=>k_index]\n",
    "end"
   ]
  },
  {
   "cell_type": "code",
   "execution_count": 12,
   "id": "a988d3b8-f669-4351-aca1-6b7db9c1eebe",
   "metadata": {},
   "outputs": [
    {
     "data": {
      "text/plain": [
       "3×3 Matrix{Float64}:\n",
       " 1.0  2.0  3.0\n",
       " 4.0  5.0  6.0\n",
       " 7.0  8.0  9.0"
      ]
     },
     "metadata": {},
     "output_type": "display_data"
    }
   ],
   "source": [
    "A_matrix #i,j"
   ]
  },
  {
   "cell_type": "code",
   "execution_count": 13,
   "id": "c59839de-d0aa-41a8-bed8-33db94769157",
   "metadata": {},
   "outputs": [
    {
     "data": {
      "text/plain": [
       "3×3 Matrix{Float64}:\n",
       " 0.1  0.2  0.3\n",
       " 0.4  0.5  0.6\n",
       " 0.7  0.8  0.9"
      ]
     },
     "metadata": {},
     "output_type": "display_data"
    }
   ],
   "source": [
    "B_matrix #k,i"
   ]
  },
  {
   "cell_type": "markdown",
   "id": "db44e088-a56f-4ea8-828a-37bfd3f41d57",
   "metadata": {},
   "source": [
    "Here we do not have an index, just matrixes. We must be careful thinking what index we can to contract, and do the operation that we really want.\n",
    "\n",
    "It is not just A_matrix*B_matrix"
   ]
  },
  {
   "cell_type": "code",
   "execution_count": 14,
   "id": "11a5a49e-0834-4367-9a6e-50b93fb7e3dc",
   "metadata": {},
   "outputs": [
    {
     "data": {
      "text/plain": [
       "3×3 Matrix{Float64}:\n",
       "  3.0   3.6   4.2\n",
       "  6.6   8.1   9.6\n",
       " 10.2  12.6  15.0"
      ]
     },
     "metadata": {},
     "output_type": "display_data"
    }
   ],
   "source": [
    "A_matrix*B_matrix"
   ]
  },
  {
   "cell_type": "markdown",
   "id": "0b6fd745-40af-4e4b-960e-267670d925d6",
   "metadata": {},
   "source": [
    "We want $A_{ij}*B_{ik}$, and $(A*B)_{ik}$ = $A_{ij}*B_{jk}$, that is very different.\n",
    "\n",
    "So $A_{ij}*B_{ik}$ = $A^{T}_{ji}*B_{ik}$ = $(A^{T}*B)_{jk}$"
   ]
  },
  {
   "cell_type": "code",
   "execution_count": 15,
   "id": "79dfc2bc-fe20-434c-9e07-29f0282c10e6",
   "metadata": {},
   "outputs": [
    {
     "data": {
      "text/plain": [
       "3×3 Matrix{Float64}:\n",
       " 6.6   7.8   9.0\n",
       " 7.8   9.3  10.8\n",
       " 9.0  10.8  12.6"
      ]
     },
     "metadata": {},
     "output_type": "display_data"
    }
   ],
   "source": [
    "transpose(A_matrix)*B_matrix"
   ]
  },
  {
   "cell_type": "markdown",
   "id": "5ce9777b-c828-4a94-b634-af1f6cc5c6e4",
   "metadata": {},
   "source": [
    "We got the same result, but was harder without ITensor."
   ]
  },
  {
   "cell_type": "markdown",
   "id": "3826cf50-f61e-4e7b-873e-4776ba0dcf1d",
   "metadata": {},
   "source": [
    "#### randomITensor() function\n",
    "\n",
    "Create an ITensor with normally-distributed random elements instead of specific values."
   ]
  },
  {
   "cell_type": "code",
   "execution_count": 17,
   "id": "d359c1ed-9120-4e2a-a050-b7e4cf7d8ee1",
   "metadata": {},
   "outputs": [
    {
     "name": "stdout",
     "output_type": "stream",
     "text": [
      "ITensor ord=3\n",
      "Dim 1: (dim=3|id=333)\n",
      "Dim 2: (dim=3|id=57)\n",
      "Dim 3: (dim=3|id=938)\n",
      "NDTensors.Dense{Float64, Vector{Float64}}\n",
      " 3×3×3\n",
      "[:, :, 1] =\n",
      " -0.6462042812779621   -0.4372550613876982  -0.367793931807512\n",
      " -0.03623981077478388   0.4890343045960226  -1.1531261435428317\n",
      " -1.82878064669124      0.7972959473515198  -1.3691381309185018\n",
      "\n",
      "[:, :, 2] =\n",
      "  0.7266013930013304   -0.8095646469427081   -0.29282864131315794\n",
      " -0.04545220715048151  -0.43604605846561517  -0.24593015378134592\n",
      "  1.7586023997799958   -1.5895115069818313    0.722504325466795\n",
      "\n",
      "[:, :, 3] =\n",
      "  1.1971275868827749  0.04882787599002626  0.3799386541852112\n",
      " -0.2637516865478435  0.5552767223431475   0.17371942639858803\n",
      "  0.5262502661798915  0.42411055636598854  0.05425781547345989\n"
     ]
    }
   ],
   "source": [
    "A = randomITensor(i,j,k)\n",
    "\n",
    "println(A)"
   ]
  },
  {
   "cell_type": "markdown",
   "id": "0ec6f796-5b53-4aaa-ac5f-d4b5b2c3feda",
   "metadata": {},
   "source": [
    "#### Linear combinations of ITensors\n",
    "\n",
    "ITensors may also be subtracted and multiplied by scalars, including complex scalars, for example:"
   ]
  },
  {
   "cell_type": "code",
   "execution_count": 18,
   "id": "b53e93ac-11af-44dc-8fa5-8183b5632da8",
   "metadata": {},
   "outputs": [
    {
     "data": {
      "text/plain": [
       "ITensor ord=3 (dim=3|id=938) (dim=3|id=333) (dim=3|id=57)\n",
       "NDTensors.Dense{Float64, Vector{Float64}}"
      ]
     },
     "metadata": {},
     "output_type": "display_data"
    }
   ],
   "source": [
    "A = randomITensor(i,j,k)\n",
    "B = randomITensor(k,i,j) "
   ]
  },
  {
   "cell_type": "code",
   "execution_count": 19,
   "id": "be94559e-aa71-4a80-8033-867130dacdcc",
   "metadata": {},
   "outputs": [
    {
     "data": {
      "text/plain": [
       "ITensor ord=3 (dim=3|id=333) (dim=3|id=57) (dim=3|id=938)\n",
       "NDTensors.Dense{ComplexF64, Vector{ComplexF64}}"
      ]
     },
     "metadata": {},
     "output_type": "display_data"
    }
   ],
   "source": [
    "C = 4*A - B/2 \n",
    "D = A + 3.0im * B"
   ]
  },
  {
   "cell_type": "code",
   "execution_count": 20,
   "id": "ba23f1d8-cda2-4172-b0bb-73695c2ece1c",
   "metadata": {},
   "outputs": [
    {
     "name": "stdout",
     "output_type": "stream",
     "text": [
      "ITensor ord=3\n",
      "Dim 1: (dim=3|id=333)\n",
      "Dim 2: (dim=3|id=57)\n",
      "Dim 3: (dim=3|id=938)\n",
      "NDTensors.Dense{ComplexF64, Vector{ComplexF64}}\n",
      " 3×3×3\n",
      "[:, :, 1] =\n",
      "   0.6848838887500948 + 2.354366121124063im     0.8363311959249904 + 2.8331985634888857im  -1.6695441274388676 + 0.8241259118993776im\n",
      " -0.39316682277310455 + 0.9591361811354959im    0.5661551239901375 + 2.226809220578462im   -1.4488210204710823 + 6.830194869514882im\n",
      "  0.11842693141250318 - 0.44632219993415695im  -1.1634852348054734 + 1.6302925486753534im   -0.891307031789924 - 0.8360100988734497im\n",
      "\n",
      "[:, :, 2] =\n",
      " -0.23608012160369624 - 2.320233128291053im   0.37600570351104895 - 3.5290625083935767im  -1.4563782367634164 - 2.1070092265704234im\n",
      "   1.5777951578395804 + 1.4184568968973101im   0.8447823569860143 - 1.6693230549880433im   0.8752081788879214 + 0.5009467674590523im\n",
      "  0.38461667556396917 + 5.581121459544135im   -0.1193206693037875 + 1.3564905445284083im  0.07994311182185256 - 2.3544274256798934im\n",
      "\n",
      "[:, :, 3] =\n",
      "  2.2257997752256795 + 3.070377462822632im   -1.2549816941662328 - 2.066081283176792im    1.4297568246878432 - 5.227729974317553im\n",
      "   0.603640224063256 - 2.172756730210983im   -0.8445369582281914 - 1.3749049548225751im  -1.9586988273000216 + 3.3949818365596087im\n",
      " -0.3549729304976287 + 1.3101738795260127im  0.43168996015540867 - 3.6865901077636276im  0.33674006429113146 + 1.521644314301248im\n"
     ]
    }
   ],
   "source": [
    "println(D)"
   ]
  },
  {
   "cell_type": "markdown",
   "id": "95b2f515-0f1b-4218-9fcb-debbdf9553c2",
   "metadata": {},
   "source": [
    "This is just possible because A and B have the same indexes:"
   ]
  },
  {
   "cell_type": "code",
   "execution_count": 21,
   "id": "bf822f38-d993-449a-be5d-67989fae018e",
   "metadata": {},
   "outputs": [
    {
     "data": {
      "text/plain": [
       "ITensor ord=3 (dim=3|id=938) (dim=3|id=333) (dim=3|id=210)\n",
       "NDTensors.Dense{Float64, Vector{Float64}}"
      ]
     },
     "metadata": {},
     "output_type": "display_data"
    }
   ],
   "source": [
    "l = Index(3)\n",
    "\n",
    "A = randomITensor(i,j,k)\n",
    "B = randomITensor(k,i,l) "
   ]
  },
  {
   "cell_type": "code",
   "execution_count": 22,
   "id": "ad43b9f2-0154-417e-946c-7fcbefe39cc0",
   "metadata": {},
   "outputs": [
    {
     "ename": "ErrorException",
     "evalue": "You are trying to add an ITensor with indices:\n\n((dim=3|id=938), (dim=3|id=333), (dim=3|id=210))\n\ninto an ITensor with indices:\n\n((dim=3|id=333), (dim=3|id=57), (dim=3|id=938))\n\nbut the indices are not permutations of each other.\n",
     "output_type": "error",
     "traceback": [
      "You are trying to add an ITensor with indices:\n",
      "\n",
      "((dim=3|id=938), (dim=3|id=333), (dim=3|id=210))\n",
      "\n",
      "into an ITensor with indices:\n",
      "\n",
      "((dim=3|id=333), (dim=3|id=57), (dim=3|id=938))\n",
      "\n",
      "but the indices are not permutations of each other.\n",
      "\n",
      "\n",
      "Stacktrace:\n",
      " [1] error(s::String)\n",
      "   @ Base .\\error.jl:35\n",
      " [2] _map!!(f::Function, R::NDTensors.DenseTensor{Float64, 3, Tuple{Index{Int64}, Index{Int64}, Index{Int64}}, NDTensors.Dense{Float64, Vector{Float64}}}, T1::NDTensors.DenseTensor{Float64, 3, Tuple{Index{Int64}, Index{Int64}, Index{Int64}}, NDTensors.Dense{Float64, Vector{Float64}}}, T2::NDTensors.DenseTensor{Float64, 3, Tuple{Index{Int64}, Index{Int64}, Index{Int64}}, NDTensors.Dense{Float64, Vector{Float64}}})\n",
      "   @ ITensors C:\\Users\\joaqu\\.julia\\packages\\ITensors\\yZbTa\\src\\itensor.jl:1929\n",
      " [3] map!(f::Function, R::ITensor, T1::ITensor, T2::ITensor)\n",
      "   @ ITensors C:\\Users\\joaqu\\.julia\\packages\\ITensors\\yZbTa\\src\\itensor.jl:1955\n",
      " [4] copyto!\n",
      "   @ C:\\Users\\joaqu\\.julia\\packages\\ITensors\\yZbTa\\src\\broadcast.jl:321 [inlined]\n",
      " [5] materialize!\n",
      "   @ .\\broadcast.jl:884 [inlined]\n",
      " [6] materialize!\n",
      "   @ .\\broadcast.jl:881 [inlined]\n",
      " [7] -(A::ITensor, B::ITensor)\n",
      "   @ ITensors C:\\Users\\joaqu\\.julia\\packages\\ITensors\\yZbTa\\src\\itensor.jl:1872\n",
      " [8] top-level scope\n",
      "   @ c:\\Users\\joaqu\\Documents\\GitHub\\Learning_Tensor_Networks_with_Julia\\ITensor Notes.ipynb:1"
     ]
    }
   ],
   "source": [
    "C = 4*A - B/2 "
   ]
  },
  {
   "cell_type": "markdown",
   "id": "ec4ae59f-a85f-44b4-89e1-35327d05b374",
   "metadata": {},
   "source": [
    "#### prime(), delta(), combiner() and dag() functions\n",
    "\n",
    "We already see that we can use * to contract the common indexes between two or more tensors. However, * can be used in different ways if we also use the functions prime(), delta(), combiner() and dag().\n",
    "\n",
    "Consider two Tensors:"
   ]
  },
  {
   "cell_type": "code",
   "execution_count": 27,
   "id": "93d683ca-1d70-4229-b86d-7ce6edda6954",
   "metadata": {},
   "outputs": [
    {
     "data": {
      "text/plain": [
       "ITensor ord=2 (dim=3|id=333) (dim=3|id=57)\n",
       "NDTensors.Dense{Float64, Vector{Float64}}"
      ]
     },
     "metadata": {},
     "output_type": "display_data"
    }
   ],
   "source": [
    "A = randomITensor(i,j)\n",
    "B = randomITensor(i,j) "
   ]
  },
  {
   "cell_type": "markdown",
   "id": "b9460f16-4e2d-4f1a-92c5-57851f39bd86",
   "metadata": {},
   "source": [
    "They have two common indixes:"
   ]
  },
  {
   "cell_type": "code",
   "execution_count": 28,
   "id": "afb9674c-0933-45be-88f9-b55147ae54f4",
   "metadata": {},
   "outputs": [
    {
     "data": {
      "text/plain": [
       "2-element Vector{Index{Int64}}:\n",
       " (dim=3|id=333)\n",
       " (dim=3|id=57)"
      ]
     },
     "metadata": {},
     "output_type": "display_data"
    }
   ],
   "source": [
    "commoninds(A,B) #It returns the id of the common indixes between A and B"
   ]
  },
  {
   "cell_type": "markdown",
   "id": "d4bb99f0-0e84-40f1-8240-9b8744acbab2",
   "metadata": {},
   "source": [
    "As we expected, these indixes are i and j:"
   ]
  },
  {
   "cell_type": "code",
   "execution_count": 29,
   "id": "b0d22876-5f83-4a22-948b-1ca8d8715fee",
   "metadata": {},
   "outputs": [
    {
     "data": {
      "text/plain": [
       "((dim=3|id=333), (dim=3|id=57))"
      ]
     },
     "metadata": {},
     "output_type": "display_data"
    }
   ],
   "source": [
    "i,j"
   ]
  },
  {
   "cell_type": "markdown",
   "id": "107bdf94-c459-4e4e-b089-2d0557dc81db",
   "metadata": {},
   "source": [
    "Then if we use * between A and B, the operator will contract both indexes:"
   ]
  },
  {
   "cell_type": "code",
   "execution_count": 31,
   "id": "827c8277-2c3c-4dbd-b856-e62420fdbd67",
   "metadata": {},
   "outputs": [
    {
     "name": "stdout",
     "output_type": "stream",
     "text": [
      "ITensor ord=0\n",
      "NDTensors.Dense{Float64, Vector{Float64}}\n",
      " 0-dimensional\n",
      "-2.4476279146323945\n"
     ]
    }
   ],
   "source": [
    "C = A*B #We got a tensor of range zero (an scalar)\n",
    "println(C)"
   ]
  },
  {
   "cell_type": "markdown",
   "id": "79a9deae-c7fe-442e-967a-a46306238c5c",
   "metadata": {},
   "source": [
    "This has sense because it is just $A_{i,j}*B_{i,j}$. IF we contract i and j, then we must have and scalar. We can access to this scalar in two ways:"
   ]
  },
  {
   "cell_type": "code",
   "execution_count": 32,
   "id": "63f27a61-d596-473e-8cf3-dd995a339a53",
   "metadata": {},
   "outputs": [
    {
     "data": {
      "text/plain": [
       "(-2.4476279146323945, -2.4476279146323945)"
      ]
     },
     "metadata": {},
     "output_type": "display_data"
    }
   ],
   "source": [
    "C[], scalar(C)"
   ]
  },
  {
   "cell_type": "markdown",
   "id": "c8e0daa6-f236-43ab-a946-be19c3fa910b",
   "metadata": {},
   "source": [
    "There are some cases when we do not want to contract all the common indexes. For example, if we just want to contract j even if there are two common indexes we can use the function **prime()**:"
   ]
  },
  {
   "cell_type": "code",
   "execution_count": 33,
   "id": "1016d0e1-4a2d-4b84-9698-6637336da7fc",
   "metadata": {},
   "outputs": [
    {
     "data": {
      "text/plain": [
       "ITensor ord=2 (dim=3|id=333)' (dim=3|id=57)\n",
       "NDTensors.Dense{Float64, Vector{Float64}}"
      ]
     },
     "metadata": {},
     "output_type": "display_data"
    }
   ],
   "source": [
    "A_prime = prime(A,i)"
   ]
  },
  {
   "cell_type": "markdown",
   "id": "74f81fcb-21cd-456d-9574-52ac9b739551",
   "metadata": {},
   "source": [
    "The ITensor A_prime has the same elements as A but has indices (i',j) instead of (i,j)."
   ]
  },
  {
   "cell_type": "code",
   "execution_count": 34,
   "id": "fc2c4f41-b523-4aac-8fc4-6fdbe8df5a62",
   "metadata": {},
   "outputs": [
    {
     "name": "stdout",
     "output_type": "stream",
     "text": [
      "ITensor ord=2\n",
      "Dim 1: (dim=3|id=333)\n",
      "Dim 2: (dim=3|id=57)\n",
      "NDTensors.Dense{Float64, Vector{Float64}}\n",
      " 3×3\n",
      "  0.7671911002326465   0.1017328083916558  0.7015875420486352\n",
      " -0.3260745378266489   0.6573131904682196  0.729728585378321\n",
      " -0.29219337349654506  1.271349458328358   2.1713219754873436\n",
      "ITensor ord=2\n",
      "Dim 1: (dim=3|id=333)'\n",
      "Dim 2: (dim=3|id=57)\n",
      "NDTensors.Dense{Float64, Vector{Float64}}\n",
      " 3×3\n",
      "  0.7671911002326465   0.1017328083916558  0.7015875420486352\n",
      " -0.3260745378266489   0.6573131904682196  0.729728585378321\n",
      " -0.29219337349654506  1.271349458328358   2.1713219754873436\n"
     ]
    }
   ],
   "source": [
    "println(A)\n",
    "\n",
    "println(A_prime)"
   ]
  },
  {
   "cell_type": "markdown",
   "id": "c8a4ade7-8f18-4cd2-8c8d-a5b4b1f31eaf",
   "metadata": {},
   "source": [
    "**Note:** We also can do A_prime = prime(A,i,j) or just A_prime = A'. Then A_prime will have the same elements as A but has indices (i',j') instead of (i,j). \n",
    "\n",
    "In this case A_prime and B just have one common index:"
   ]
  },
  {
   "cell_type": "code",
   "execution_count": 35,
   "id": "e2e59fb4-a2fc-4f6b-90cb-f61955ac5096",
   "metadata": {},
   "outputs": [
    {
     "data": {
      "text/plain": [
       "1-element Vector{Index{Int64}}:\n",
       " (dim=3|id=57)"
      ]
     },
     "metadata": {},
     "output_type": "display_data"
    }
   ],
   "source": [
    "commoninds(A_prime,B)"
   ]
  },
  {
   "cell_type": "markdown",
   "id": "490c191a-4f35-4423-b0fd-7fff7bb2ed66",
   "metadata": {},
   "source": [
    "So,"
   ]
  },
  {
   "cell_type": "code",
   "execution_count": 36,
   "id": "5627151a-1b72-4ffd-a6aa-08ac98391e78",
   "metadata": {},
   "outputs": [
    {
     "name": "stdout",
     "output_type": "stream",
     "text": [
      "ITensor ord=2\n",
      "Dim 1: (dim=3|id=333)'\n",
      "Dim 2: (dim=3|id=333)\n",
      "NDTensors.Dense{Float64, Vector{Float64}}\n",
      " 3×3\n",
      "  0.2977638812074672   -1.2209247669896315  -1.4024458259535488\n",
      " -0.27975183502226114  -1.2318696911591072  -0.16296264072625166\n",
      " -0.8844798390891817   -4.097709287842984   -1.5135221046807539\n"
     ]
    }
   ],
   "source": [
    "C = A_prime*B\n",
    "\n",
    "println(C)"
   ]
  },
  {
   "cell_type": "markdown",
   "id": "44b0801c-ad25-4c75-82af-abf5d5532f91",
   "metadata": {},
   "source": [
    "Instead of doing $A_{i,j}*B_{i,j}$, we did $A_{i',j}*B_{i,j} = C_{i',i}$. Now if we want to get the same scalar as before, we just need to contract when $i = i'$. We can do this using the function **delta()**:"
   ]
  },
  {
   "cell_type": "code",
   "execution_count": 37,
   "id": "7592999d-e76c-4c79-a939-7e17b0b4f25c",
   "metadata": {},
   "outputs": [
    {
     "name": "stdout",
     "output_type": "stream",
     "text": [
      "ITensor ord=2\n",
      "Dim 1: (dim=3|id=333)\n",
      "Dim 2: (dim=3|id=333)'\n",
      "NDTensors.Diag{Float64, Float64}\n",
      " 3×3\n",
      " 1.0  0.0  0.0\n",
      " 0.0  1.0  0.0\n",
      " 0.0  0.0  1.0\n"
     ]
    }
   ],
   "source": [
    "println(delta(i,i'))"
   ]
  },
  {
   "cell_type": "markdown",
   "id": "58e6d730-7cdd-4630-bc92-1784baa6f618",
   "metadata": {},
   "source": [
    "Then,"
   ]
  },
  {
   "cell_type": "code",
   "execution_count": 38,
   "id": "f5f30cb2-1bb3-4845-83e7-6bdda99542e6",
   "metadata": {},
   "outputs": [
    {
     "name": "stdout",
     "output_type": "stream",
     "text": [
      "ITensor ord=0\n",
      "NDTensors.Dense{Float64, Vector{Float64}}\n",
      " 0-dimensional\n",
      "-2.4476279146323936\n"
     ]
    }
   ],
   "source": [
    "println(C*delta(i,i'))"
   ]
  },
  {
   "cell_type": "markdown",
   "id": "16cc9c34-448f-4399-ab0a-979e3e4fb08c",
   "metadata": {},
   "source": [
    "**Note:** delta() output is the identity tensor, we can build it with more indexes:"
   ]
  },
  {
   "cell_type": "code",
   "execution_count": 39,
   "id": "ad1f3e2f-fd50-408c-9375-c86147832199",
   "metadata": {},
   "outputs": [
    {
     "name": "stdout",
     "output_type": "stream",
     "text": [
      "ITensor ord=3\n",
      "Dim 1: (dim=3|id=333)\n",
      "Dim 2: (dim=3|id=57)\n",
      "Dim 3: (dim=3|id=938)\n",
      "NDTensors.Diag{Float64, Float64}\n",
      " 3×3×3\n",
      "[:, :, 1] =\n",
      " 1.0  0.0  0.0\n",
      " 0.0  0.0  0.0\n",
      " 0.0  0.0  0.0\n",
      "\n",
      "[:, :, 2] =\n",
      " 0.0  0.0  0.0\n",
      " 0.0  1.0  0.0\n",
      " 0.0  0.0  0.0\n",
      "\n",
      "[:, :, 3] =\n",
      " 0.0  0.0  0.0\n",
      " 0.0  0.0  0.0\n",
      " 0.0  0.0  1.0\n"
     ]
    }
   ],
   "source": [
    "println(delta(i,j,k))"
   ]
  },
  {
   "cell_type": "markdown",
   "id": "0dd9dfdc-b194-4ba0-bafd-c6d81537197b",
   "metadata": {},
   "source": [
    "**Note:** Julia allows us to use directly the symbol δ instead of delta."
   ]
  },
  {
   "cell_type": "code",
   "execution_count": 40,
   "id": "159076da-e26a-4b0f-b097-5eafd7f9dfa9",
   "metadata": {},
   "outputs": [
    {
     "name": "stdout",
     "output_type": "stream",
     "text": [
      "ITensor ord=3\n",
      "Dim 1: (dim=3|id=938)\n",
      "Dim 2: (dim=3|id=333)\n",
      "Dim 3: (dim=3|id=57)\n",
      "NDTensors.Diag{Float64, Float64}\n",
      " 3×3×3\n",
      "[:, :, 1] =\n",
      " 1.0  0.0  0.0\n",
      " 0.0  0.0  0.0\n",
      " 0.0  0.0  0.0\n",
      "\n",
      "[:, :, 2] =\n",
      " 0.0  0.0  0.0\n",
      " 0.0  1.0  0.0\n",
      " 0.0  0.0  0.0\n",
      "\n",
      "[:, :, 3] =\n",
      " 0.0  0.0  0.0\n",
      " 0.0  0.0  0.0\n",
      " 0.0  0.0  1.0\n"
     ]
    }
   ],
   "source": [
    "println(δ(k,i,j))"
   ]
  },
  {
   "cell_type": "markdown",
   "id": "9504afb3-34a0-4899-9cc3-ca9c6f4ceed9",
   "metadata": {},
   "source": [
    "In addition to this, we also can use the Itensor product operator (*) to reshape Tensors using the functions **combiner()** and **dag()**. \n",
    "\n",
    "As an example consider this tensor:"
   ]
  },
  {
   "cell_type": "code",
   "execution_count": 41,
   "id": "35c26ef8-570f-4e65-a7cb-01d39fdaca4d",
   "metadata": {},
   "outputs": [
    {
     "name": "stdout",
     "output_type": "stream",
     "text": [
      "ITensor ord=4\n",
      "Dim 1: (dim=3|id=333)\n",
      "Dim 2: (dim=3|id=57)\n",
      "Dim 3: (dim=3|id=938)\n",
      "Dim 4: (dim=3|id=210)\n",
      "NDTensors.Dense{Float64, Vector{Float64}}\n",
      " 3×3×3×3\n",
      "[:, :, 1, 1] =\n",
      "  0.2654410871817156  0.22181936109507785   -0.12667666848415396\n",
      " -0.9866416699800522  0.017086170943773703   0.5571317195492954\n",
      " -0.8332424860578647  0.4892960042564102    -1.4172175656300419\n",
      "\n",
      "[:, :, 2, 1] =\n",
      "  1.2550706331138524   0.4042155139632911   0.0635137354287821\n",
      "  0.900552961712404   -0.772837325500837    0.12792475861536198\n",
      " -1.3323540120753938  -0.42428144960972547  1.3801211458279685\n",
      "\n",
      "[:, :, 3, 1] =\n",
      "  0.13160195338317707  -0.1986970187829771   0.06039534841895088\n",
      " -0.07641172163510673   0.43263093945594416  0.14561316471895833\n",
      " -1.2297897001103724   -0.08663529797908409  1.0142402850174066\n",
      "\n",
      "[:, :, 1, 2] =\n",
      " -0.9814076244215635    -0.2972666401287606   -1.2027531336495305\n",
      "  1.5879940339846916    -0.25808257307694005  -0.5524489417191406\n",
      " -0.009694430243796877  -0.3264995025319127    0.47759382473314665\n",
      "\n",
      "[:, :, 2, 2] =\n",
      "  0.1434717152374203    0.6009614247251862   0.9301522403901781\n",
      " -0.5016710728851941   -0.754965494509983    0.15363676110401656\n",
      " -0.42692974624621527   1.310072390467911   -0.45319659083843944\n",
      "\n",
      "[:, :, 3, 2] =\n",
      " -2.1455403235936585   -3.0396932410707715   -1.254760549131083\n",
      "  0.8949472746012523   -0.14311341390418203   1.003651518848398\n",
      " -0.39572091398281733  -0.6087504094731662   -0.605269801216214\n",
      "\n",
      "[:, :, 1, 3] =\n",
      " -0.04926145078926394  1.4800577818338114   -0.7953340936430486\n",
      "  0.9460298801005192   0.5095685903893477   -0.2322367296600094\n",
      "  1.1876813500820096   0.35701675259308807   1.2382146595641481\n",
      "\n",
      "[:, :, 2, 3] =\n",
      "  0.7845407195834967   -0.39235021085341265   0.09850758726498395\n",
      " -0.26791293485678436   0.7906655576480013   -0.5982429571933559\n",
      "  1.8109670384713195   -0.9356447698469208   -0.8875289823797131\n",
      "\n",
      "[:, :, 3, 3] =\n",
      " -0.9322313448930016  0.5999526005456852  -1.2869117014746698\n",
      " -1.5013797186965614  1.0981017219119835  -0.9010954327104449\n",
      " -0.7358061156833059  2.01721393399456    -1.2298686437352555\n"
     ]
    }
   ],
   "source": [
    "A = randomITensor(i,j,k,l)\n",
    "\n",
    "println(A)"
   ]
  },
  {
   "cell_type": "markdown",
   "id": "e4d95e2a-f7e6-4bcd-b7b2-65fa0cd98713",
   "metadata": {},
   "source": [
    "We have a tensor of order 4. If we want to reshape it as a tensor of order 2, we can use the function combiner to merge i, j and k indexes:"
   ]
  },
  {
   "cell_type": "code",
   "execution_count": 42,
   "id": "9b63a44b-7b80-487d-af25-377ebfdde261",
   "metadata": {},
   "outputs": [
    {
     "data": {
      "text/plain": [
       "ITensor ord=4 (dim=27|id=709|\"ijk\") (dim=3|id=333) (dim=3|id=57) (dim=3|id=938)\n",
       "NDTensors.Combiner"
      ]
     },
     "metadata": {},
     "output_type": "display_data"
    }
   ],
   "source": [
    "Mix_i_j_k = combiner(i,j,k, tags = \"ijk\") #tags is an optional parameter when we define indexes, is just a label to know what means the index. In this case is useful to remember which indexes was merged."
   ]
  },
  {
   "cell_type": "markdown",
   "id": "d1ea7438-2846-4761-ac19-798411dd1c73",
   "metadata": {},
   "source": [
    "Then we just need to do the product:"
   ]
  },
  {
   "cell_type": "code",
   "execution_count": 43,
   "id": "bfdc0b09-0c04-49a2-a561-88dcb389810e",
   "metadata": {},
   "outputs": [
    {
     "name": "stdout",
     "output_type": "stream",
     "text": [
      "ITensor ord=2\n",
      "Dim 1: (dim=27|id=709|\"ijk\")\n",
      "Dim 2: (dim=3|id=210)\n",
      "NDTensors.Dense{Float64, Vector{Float64}}\n",
      " 27×3\n",
      "  0.2654410871817156    -0.9814076244215635    -0.04926145078926394\n",
      " -0.9866416699800522     1.5879940339846916     0.9460298801005192\n",
      " -0.8332424860578647    -0.009694430243796877   1.1876813500820096\n",
      "  0.22181936109507785   -0.2972666401287606     1.4800577818338114\n",
      "  0.017086170943773703  -0.25808257307694005    0.5095685903893477\n",
      "  0.4892960042564102    -0.3264995025319127     0.35701675259308807\n",
      " -0.12667666848415396   -1.2027531336495305    -0.7953340936430486\n",
      "  0.5571317195492954    -0.5524489417191406    -0.2322367296600094\n",
      " -1.4172175656300419     0.47759382473314665    1.2382146595641481\n",
      "  1.2550706331138524     0.1434717152374203     0.7845407195834967\n",
      "  0.900552961712404     -0.5016710728851941    -0.26791293485678436\n",
      " -1.3323540120753938    -0.42692974624621527    1.8109670384713195\n",
      "  0.4042155139632911     0.6009614247251862    -0.39235021085341265\n",
      " -0.772837325500837     -0.754965494509983      0.7906655576480013\n",
      " -0.42428144960972547    1.310072390467911     -0.9356447698469208\n",
      "  0.0635137354287821     0.9301522403901781     0.09850758726498395\n",
      "  0.12792475861536198    0.15363676110401656   -0.5982429571933559\n",
      "  1.3801211458279685    -0.45319659083843944   -0.8875289823797131\n",
      "  0.13160195338317707   -2.1455403235936585    -0.9322313448930016\n",
      " -0.07641172163510673    0.8949472746012523    -1.5013797186965614\n",
      " -1.2297897001103724    -0.39572091398281733   -0.7358061156833059\n",
      " -0.1986970187829771    -3.0396932410707715     0.5999526005456852\n",
      "  0.43263093945594416   -0.14311341390418203    1.0981017219119835\n",
      " -0.08663529797908409   -0.6087504094731662     2.01721393399456\n",
      "  0.06039534841895088   -1.254760549131083     -1.2869117014746698\n",
      "  0.14561316471895833    1.003651518848398     -0.9010954327104449\n",
      "  1.0142402850174066    -0.605269801216214     -1.2298686437352555\n"
     ]
    }
   ],
   "source": [
    "A_reshaped_ijk_l = Mix_i_j_k*A \n",
    "\n",
    "println(A_reshaped_ijk_l)"
   ]
  },
  {
   "cell_type": "markdown",
   "id": "e2043cf6-13ee-4ce5-841a-9b4ec9394285",
   "metadata": {},
   "source": [
    "We also could thing in a mix i,j and k,l in order to have a matrix of dimensions ij x kl. If we want to do that we just need to use two combiners:"
   ]
  },
  {
   "cell_type": "code",
   "execution_count": 44,
   "id": "4e8be2b6-28e6-4889-bf78-1c8ed5fb1022",
   "metadata": {},
   "outputs": [
    {
     "name": "stdout",
     "output_type": "stream",
     "text": [
      "ITensor ord=2\n",
      "Dim 1: (dim=9|id=433|\"ij\")\n",
      "Dim 2: (dim=9|id=534|\"kl\")\n",
      "NDTensors.Dense{Float64, Vector{Float64}}\n",
      " 9×9\n",
      "  0.2654410871817156     1.2550706331138524    0.13160195338317707  -0.9814076244215635     0.1434717152374203   -2.1455403235936585   -0.04926145078926394   0.7845407195834967   -0.9322313448930016\n",
      " -0.9866416699800522     0.900552961712404    -0.07641172163510673   1.5879940339846916    -0.5016710728851941    0.8949472746012523    0.9460298801005192   -0.26791293485678436  -1.5013797186965614\n",
      " -0.8332424860578647    -1.3323540120753938   -1.2297897001103724   -0.009694430243796877  -0.42692974624621527  -0.39572091398281733   1.1876813500820096    1.8109670384713195   -0.7358061156833059\n",
      "  0.22181936109507785    0.4042155139632911   -0.1986970187829771   -0.2972666401287606     0.6009614247251862   -3.0396932410707715    1.4800577818338114   -0.39235021085341265   0.5999526005456852\n",
      "  0.017086170943773703  -0.772837325500837     0.43263093945594416  -0.25808257307694005   -0.754965494509983    -0.14311341390418203   0.5095685903893477    0.7906655576480013    1.0981017219119835\n",
      "  0.4892960042564102    -0.42428144960972547  -0.08663529797908409  -0.3264995025319127     1.310072390467911    -0.6087504094731662    0.35701675259308807  -0.9356447698469208    2.01721393399456\n",
      " -0.12667666848415396    0.0635137354287821    0.06039534841895088  -1.2027531336495305     0.9301522403901781   -1.254760549131083    -0.7953340936430486    0.09850758726498395  -1.2869117014746698\n",
      "  0.5571317195492954     0.12792475861536198   0.14561316471895833  -0.5524489417191406     0.15363676110401656   1.003651518848398    -0.2322367296600094   -0.5982429571933559   -0.9010954327104449\n",
      " -1.4172175656300419     1.3801211458279685    1.0142402850174066    0.47759382473314665   -0.45319659083843944  -0.605269801216214     1.2382146595641481   -0.8875289823797131   -1.2298686437352555\n"
     ]
    }
   ],
   "source": [
    "Mix_i_j = combiner(i,j, tags = \"ij\")\n",
    "Mix_k_l = combiner(k,l, tags = \"kl\")\n",
    "\n",
    "A_reshaped_ij_kl = Mix_i_j*(Mix_k_l*A)\n",
    "\n",
    "println(A_reshaped_ij_kl)"
   ]
  },
  {
   "cell_type": "markdown",
   "id": "6bab8cf5-2ebb-4d4f-9e7b-0e57be9920c0",
   "metadata": {},
   "source": [
    "Now, if we just want to recover the initial shape we can use the function **dag()**:"
   ]
  },
  {
   "cell_type": "code",
   "execution_count": 45,
   "id": "2907bd8a-0de0-4f92-8646-90c9ad406092",
   "metadata": {},
   "outputs": [
    {
     "data": {
      "text/plain": [
       "true"
      ]
     },
     "metadata": {},
     "output_type": "display_data"
    }
   ],
   "source": [
    "A_reconstructed_1 = (dag(Mix_i_j_k)*A_reshaped_ijk_l)\n",
    "A_reconstructed_2 = dag(Mix_k_l)*(dag(Mix_i_j)*A_reshaped_ij_kl)\n",
    "\n",
    "# Let's see if these tensor are the same as A:\n",
    "\n",
    "# println(A_reconstructed_1, A_reconstructed_2, A)\n",
    "A == A_reconstructed_1 == A_reconstructed_2"
   ]
  },
  {
   "cell_type": "markdown",
   "id": "d681b815-dcb9-4a1a-bb01-6b66467d931c",
   "metadata": {},
   "source": [
    "#### Descomposition of ITensors (QR and SVD):\n",
    "\n",
    "QR and SVD are two very useful and famous ways to descompose Matrixes (2-rank tensors). These descompositions just exist for Matrixes, so if we have a tensor of rank i x j x k x l is necessary to reshape the tensor as a matrix (could be something like ij x kl or ijk x l or i x jkl, etc.), apply the algorithm to build the QR or the SVD descomposition, and finally reshape again to recover the structure i x j x k x l. **qr()** and **svd()** do this large process for us. \n",
    "\n",
    "We just need to specify which index(es) we want for Q (for QR) or U (For SVD) matrix at the end of the process."
   ]
  },
  {
   "cell_type": "code",
   "execution_count": 67,
   "id": "b16faf85",
   "metadata": {},
   "outputs": [
    {
     "data": {
      "text/plain": [
       "ITensor ord=2 (dim=9|id=433|\"ij\") (dim=9|id=534|\"kl\")\n",
       "NDTensors.Dense{Float64, Vector{Float64}}"
      ]
     },
     "metadata": {},
     "output_type": "display_data"
    }
   ],
   "source": [
    "A_reshaped_ij_kl"
   ]
  },
  {
   "cell_type": "code",
   "execution_count": 77,
   "id": "080600e7",
   "metadata": {},
   "outputs": [
    {
     "data": {
      "text/plain": [
       "((dim=9|id=433|\"ij\"), (dim=9|id=534|\"kl\"))"
      ]
     },
     "metadata": {},
     "output_type": "display_data"
    }
   ],
   "source": [
    "ind(A_reshaped_ij_kl, 1), ind(A_reshaped_ij_kl, 2)"
   ]
  },
  {
   "cell_type": "code",
   "execution_count": 75,
   "id": "bc19d457-a0b9-40d1-a8e8-48b681e47f0b",
   "metadata": {},
   "outputs": [
    {
     "data": {
      "text/plain": [
       "(ITensor ord=2\n",
       "Dim 1: (dim=9|id=433|\"ij\")\n",
       "Dim 2: (dim=9|id=355|\"Link,qr\")\n",
       "NDTensors.Dense{Float64, Vector{Float64}}\n",
       " 9×9\n",
       " -0.12709308061873403   -0.5260318341050793    …   0.20623871591666082\n",
       "  0.47240361556662114   -0.2223411340984376       -0.5009068287466326\n",
       "  0.3989561509858118     0.6310869593614472        0.13472275143446724\n",
       " -0.10620701656165735   -0.18738070327045897      -0.2810926593782366\n",
       " -0.008180851443453869   0.30012681099226823      -0.34798843766168963\n",
       " -0.23427472052513482    0.10153016228994469   …   0.2545826729157885\n",
       "  0.060652735456691656  -0.008158414333230914     -0.5149634597644244\n",
       " -0.2667544324042761    -0.12346302115034409      -0.27807432260070647\n",
       "  0.6785631728504765    -0.3532399998791814        0.2845587007702932, ITensor ord=2\n",
       "Dim 1: (dim=9|id=355|\"Link,qr\")\n",
       "Dim 2: (dim=9|id=534|\"kl\")\n",
       "NDTensors.Dense{Float64, Vector{Float64}}\n",
       " 9×9\n",
       " -2.0885565594086994   0.7033803842017341  …  -2.1018433266020096\n",
       "  0.0                 -2.555863211731538       1.3379923980235104\n",
       "  0.0                  0.0                     1.0200783253472148\n",
       "  0.0                  0.0                     0.9505831164422297\n",
       "  0.0                  0.0                     0.9871136997948046\n",
       "  0.0                  0.0                 …  -1.7247317049269864\n",
       "  0.0                  0.0                     0.06984300591515025\n",
       "  0.0                  0.0                    -0.4476975435270901\n",
       "  0.0                  0.0                     0.9867522551437573, (dim=9|id=355|\"Link,qr\"))"
      ]
     },
     "metadata": {},
     "output_type": "display_data"
    }
   ],
   "source": [
    "Q,R = qr(A_reshaped_ij_kl, ind(A_reshaped_ij_kl, 1)) #Q will have the index ind(A_reshaped_ij_kl, 1)"
   ]
  },
  {
   "cell_type": "code",
   "execution_count": 76,
   "id": "be7ebf45-2e50-4761-a48c-9f274cffbfdb",
   "metadata": {},
   "outputs": [
    {
     "data": {
      "text/plain": [
       "ITensors.TruncSVD(ITensor ord=2\n",
       "Dim 1: (dim=9|id=433|\"ij\")\n",
       "Dim 2: (dim=9|id=23|\"Link,u\")\n",
       "NDTensors.Dense{Float64, Vector{Float64}}\n",
       " 9×9\n",
       " -0.4588169802012815     0.32345501139121685   …   0.0025646509484854585\n",
       "  0.34300029787174546    0.4973520940296859       -0.6016188664163407\n",
       " -0.02376334270127317    0.1433478877523895        0.2010131955022117\n",
       " -0.6862864928145295     0.14028516431283364      -0.06321509752418764\n",
       " -0.05139390580226637   -0.18607033708701523      -0.5561156234744058\n",
       " -0.2969342611701252    -0.4140578570170955    …  -0.12172030808336923\n",
       " -0.28558279851780394    0.16226157869721014      -0.41137754681124106\n",
       "  0.16589349417532026    0.021017687102653365     -0.042477899670196696\n",
       " -0.019860826610400062   0.6123337027529379        0.31389398013240544, ITensor ord=2\n",
       "Dim 1: (dim=9|id=23|\"Link,u\")\n",
       "Dim 2: (dim=9|id=663|\"Link,v\")\n",
       "NDTensors.Diag{Float64, Vector{Float64}}\n",
       " 9×9\n",
       " 4.747734231494609  0.0                …  0.0\n",
       " 0.0                4.387933537879688     0.0\n",
       " 0.0                0.0                   0.0\n",
       " 0.0                0.0                   0.0\n",
       " 0.0                0.0                   0.0\n",
       " 0.0                0.0                …  0.0\n",
       " 0.0                0.0                   0.0\n",
       " 0.0                0.0                   0.0\n",
       " 0.0                0.0                   0.22035741574881926, ITensor ord=2\n",
       "Dim 1: (dim=9|id=534|\"kl\")\n",
       "Dim 2: (dim=9|id=663|\"Link,v\")\n",
       "NDTensors.Dense{Float64, Vector{Float64}}\n",
       " 9×9\n",
       " -0.12259675795756159   -0.3590772107566796    …  -0.33001438959838036\n",
       " -0.0782116884489032     0.4323526005438554        0.23205983321411705\n",
       "  0.014586260483123425   0.0888089633056012       -0.5947125509301815\n",
       "  0.32684530303314596    0.15910572294692488      -0.40665482114163953\n",
       " -0.25728884374564187   -0.16073935055450406      -0.4205236931422588\n",
       "  0.8660665981365385    -0.22937369592568574   …   0.026916753324567035\n",
       " -0.1400795429569488     0.2766869557433242       -0.1144401466096094\n",
       " -0.020680355335738074   0.005768551577362252     -0.3062839172275197\n",
       " -0.1883971832139516    -0.7041979434897464        0.18362053660530012, Spectrum{Vector{Float64}, Float64}([22.540980332905704, 19.253960732849354, 11.749737801711648, 10.107338356298277, 3.0017195827669823, 1.5430552819935577, 0.9543203477596071, 0.23742601167075655, 0.048557390675497976], 0.0), (dim=9|id=23|\"Link,u\"), (dim=9|id=663|\"Link,v\"))"
      ]
     },
     "metadata": {},
     "output_type": "display_data"
    }
   ],
   "source": [
    "U,S,V = svd(A_reshaped_ij_kl, ind(A_reshaped_ij_kl, 1)) #U will have the index ind(A_reshaped_ij_kl, 1) "
   ]
  },
  {
   "cell_type": "markdown",
   "id": "c74a3029-2d04-401b-b3ff-17b542c1d8b2",
   "metadata": {},
   "source": [
    "Consider the following tensor in order to understand better how works these two functions:"
   ]
  },
  {
   "cell_type": "code",
   "execution_count": 72,
   "id": "610b3a6c-c10d-475e-b68c-b5d7a7801fb1",
   "metadata": {},
   "outputs": [
    {
     "data": {
      "text/plain": [
       "ITensor ord=3 (dim=3|id=484|\"i\") (dim=3|id=855|\"j\") (dim=3|id=732|\"k\")\n",
       "NDTensors.Dense{Float64, Vector{Float64}}"
      ]
     },
     "metadata": {},
     "output_type": "display_data"
    }
   ],
   "source": [
    "i = Index(3, \"i\")\n",
    "j = Index(3, \"j\")\n",
    "k = Index(3, \"k\")\n",
    "\n",
    "A = randomITensor(i,j,k)"
   ]
  },
  {
   "cell_type": "code",
   "execution_count": 73,
   "id": "11a8598e-51aa-4e08-9582-13404fbd09e7",
   "metadata": {},
   "outputs": [
    {
     "name": "stdout",
     "output_type": "stream",
     "text": [
      "ITensor ord=3\n",
      "Dim 1: (dim=3|id=484|\"i\")\n",
      "Dim 2: (dim=3|id=855|\"j\")\n",
      "Dim 3: (dim=3|id=53|\"Link,qr\")\n",
      "NDTensors.Dense{Float64, Vector{Float64}}\n",
      " 3×3×3\n",
      "[:, :, 1] =\n",
      " -0.44014445990370077   0.017107000385063104   0.8182833536855607\n",
      " -0.06291641990552635  -0.042406112810609624  -0.2384763495274264\n",
      "  0.24038879754948692  -0.0589425328408155     0.11182056290627326\n",
      "\n",
      "[:, :, 2] =\n",
      " -0.04180247826876681   0.5736245819103077   -0.05733395518626934\n",
      " -0.21443978304828426   0.03952587374155231   0.18957595766440272\n",
      " -0.12699604614645876  -0.6346567215045865    0.40437272479795894\n",
      "\n",
      "[:, :, 3] =\n",
      " -0.2560874295211978   -0.581219533143535     -0.011270927962871047\n",
      "  0.33277325213236764   0.022768328191890782   0.1635720943453266\n",
      " -0.21780729805089738  -0.6228409996294864    -0.1519633339357875\n",
      "ITensor ord=2\n",
      "Dim 1: (dim=3|id=53|\"Link,qr\")\n",
      "Dim 2: (dim=3|id=732|\"k\")\n",
      "NDTensors.Dense{Float64, Vector{Float64}}\n",
      " 3×3\n",
      " 3.795139599880989  -0.14903066433179843  0.2130011236365707\n",
      " 0.0                 2.2018175318133073   0.6070277603325938\n",
      " 0.0                 0.0                  1.2568091785504816\n"
     ]
    }
   ],
   "source": [
    "Q,R = qr(A,(i,j))\n",
    "\n",
    "println(Q) #Has i,j\n",
    "println(R) #Has k"
   ]
  },
  {
   "cell_type": "markdown",
   "id": "d6d24a38-3715-4fbe-92fb-5a198e225b6b",
   "metadata": {},
   "source": [
    "or "
   ]
  },
  {
   "cell_type": "code",
   "execution_count": 43,
   "id": "13bbb8f7-6a33-4cea-8713-651a65a246cf",
   "metadata": {},
   "outputs": [
    {
     "name": "stdout",
     "output_type": "stream",
     "text": [
      "ITensor ord=2\n",
      "Dim 1: (dim=3|id=50|\"i\")\n",
      "Dim 2: (dim=3|id=489|\"Link,qr\")\n",
      "NDTensors.Dense{Float64, Vector{Float64}}\n",
      " 3×3\n",
      " -0.40597746599625406   0.5212964520832154  0.7506212801064942\n",
      " -0.5573690075339631   -0.7921477257431893  0.24868005557442255\n",
      "  0.7242389706056042   -0.3174145391209179  0.6121486125205138\n",
      "ITensor ord=3\n",
      "Dim 1: (dim=3|id=489|\"Link,qr\")\n",
      "Dim 2: (dim=3|id=650|\"j\")\n",
      "Dim 3: (dim=3|id=461|\"k\")\n",
      "NDTensors.Dense{Float64, Vector{Float64}}\n",
      " 3×3×3\n",
      "[:, :, 1] =\n",
      " 2.0055861649960427   1.4359934533612928  -0.1107819714899394\n",
      " 0.0                 -2.4556190423190607   1.8441237982586838\n",
      " 0.0                  0.0                  1.6718244682983783\n",
      "\n",
      "[:, :, 2] =\n",
      " -0.028729595236745405   0.7015439963623904   -0.015513466438785484\n",
      " -1.7015619378313918    -0.40796757464748923   0.15000167395441666\n",
      "  1.1392241986518825    -0.9671491578821215    1.7616167951051338\n",
      "\n",
      "[:, :, 3] =\n",
      " 0.5669137851513223   0.8409067921550986   0.9296041622920099\n",
      " 0.9773536890656648  -1.204039716663662   -1.268211712949225\n",
      " 0.6971619285790955   0.5589798917231826  -0.23609662668132148\n"
     ]
    }
   ],
   "source": [
    "Q,R = qr(A,(i))\n",
    "\n",
    "println(Q) #Has i\n",
    "println(R) #Has j,k"
   ]
  },
  {
   "cell_type": "markdown",
   "id": "f54f450e-297d-4131-8c5a-977c2dcd6834",
   "metadata": {},
   "source": [
    "In any case,"
   ]
  },
  {
   "cell_type": "code",
   "execution_count": 44,
   "id": "0eaaf72e-6c8a-4cae-9142-ea33a0cb9922",
   "metadata": {},
   "outputs": [
    {
     "data": {
      "text/plain": [
       "true"
      ]
     },
     "execution_count": 44,
     "metadata": {},
     "output_type": "execute_result"
    }
   ],
   "source": [
    "A ≈ Q*R"
   ]
  },
  {
   "cell_type": "markdown",
   "id": "f55f87cd-1850-4c20-afd6-e4ce379ca1d8",
   "metadata": {},
   "source": [
    "With SVD descomposition is exactly the same:"
   ]
  },
  {
   "cell_type": "code",
   "execution_count": 45,
   "id": "4a25bcc8-566a-4c20-87ad-1db02d20f236",
   "metadata": {},
   "outputs": [
    {
     "name": "stdout",
     "output_type": "stream",
     "text": [
      "ITensor ord=3\n",
      "Dim 1: (dim=3|id=50|\"i\")\n",
      "Dim 2: (dim=3|id=650|\"j\")\n",
      "Dim 3: (dim=3|id=830|\"Link,u\")\n",
      "NDTensors.Dense{Float64, Vector{Float64}}\n",
      " 3×3×3\n",
      "[:, :, 1] =\n",
      " -0.14109223665338408  -0.4916461352472188    0.5351903132463541\n",
      " -0.11150772392407438   0.22115379945032237  -0.15651609930774182\n",
      "  0.4083273780511589    0.4065627538835162    0.18461744689994486\n",
      "\n",
      "[:, :, 2] =\n",
      " -0.14103071087050909  -0.03959231986648622  0.4760315114811087\n",
      "  0.6882946780454582   -0.2986228607815069   0.042937468598669815\n",
      "  0.07064917666350777  -0.42682146438121904  0.00033946944660978584\n",
      "\n",
      "[:, :, 3] =\n",
      " -0.3925183468106545   0.21320252933324307   0.3813625226983017\n",
      " -0.3419076437316273   0.06992921229312914  -0.3941964492562095\n",
      " -0.271795917031121   -0.1501030104539572   -0.530519508351712\n",
      "ITensor ord=2\n",
      "Dim 1: (dim=3|id=830|\"Link,u\")\n",
      "Dim 2: (dim=3|id=768|\"Link,v\")\n",
      "NDTensors.Diag{Float64, Vector{Float64}}\n",
      " 3×3\n",
      " 4.5675645292988225  0.0                0.0\n",
      " 0.0                 2.903638135621514  0.0\n",
      " 0.0                 0.0                2.1686427247682\n",
      "ITensor ord=2\n",
      "Dim 1: (dim=3|id=461|\"k\")\n",
      "Dim 2: (dim=3|id=768|\"Link,v\")\n",
      "NDTensors.Dense{Float64, Vector{Float64}}\n",
      " 3×3\n",
      " 0.9133241895390596   -0.19366788830903056   0.3582341047984411\n",
      " 0.38480153517621757   0.6983521301318021   -0.6035164296573878\n",
      " 0.13329179768029858  -0.6890551874692588   -0.7123455940011555\n"
     ]
    }
   ],
   "source": [
    "U,S,V = svd(A,(i,j))\n",
    "\n",
    "println(U) # Has i,j\n",
    "println(S) \n",
    "println(V) # Has k"
   ]
  },
  {
   "cell_type": "code",
   "execution_count": 46,
   "id": "9d04f2af-bdb3-4e4d-9069-b6757fb9c7cc",
   "metadata": {},
   "outputs": [
    {
     "name": "stdout",
     "output_type": "stream",
     "text": [
      "ITensor ord=2\n",
      "Dim 1: (dim=3|id=50|\"i\")\n",
      "Dim 2: (dim=3|id=1|\"Link,u\")\n",
      "NDTensors.Dense{Float64, Vector{Float64}}\n",
      " 3×3\n",
      " -0.7745260941106948  -0.5758999517355441   -0.2616267859616619\n",
      "  0.4049392262398443  -0.13368632875548267  -0.9045176551931734\n",
      "  0.4859357494503854  -0.8065154748018653    0.3367480308943371\n",
      "ITensor ord=2\n",
      "Dim 1: (dim=3|id=1|\"Link,u\")\n",
      "Dim 2: (dim=3|id=365|\"Link,v\")\n",
      "NDTensors.Diag{Float64, Vector{Float64}}\n",
      " 3×3\n",
      " 4.44753072216934  0.0                0.0\n",
      " 0.0               2.961428227304642  0.0\n",
      " 0.0               0.0                2.3337062260527865\n",
      "ITensor ord=3\n",
      "Dim 1: (dim=3|id=650|\"j\")\n",
      "Dim 2: (dim=3|id=461|\"k\")\n",
      "Dim 3: (dim=3|id=365|\"Link,v\")\n",
      "NDTensors.Dense{Float64, Vector{Float64}}\n",
      " 3×3×3\n",
      "[:, :, 1] =\n",
      "  0.1987188116235778   0.28643028824006267  -0.1656593937339516\n",
      "  0.6274794628265924   0.18996029157262845   0.2981949028992104\n",
      " -0.4442194746799167  -0.10374307560348922   0.3524150010629198\n",
      "\n",
      "[:, :, 2] =\n",
      " -0.1867782802930767   -0.4017724970485623  -0.25825602381047097\n",
      " -0.18488147699572066   0.2394371719720492  -0.28445111151431013\n",
      " -0.4927912834068433   -0.566035515077954   -0.03651510318459808\n",
      "\n",
      "[:, :, 3] =\n",
      " 0.7341427278501184   -0.4606072338252436   0.3414281847958379\n",
      " 0.02768420000615268   0.26324578004852006  0.012112852150782366\n",
      " 0.17925697188372813  -0.13768983674447208  0.10487705171990147\n"
     ]
    }
   ],
   "source": [
    "U,S,V = svd(A,(i))\n",
    "\n",
    "println(U) # Has i\n",
    "println(S) \n",
    "println(V) # Has j,k"
   ]
  },
  {
   "cell_type": "markdown",
   "id": "017f9a24-9d74-4dd4-aee5-d813f6ef0776",
   "metadata": {},
   "source": [
    "In any case,"
   ]
  },
  {
   "cell_type": "code",
   "execution_count": 47,
   "id": "a4e98f86-2d20-4639-80ce-57dfccecf4eb",
   "metadata": {},
   "outputs": [
    {
     "data": {
      "text/plain": [
       "true"
      ]
     },
     "execution_count": 47,
     "metadata": {},
     "output_type": "execute_result"
    }
   ],
   "source": [
    " U*S*V ≈ A # true"
   ]
  },
  {
   "cell_type": "markdown",
   "id": "3bf8fddc-1fbe-4be5-b3f3-73f84be562ae",
   "metadata": {},
   "source": [
    "**Traces:**\n",
    "\n",
    "http://itensor.org/docs.cgi?page=formulas/mps_two_rdm&vers=cppv2\n",
    "\n",
    "https://itensor.discourse.group/t/trace-and-partial-trace-of-mpo/79/4\n",
    "\n",
    "https://itensor.github.io/ITensors.jl/stable/MPSandMPO.html#ITensors.projector-Tuple%7BMPS%7D\n",
    "\n",
    "**Observer:**\n",
    "\n",
    "https://itensor.github.io/ITensors.jl/stable/DMRGObserver.html"
   ]
  }
 ],
 "metadata": {
  "kernelspec": {
   "display_name": "Julia 1.9.2",
   "language": "julia",
   "name": "julia-1.9"
  },
  "language_info": {
   "file_extension": ".jl",
   "mimetype": "application/julia",
   "name": "julia",
   "version": "1.9.2"
  }
 },
 "nbformat": 4,
 "nbformat_minor": 5
}
