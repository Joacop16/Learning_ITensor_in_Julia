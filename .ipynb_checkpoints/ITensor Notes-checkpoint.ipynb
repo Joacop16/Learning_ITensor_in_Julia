{
 "cells": [
  {
   "cell_type": "markdown",
   "id": "3bd39f3c-1009-4997-b0be-aa1b67b77148",
   "metadata": {},
   "source": [
    "#### Install ITensor"
   ]
  },
  {
   "cell_type": "code",
   "execution_count": 1,
   "id": "b4607e51-e94e-4028-8693-6ad25031157e",
   "metadata": {},
   "outputs": [],
   "source": [
    "# using Pkg\n",
    "# Pkg.add(\"ITensors\")"
   ]
  },
  {
   "cell_type": "markdown",
   "id": "e1e99ecc-fe19-407b-be0e-2d671f41c5b9",
   "metadata": {},
   "source": [
    "#### Load ITensor"
   ]
  },
  {
   "cell_type": "code",
   "execution_count": 2,
   "id": "9132b2df-9e7e-4c43-94ea-af20f091d4b2",
   "metadata": {},
   "outputs": [],
   "source": [
    "using ITensors"
   ]
  },
  {
   "cell_type": "markdown",
   "id": "032f77fe-f9a8-49de-9996-7fa4d6fff544",
   "metadata": {},
   "source": [
    "#### Index() and Itensor() functions\n",
    "\n",
    "- **Index()**: Define an Index represents a single tensor index with fixed dimension dim. \n",
    "\n",
    "- **Itensor()**: Constructor for an ITensor from a TensorStorage and a set of indices."
   ]
  },
  {
   "cell_type": "code",
   "execution_count": 3,
   "id": "211f5d1e-2960-4e49-98cd-c21884fad194",
   "metadata": {},
   "outputs": [],
   "source": [
    "# ?ITensor #This is how you ask for help in Julia"
   ]
  },
  {
   "cell_type": "code",
   "execution_count": 4,
   "id": "2090cbd5-0e9e-4542-847c-274539402003",
   "metadata": {},
   "outputs": [],
   "source": [
    "# ?Index #This is how you ask for help in Julia"
   ]
  },
  {
   "cell_type": "markdown",
   "id": "34a0bc60-fe61-4709-9b98-a57d039acf05",
   "metadata": {},
   "source": [
    "**Example of usage**:"
   ]
  },
  {
   "cell_type": "code",
   "execution_count": 5,
   "id": "9e0ce45f-16fc-417b-9b57-f50defc8393e",
   "metadata": {},
   "outputs": [
    {
     "name": "stdout",
     "output_type": "stream",
     "text": [
      "ITensor ord=2\n",
      "Dim 1: (dim=3|id=723)\n",
      "Dim 2: (dim=3|id=637)\n",
      "NDTensors.Dense{Int64, Vector{Int64}}\n",
      " 3×3\n",
      " 0  2  0\n",
      " 0  0  0\n",
      " 0  0  0\n"
     ]
    }
   ],
   "source": [
    "i = Index(3) \n",
    "j = Index(3)\n",
    "\n",
    "A = ITensor(i,j) \n",
    "\n",
    "A[i=>1, j => 2] = 2 #This is how we set the elements inside the tensor (it does not matter the order).\n",
    "\n",
    "println(A)"
   ]
  },
  {
   "cell_type": "code",
   "execution_count": 6,
   "id": "7f7183fb-e313-47f4-b2c1-54df55e275b0",
   "metadata": {},
   "outputs": [
    {
     "data": {
      "text/plain": [
       "2"
      ]
     },
     "execution_count": 6,
     "metadata": {},
     "output_type": "execute_result"
    }
   ],
   "source": [
    "A[i=>1,j=>2] #This is how we can get the elements inside the tensor  (it does not matter the order)."
   ]
  },
  {
   "cell_type": "markdown",
   "id": "38e43ec3-49d9-426d-a129-8147d0b9089c",
   "metadata": {},
   "source": [
    "**Matrix Example**:"
   ]
  },
  {
   "cell_type": "markdown",
   "id": "2c379d5f-4681-47e2-be75-6f8fa87584cd",
   "metadata": {},
   "source": [
    "Let's play a little bith with this. Consider the tensor product: $A_{ij}*B_{ik}$"
   ]
  },
  {
   "cell_type": "code",
   "execution_count": 7,
   "id": "0a23de52-f637-4ead-a2a9-e164c4167869",
   "metadata": {},
   "outputs": [],
   "source": [
    "i = Index(3)\n",
    "j = Index(3)\n",
    "k = Index(3)\n",
    "\n",
    "A = ITensor(i,j) \n",
    "B = ITensor(i,k) \n",
    "\n",
    "for j_index in 1:dim(j)\n",
    "    A[i=>1, j => j_index] = j_index\n",
    "    A[i=>2, j => j_index] = 3 + j_index\n",
    "    A[i=>3, j => j_index] = 6 + j_index\n",
    "end\n",
    "\n",
    "for k_index in 1:dim(j)\n",
    "    B[i=>1, k => k_index] = (k_index)/10\n",
    "    B[i=>2, k => k_index] = (3 + k_index)/10\n",
    "    B[i=>3, k => k_index] = (6 + k_index)/10\n",
    "end"
   ]
  },
  {
   "cell_type": "code",
   "execution_count": 8,
   "id": "f12dd410-a1c3-43b9-ae7c-4204d8ce4a98",
   "metadata": {},
   "outputs": [
    {
     "name": "stdout",
     "output_type": "stream",
     "text": [
      "ITensor ord=2\n",
      "Dim 1: (dim=3|id=701)\n",
      "Dim 2: (dim=3|id=146)\n",
      "NDTensors.Dense{Int64, Vector{Int64}}\n",
      " 3×3\n",
      " 1  2  3\n",
      " 4  5  6\n",
      " 7  8  9\n"
     ]
    }
   ],
   "source": [
    "println(A)"
   ]
  },
  {
   "cell_type": "code",
   "execution_count": 9,
   "id": "56267531-e8aa-49da-a780-8f05e1f0979d",
   "metadata": {},
   "outputs": [
    {
     "name": "stdout",
     "output_type": "stream",
     "text": [
      "ITensor ord=2\n",
      "Dim 1: (dim=3|id=701)\n",
      "Dim 2: (dim=3|id=970)\n",
      "NDTensors.Dense{Float64, Vector{Float64}}\n",
      " 3×3\n",
      " 0.1  0.2  0.3\n",
      " 0.4  0.5  0.6\n",
      " 0.7  0.8  0.9\n"
     ]
    }
   ],
   "source": [
    "println(B)"
   ]
  },
  {
   "cell_type": "markdown",
   "id": "6955674f-c2e0-4381-96ad-d57f7ea29f72",
   "metadata": {},
   "source": [
    "I choose this values just because all of them are different. Let's try to contract the indixes using Itensor "
   ]
  },
  {
   "cell_type": "code",
   "execution_count": 10,
   "id": "4c112863-1095-411b-b138-9297f3c2b1b3",
   "metadata": {},
   "outputs": [
    {
     "name": "stdout",
     "output_type": "stream",
     "text": [
      "ITensor ord=2\n",
      "Dim 1: (dim=3|id=146)\n",
      "Dim 2: (dim=3|id=970)\n",
      "NDTensors.Dense{Float64, Vector{Float64}}\n",
      " 3×3\n",
      " 6.6   7.800000000000001   9.0\n",
      " 7.8   9.3                10.8\n",
      " 9.0  10.8                12.6\n"
     ]
    }
   ],
   "source": [
    "C = A*B #Use * is how ITensor do the contraction of the common indexes between A and B.\n",
    "\n",
    "println(C)"
   ]
  },
  {
   "cell_type": "markdown",
   "id": "4965a3c5-fae1-463d-a435-b3a487b4a7b9",
   "metadata": {},
   "source": [
    "Let's try exactly the same without using Itensor, just Julia:"
   ]
  },
  {
   "cell_type": "code",
   "execution_count": 11,
   "id": "a5e64ac2-5056-4753-992e-0ca3ba5b88e7",
   "metadata": {},
   "outputs": [],
   "source": [
    "m, n = 3,3\n",
    "A_matrix = fill(0.0, (3,3))\n",
    "B_matrix = fill(0.0, (3,3))\n",
    "\n",
    "for j_index in 1:3, i_index in 1:3\n",
    "        A_matrix[i_index, j_index] = A[i=>i_index,j=>j_index]\n",
    "end\n",
    "\n",
    "for k_index in 1:3, i_index in 1:3\n",
    "        B_matrix[i_index, k_index] = B[i=>i_index,k=>k_index]\n",
    "end"
   ]
  },
  {
   "cell_type": "code",
   "execution_count": 12,
   "id": "a988d3b8-f669-4351-aca1-6b7db9c1eebe",
   "metadata": {},
   "outputs": [
    {
     "data": {
      "text/plain": [
       "3×3 Matrix{Float64}:\n",
       " 1.0  2.0  3.0\n",
       " 4.0  5.0  6.0\n",
       " 7.0  8.0  9.0"
      ]
     },
     "execution_count": 12,
     "metadata": {},
     "output_type": "execute_result"
    }
   ],
   "source": [
    "A_matrix #i,j"
   ]
  },
  {
   "cell_type": "code",
   "execution_count": 13,
   "id": "c59839de-d0aa-41a8-bed8-33db94769157",
   "metadata": {},
   "outputs": [
    {
     "data": {
      "text/plain": [
       "3×3 Matrix{Float64}:\n",
       " 0.1  0.2  0.3\n",
       " 0.4  0.5  0.6\n",
       " 0.7  0.8  0.9"
      ]
     },
     "execution_count": 13,
     "metadata": {},
     "output_type": "execute_result"
    }
   ],
   "source": [
    "B_matrix #k,i"
   ]
  },
  {
   "cell_type": "markdown",
   "id": "db44e088-a56f-4ea8-828a-37bfd3f41d57",
   "metadata": {},
   "source": [
    "Here we do not have an index, just matrixes. We must be careful thinking what index we can to contract, and do the operation that we really want.\n",
    "\n",
    "It is not just A_matrix*B_matrix"
   ]
  },
  {
   "cell_type": "code",
   "execution_count": 14,
   "id": "11a5a49e-0834-4367-9a6e-50b93fb7e3dc",
   "metadata": {},
   "outputs": [
    {
     "data": {
      "text/plain": [
       "3×3 Matrix{Float64}:\n",
       "  3.0   3.6   4.2\n",
       "  6.6   8.1   9.6\n",
       " 10.2  12.6  15.0"
      ]
     },
     "execution_count": 14,
     "metadata": {},
     "output_type": "execute_result"
    }
   ],
   "source": [
    "A_matrix*B_matrix"
   ]
  },
  {
   "cell_type": "markdown",
   "id": "0b6fd745-40af-4e4b-960e-267670d925d6",
   "metadata": {},
   "source": [
    "We want $A_{ij}*B_{ik}$, and $(A*B)_{ik}$ = $A_{ij}*B_{jk}$, that is very different.\n",
    "\n",
    "So $A_{ij}*B_{ik}$ = $A^{T}_{ji}*B_{ik}$ = $(A^{T}*B)_{jk}$"
   ]
  },
  {
   "cell_type": "code",
   "execution_count": 15,
   "id": "79dfc2bc-fe20-434c-9e07-29f0282c10e6",
   "metadata": {},
   "outputs": [
    {
     "data": {
      "text/plain": [
       "3×3 Matrix{Float64}:\n",
       " 6.6   7.8   9.0\n",
       " 7.8   9.3  10.8\n",
       " 9.0  10.8  12.6"
      ]
     },
     "execution_count": 15,
     "metadata": {},
     "output_type": "execute_result"
    }
   ],
   "source": [
    "transpose(A_matrix)*B_matrix"
   ]
  },
  {
   "cell_type": "markdown",
   "id": "5ce9777b-c828-4a94-b634-af1f6cc5c6e4",
   "metadata": {},
   "source": [
    "We got the same result, but was harder without ITensor."
   ]
  },
  {
   "cell_type": "markdown",
   "id": "3826cf50-f61e-4e7b-873e-4776ba0dcf1d",
   "metadata": {},
   "source": [
    "#### randomITensor() function\n",
    "\n",
    "Create an ITensor with normally-distributed random elements instead of specific values."
   ]
  },
  {
   "cell_type": "code",
   "execution_count": 16,
   "id": "d359c1ed-9120-4e2a-a050-b7e4cf7d8ee1",
   "metadata": {},
   "outputs": [
    {
     "name": "stdout",
     "output_type": "stream",
     "text": [
      "ITensor ord=3\n",
      "Dim 1: (dim=3|id=701)\n",
      "Dim 2: (dim=3|id=146)\n",
      "Dim 3: (dim=3|id=970)\n",
      "NDTensors.Dense{Float64, Vector{Float64}}\n",
      " 3×3×3\n",
      "[:, :, 1] =\n",
      " -0.8448438054962486   -0.5766655883899466   0.7801098827611991\n",
      " -0.30089353376558714  -2.2241772069346366  -0.9005492667931966\n",
      " -0.5834833980583248    0.4584843686427207  -2.277873757673437\n",
      "\n",
      "[:, :, 2] =\n",
      " -1.3811354216516143    0.5842736743114801    1.1944366406803495\n",
      "  1.8389793857318693    0.15337753288940334   0.6484452260327175\n",
      "  0.24476498535588453  -0.19578279379412858  -0.5989647370527114\n",
      "\n",
      "[:, :, 3] =\n",
      " 0.4923653977929339    0.6179540958176872   0.060175853610214804\n",
      " 0.9275529715256585    0.3844983581247267  -0.6214343662268764\n",
      " 0.045967213876599994  1.5557077324808857   1.803525162565913\n"
     ]
    }
   ],
   "source": [
    "A = randomITensor(i,j,k)\n",
    "\n",
    "println(A)"
   ]
  },
  {
   "cell_type": "markdown",
   "id": "0ec6f796-5b53-4aaa-ac5f-d4b5b2c3feda",
   "metadata": {},
   "source": [
    "#### Linear combinations of ITensors\n",
    "\n",
    "ITensors may also be subtracted and multiplied by scalars, including complex scalars, for example:"
   ]
  },
  {
   "cell_type": "code",
   "execution_count": 17,
   "id": "b53e93ac-11af-44dc-8fa5-8183b5632da8",
   "metadata": {},
   "outputs": [
    {
     "data": {
      "text/plain": [
       "ITensor ord=3 (dim=3|id=970) (dim=3|id=701) (dim=3|id=146)\n",
       "NDTensors.Dense{Float64, Vector{Float64}}"
      ]
     },
     "execution_count": 17,
     "metadata": {},
     "output_type": "execute_result"
    }
   ],
   "source": [
    "A = randomITensor(i,j,k)\n",
    "B = randomITensor(k,i,j) "
   ]
  },
  {
   "cell_type": "code",
   "execution_count": 18,
   "id": "be94559e-aa71-4a80-8033-867130dacdcc",
   "metadata": {},
   "outputs": [
    {
     "data": {
      "text/plain": [
       "ITensor ord=3 (dim=3|id=701) (dim=3|id=146) (dim=3|id=970)\n",
       "NDTensors.Dense{ComplexF64, Vector{ComplexF64}}"
      ]
     },
     "execution_count": 18,
     "metadata": {},
     "output_type": "execute_result"
    }
   ],
   "source": [
    "C = 4*A - B/2 \n",
    "D = A + 3.0im * B"
   ]
  },
  {
   "cell_type": "code",
   "execution_count": 19,
   "id": "ba23f1d8-cda2-4172-b0bb-73695c2ece1c",
   "metadata": {},
   "outputs": [
    {
     "name": "stdout",
     "output_type": "stream",
     "text": [
      "ITensor ord=3\n",
      "Dim 1: (dim=3|id=701)\n",
      "Dim 2: (dim=3|id=146)\n",
      "Dim 3: (dim=3|id=970)\n",
      "NDTensors.Dense{ComplexF64, Vector{ComplexF64}}\n",
      " 3×3×3\n",
      "[:, :, 1] =\n",
      " -1.2636815759290825 - 0.3433407044362427im   0.6350604112667522 + 2.733662732604917im     0.8010109105099674 + 4.619186631734982im\n",
      " -0.2572559434748985 - 3.281362147412273im   -0.0658340351734703 + 1.4375275591100594im   -0.7933623934214925 - 2.291518252472905im\n",
      "   -1.69517206129063 - 3.8930059352071607im  -0.6552433101291986 - 4.556829192424722im   -0.04866912860821715 - 2.66817319504562im\n",
      "\n",
      "[:, :, 2] =\n",
      "   2.065923628326572 - 2.096633651917678im   -1.433848845571969 + 4.163077843976798im     0.8297364186611381 + 5.709457290756246im\n",
      "  0.1330465848784986 + 2.395517679110611im   0.3895452987625015 + 2.279160888958553im    0.27557233096224243 - 5.025239950307328im\n",
      " -0.5363720043390507 - 0.6846423137660543im  0.5735315695592704 - 1.5561895174145108im  -0.09718128364392055 - 2.5032404334402893im\n",
      "\n",
      "[:, :, 3] =\n",
      " 0.14411050254379662 - 0.02658996275126327im  -0.5575814141691695 + 1.2731655637578747im   0.18914274630118327 + 0.8357659498974666im\n",
      "  -2.571647603611888 + 0.1251498665004337im    1.2739291728898343 - 0.23073585401782887im  -0.4658178884559792 + 3.1132149060140017im\n",
      " -1.7405268892119272 + 4.096599405408341im    -0.5397212760232711 + 0.8583513664479483im    0.3763582067421386 + 7.021678279524817im\n"
     ]
    }
   ],
   "source": [
    "println(D)"
   ]
  },
  {
   "cell_type": "markdown",
   "id": "95b2f515-0f1b-4218-9fcb-debbdf9553c2",
   "metadata": {},
   "source": [
    "This is just possible because A and B have the same indexes:"
   ]
  },
  {
   "cell_type": "code",
   "execution_count": 20,
   "id": "bf822f38-d993-449a-be5d-67989fae018e",
   "metadata": {},
   "outputs": [
    {
     "data": {
      "text/plain": [
       "ITensor ord=3 (dim=3|id=970) (dim=3|id=701) (dim=3|id=126)\n",
       "NDTensors.Dense{Float64, Vector{Float64}}"
      ]
     },
     "execution_count": 20,
     "metadata": {},
     "output_type": "execute_result"
    }
   ],
   "source": [
    "l = Index(3)\n",
    "\n",
    "A = randomITensor(i,j,k)\n",
    "B = randomITensor(k,i,l) "
   ]
  },
  {
   "cell_type": "code",
   "execution_count": 21,
   "id": "ad43b9f2-0154-417e-946c-7fcbefe39cc0",
   "metadata": {},
   "outputs": [
    {
     "ename": "LoadError",
     "evalue": "You are trying to add an ITensor with indices:\n\n((dim=3|id=970), (dim=3|id=701), (dim=3|id=126))\n\ninto an ITensor with indices:\n\n((dim=3|id=701), (dim=3|id=146), (dim=3|id=970))\n\nbut the indices are not permutations of each other.\n",
     "output_type": "error",
     "traceback": [
      "You are trying to add an ITensor with indices:\n\n((dim=3|id=970), (dim=3|id=701), (dim=3|id=126))\n\ninto an ITensor with indices:\n\n((dim=3|id=701), (dim=3|id=146), (dim=3|id=970))\n\nbut the indices are not permutations of each other.\n",
      "",
      "Stacktrace:",
      " [1] error(s::String)",
      "   @ Base .\\error.jl:35",
      " [2] _map!!(f::Function, R::NDTensors.DenseTensor{Float64, 3, Tuple{Index{Int64}, Index{Int64}, Index{Int64}}, NDTensors.Dense{Float64, Vector{Float64}}}, T1::NDTensors.DenseTensor{Float64, 3, Tuple{Index{Int64}, Index{Int64}, Index{Int64}}, NDTensors.Dense{Float64, Vector{Float64}}}, T2::NDTensors.DenseTensor{Float64, 3, Tuple{Index{Int64}, Index{Int64}, Index{Int64}}, NDTensors.Dense{Float64, Vector{Float64}}})",
      "   @ ITensors C:\\Users\\joaqu\\.julia\\packages\\ITensors\\yZbTa\\src\\itensor.jl:1929",
      " [3] map!(f::Function, R::ITensor, T1::ITensor, T2::ITensor)",
      "   @ ITensors C:\\Users\\joaqu\\.julia\\packages\\ITensors\\yZbTa\\src\\itensor.jl:1955",
      " [4] copyto!",
      "   @ C:\\Users\\joaqu\\.julia\\packages\\ITensors\\yZbTa\\src\\broadcast.jl:321 [inlined]",
      " [5] materialize!",
      "   @ .\\broadcast.jl:884 [inlined]",
      " [6] materialize!",
      "   @ .\\broadcast.jl:881 [inlined]",
      " [7] -(A::ITensor, B::ITensor)",
      "   @ ITensors C:\\Users\\joaqu\\.julia\\packages\\ITensors\\yZbTa\\src\\itensor.jl:1872",
      " [8] top-level scope",
      "   @ In[21]:1"
     ]
    }
   ],
   "source": [
    "C = 4*A - B/2 "
   ]
  },
  {
   "cell_type": "markdown",
   "id": "ec4ae59f-a85f-44b4-89e1-35327d05b374",
   "metadata": {},
   "source": [
    "#### prime(), delta(), combiner() and dag() functions\n",
    "\n",
    "We already see that we can use * to contract the common indexes between two or more tensors. However, * can be used in different ways if we also use the functions prime(), delta(), combiner() and dag().\n",
    "\n",
    "Consider two Tensors:"
   ]
  },
  {
   "cell_type": "markdown",
   "id": "93d683ca-1d70-4229-b86d-7ce6edda6954",
   "metadata": {},
   "source": [
    "A = randomITensor(i,j)\n",
    "B = randomITensor(i,j) "
   ]
  },
  {
   "cell_type": "markdown",
   "id": "b9460f16-4e2d-4f1a-92c5-57851f39bd86",
   "metadata": {},
   "source": [
    "They have two common indixes:"
   ]
  },
  {
   "cell_type": "code",
   "execution_count": 22,
   "id": "afb9674c-0933-45be-88f9-b55147ae54f4",
   "metadata": {},
   "outputs": [
    {
     "data": {
      "text/plain": [
       "2-element Vector{Index{Int64}}:\n",
       " (dim=3|id=701)\n",
       " (dim=3|id=970)"
      ]
     },
     "execution_count": 22,
     "metadata": {},
     "output_type": "execute_result"
    }
   ],
   "source": [
    "commoninds(A,B) #It returns the id of the common indixes between A and B"
   ]
  },
  {
   "cell_type": "markdown",
   "id": "d4bb99f0-0e84-40f1-8240-9b8744acbab2",
   "metadata": {},
   "source": [
    "As we expected, these indixes are i and j:"
   ]
  },
  {
   "cell_type": "code",
   "execution_count": 23,
   "id": "b0d22876-5f83-4a22-948b-1ca8d8715fee",
   "metadata": {},
   "outputs": [
    {
     "data": {
      "text/plain": [
       "((dim=3|id=701), (dim=3|id=146))"
      ]
     },
     "execution_count": 23,
     "metadata": {},
     "output_type": "execute_result"
    }
   ],
   "source": [
    "i,j"
   ]
  },
  {
   "cell_type": "markdown",
   "id": "107bdf94-c459-4e4e-b089-2d0557dc81db",
   "metadata": {},
   "source": [
    "Then if we use * between A and B, the operator will contract both indexes:"
   ]
  },
  {
   "cell_type": "code",
   "execution_count": 24,
   "id": "827c8277-2c3c-4dbd-b856-e62420fdbd67",
   "metadata": {},
   "outputs": [
    {
     "data": {
      "text/plain": [
       "ITensor ord=2 (dim=3|id=146) (dim=3|id=126)\n",
       "NDTensors.Dense{Float64, Vector{Float64}}"
      ]
     },
     "execution_count": 24,
     "metadata": {},
     "output_type": "execute_result"
    }
   ],
   "source": [
    "C = A*B #We got a tensor of range zero (an scalar)"
   ]
  },
  {
   "cell_type": "markdown",
   "id": "79a9deae-c7fe-442e-967a-a46306238c5c",
   "metadata": {},
   "source": [
    "This has sense because it is just $A_{i,j}*B_{i,j}$. IF we contract i and j, then we must have and scalar. We can access to this scalar in two ways:"
   ]
  },
  {
   "cell_type": "code",
   "execution_count": 25,
   "id": "63f27a61-d596-473e-8cf3-dd995a339a53",
   "metadata": {},
   "outputs": [
    {
     "ename": "LoadError",
     "evalue": "DimensionMismatch: In scalar(T) or T[], ITensor T is not a scalar (it has indices ((dim=3|id=146), (dim=3|id=126))).",
     "output_type": "error",
     "traceback": [
      "DimensionMismatch: In scalar(T) or T[], ITensor T is not a scalar (it has indices ((dim=3|id=146), (dim=3|id=126))).",
      "",
      "Stacktrace:",
      " [1] getindex(T::ITensor)",
      "   @ ITensors C:\\Users\\joaqu\\.julia\\packages\\ITensors\\yZbTa\\src\\itensor.jl:1145",
      " [2] top-level scope",
      "   @ In[25]:1"
     ]
    }
   ],
   "source": [
    "C[], scalar(C)"
   ]
  },
  {
   "cell_type": "markdown",
   "id": "c8e0daa6-f236-43ab-a946-be19c3fa910b",
   "metadata": {},
   "source": [
    "There are some cases when we do not want to contract all the common indexes. For example, if we just want to contract j even if there are two common indexes we can use the function **prime()**:"
   ]
  },
  {
   "cell_type": "code",
   "execution_count": 26,
   "id": "1016d0e1-4a2d-4b84-9698-6637336da7fc",
   "metadata": {},
   "outputs": [
    {
     "data": {
      "text/plain": [
       "ITensor ord=3 (dim=3|id=701)' (dim=3|id=146) (dim=3|id=970)\n",
       "NDTensors.Dense{Float64, Vector{Float64}}"
      ]
     },
     "execution_count": 26,
     "metadata": {},
     "output_type": "execute_result"
    }
   ],
   "source": [
    "A_prime = prime(A,i)"
   ]
  },
  {
   "cell_type": "markdown",
   "id": "74f81fcb-21cd-456d-9574-52ac9b739551",
   "metadata": {},
   "source": [
    "The ITensor A_prime has the same elements as A but has indices (i',j) instead of (i,j)."
   ]
  },
  {
   "cell_type": "code",
   "execution_count": 27,
   "id": "fc2c4f41-b523-4aac-8fc4-6fdbe8df5a62",
   "metadata": {},
   "outputs": [
    {
     "name": "stdout",
     "output_type": "stream",
     "text": [
      "ITensor ord=3\n",
      "Dim 1: (dim=3|id=701)\n",
      "Dim 2: (dim=3|id=146)\n",
      "Dim 3: (dim=3|id=970)\n",
      "NDTensors.Dense{Float64, Vector{Float64}}\n",
      " 3×3×3\n",
      "[:, :, 1] =\n",
      " -0.298300139746288    0.7354383564643635   0.4822169212168984\n",
      "  0.8441801089665497  -1.322201408473126    1.3742715358406357\n",
      " -0.584990273365746   -0.4105820488507161  -0.8392737158803838\n",
      "\n",
      "[:, :, 2] =\n",
      " -1.8083800888223183   1.4490873973049743   1.260428902013258\n",
      " -0.7848888887060964  -1.0926160511327083  -0.6073094306435473\n",
      "  0.2557463018607807  -1.7030575777391446  -2.300219617337377\n",
      "\n",
      "[:, :, 3] =\n",
      " -0.08646451575128565  -0.8640184553605545    1.1837326650915048\n",
      "  2.0155602586289656   -1.1598628352255387   -1.1754289405094986\n",
      "  0.7088522333980871   -0.31536023087832754   1.175236286441898\n",
      "ITensor ord=3\n",
      "Dim 1: (dim=3|id=701)'\n",
      "Dim 2: (dim=3|id=146)\n",
      "Dim 3: (dim=3|id=970)\n",
      "NDTensors.Dense{Float64, Vector{Float64}}\n",
      " 3×3×3\n",
      "[:, :, 1] =\n",
      " -0.298300139746288    0.7354383564643635   0.4822169212168984\n",
      "  0.8441801089665497  -1.322201408473126    1.3742715358406357\n",
      " -0.584990273365746   -0.4105820488507161  -0.8392737158803838\n",
      "\n",
      "[:, :, 2] =\n",
      " -1.8083800888223183   1.4490873973049743   1.260428902013258\n",
      " -0.7848888887060964  -1.0926160511327083  -0.6073094306435473\n",
      "  0.2557463018607807  -1.7030575777391446  -2.300219617337377\n",
      "\n",
      "[:, :, 3] =\n",
      " -0.08646451575128565  -0.8640184553605545    1.1837326650915048\n",
      "  2.0155602586289656   -1.1598628352255387   -1.1754289405094986\n",
      "  0.7088522333980871   -0.31536023087832754   1.175236286441898\n"
     ]
    }
   ],
   "source": [
    "println(A)\n",
    "\n",
    "println(A_prime)"
   ]
  },
  {
   "cell_type": "markdown",
   "id": "c8a4ade7-8f18-4cd2-8c8d-a5b4b1f31eaf",
   "metadata": {},
   "source": [
    "**Note:** We also can do A_prime = prime(A,i,j) or just A_prime = A'. Then A_prime will have the same elements as A but has indices (i',j') instead of (i,j). \n",
    "\n",
    "In this case A_prime and B just have one common index:"
   ]
  },
  {
   "cell_type": "code",
   "execution_count": 28,
   "id": "e2e59fb4-a2fc-4f6b-90cb-f61955ac5096",
   "metadata": {},
   "outputs": [
    {
     "data": {
      "text/plain": [
       "1-element Vector{Index{Int64}}:\n",
       " (dim=3|id=970)"
      ]
     },
     "execution_count": 28,
     "metadata": {},
     "output_type": "execute_result"
    }
   ],
   "source": [
    "commoninds(A_prime,B)"
   ]
  },
  {
   "cell_type": "markdown",
   "id": "490c191a-4f35-4423-b0fd-7fff7bb2ed66",
   "metadata": {},
   "source": [
    "So,"
   ]
  },
  {
   "cell_type": "code",
   "execution_count": 29,
   "id": "5627151a-1b72-4ffd-a6aa-08ac98391e78",
   "metadata": {},
   "outputs": [
    {
     "name": "stdout",
     "output_type": "stream",
     "text": [
      "ITensor ord=4\n",
      "Dim 1: (dim=3|id=701)'\n",
      "Dim 2: (dim=3|id=146)\n",
      "Dim 3: (dim=3|id=701)\n",
      "Dim 4: (dim=3|id=126)\n",
      "NDTensors.Dense{Float64, Vector{Float64}}\n",
      " 3×3×3×3\n",
      "[:, :, 1, 1] =\n",
      " -1.1773959146979005  -0.004047790231941573   2.299663486875412\n",
      "  2.375207038374048   -2.50787055040364      -1.223576972395286\n",
      "  0.7741095375521281  -1.4449492197646876    -0.1059788302556881\n",
      "\n",
      "[:, :, 2, 1] =\n",
      "  3.478483379624589   -1.894816340084601   -3.6180450219929554\n",
      " -0.735983033774696    3.3975225128217095   2.1463465255286014\n",
      " -1.1230703641278277   3.5343326431921946   3.1648745390399196\n",
      "\n",
      "[:, :, 3, 1] =\n",
      " -2.7609719596305022     2.7062650796740395   2.282663792583736\n",
      " -0.027384643749334428  -2.9738086163170316   0.6243315973348044\n",
      " -0.25862057371665487   -2.7540425457115014  -3.947455907863056\n",
      "\n",
      "[:, :, 1, 2] =\n",
      " -1.0098048076401673   1.81380902813124    -0.5143368414040522\n",
      " -2.6692120943303386   0.5996915408212641   0.8861240520426468\n",
      " -0.604455948380298   -0.6966080109223389  -2.6701595736565222\n",
      "\n",
      "[:, :, 2, 2] =\n",
      " -0.8944000806064448   1.44282097420243    -0.588373416448392\n",
      " -2.7856053498423567   0.9918493206597007   0.256614684143062\n",
      " -0.3160834155350881  -0.5618956944553082  -2.224232090350268\n",
      "\n",
      "[:, :, 3, 2] =\n",
      " 0.864812689820933   -1.42933477705063    -0.36174478531488624\n",
      " 0.4661597391677142   0.9300101097275109  -1.2540976580321044\n",
      " 0.6172879429747129   0.8179522065398602   1.9484021307325774\n",
      "\n",
      "[:, :, 1, 3] =\n",
      " 0.4830695686018389  -1.8397798531727574    0.9270599700619051\n",
      " 2.256394466371158   -0.46931880176454066  -2.1030753346488\n",
      " 1.158729661441091    0.23213798389588663   2.490452197474153\n",
      "\n",
      "[:, :, 2, 3] =\n",
      " -0.09206970146019315  -1.020317958812225    -0.6457865658827678\n",
      " -2.435603266303851     2.6705562446925697   -3.385180893468011\n",
      "  1.4263640587421953    0.22976877551634828   0.8693553511556846\n",
      "\n",
      "[:, :, 3, 3] =\n",
      "  1.112867429287792   -0.046240849518563165  -0.6729825732487928\n",
      "  1.277734555849658   -0.5489073065432487     2.52359295749246\n",
      " -1.1183328647147461   0.9334477946637199     0.5387503225676937\n"
     ]
    }
   ],
   "source": [
    "C = A_prime*B\n",
    "\n",
    "println(C)"
   ]
  },
  {
   "cell_type": "markdown",
   "id": "44b0801c-ad25-4c75-82af-abf5d5532f91",
   "metadata": {},
   "source": [
    "Instead of doing $A_{i,j}*B_{i,j}$, we did $A_{i',j}*B_{i,j} = C_{i',i}$. Now if we want to get the same scalar as before, we just need to contract when $i = i'$. We can do this using the function **delta()**:"
   ]
  },
  {
   "cell_type": "code",
   "execution_count": 30,
   "id": "7592999d-e76c-4c79-a939-7e17b0b4f25c",
   "metadata": {},
   "outputs": [
    {
     "name": "stdout",
     "output_type": "stream",
     "text": [
      "ITensor ord=2\n",
      "Dim 1: (dim=3|id=701)\n",
      "Dim 2: (dim=3|id=701)'\n",
      "NDTensors.Diag{Float64, Float64}\n",
      " 3×3\n",
      " 1.0  0.0  0.0\n",
      " 0.0  1.0  0.0\n",
      " 0.0  0.0  1.0\n"
     ]
    }
   ],
   "source": [
    "println(delta(i,i'))"
   ]
  },
  {
   "cell_type": "markdown",
   "id": "58e6d730-7cdd-4630-bc92-1784baa6f618",
   "metadata": {},
   "source": [
    "Then,"
   ]
  },
  {
   "cell_type": "code",
   "execution_count": 31,
   "id": "f5f30cb2-1bb3-4845-83e7-6bdda99542e6",
   "metadata": {},
   "outputs": [
    {
     "name": "stdout",
     "output_type": "stream",
     "text": [
      "ITensor ord=2\n",
      "Dim 1: (dim=3|id=146)\n",
      "Dim 2: (dim=3|id=126)\n",
      "NDTensors.Dense{Float64, Vector{Float64}}\n",
      " 3×3\n",
      " -2.1719995221892514   -3.1781222145078116  -3.070866562416758\n",
      "  0.6394321768782665    3.623610555330801    1.7642241861835322\n",
      "  0.49855410454095717   1.6906799734715872  -1.9193706008384126\n"
     ]
    }
   ],
   "source": [
    "println(C*delta(i,i'))"
   ]
  },
  {
   "cell_type": "markdown",
   "id": "16cc9c34-448f-4399-ab0a-979e3e4fb08c",
   "metadata": {},
   "source": [
    "**Note:** delta() output is the identity tensor, we can build it with more indexes:"
   ]
  },
  {
   "cell_type": "code",
   "execution_count": 32,
   "id": "ad1f3e2f-fd50-408c-9375-c86147832199",
   "metadata": {},
   "outputs": [
    {
     "name": "stdout",
     "output_type": "stream",
     "text": [
      "ITensor ord=3\n",
      "Dim 1: (dim=3|id=701)\n",
      "Dim 2: (dim=3|id=146)\n",
      "Dim 3: (dim=3|id=970)\n",
      "NDTensors.Diag{Float64, Float64}\n",
      " 3×3×3\n",
      "[:, :, 1] =\n",
      " 1.0  0.0  0.0\n",
      " 0.0  0.0  0.0\n",
      " 0.0  0.0  0.0\n",
      "\n",
      "[:, :, 2] =\n",
      " 0.0  0.0  0.0\n",
      " 0.0  1.0  0.0\n",
      " 0.0  0.0  0.0\n",
      "\n",
      "[:, :, 3] =\n",
      " 0.0  0.0  0.0\n",
      " 0.0  0.0  0.0\n",
      " 0.0  0.0  1.0\n"
     ]
    }
   ],
   "source": [
    "println(delta(i,j,k))"
   ]
  },
  {
   "cell_type": "markdown",
   "id": "0dd9dfdc-b194-4ba0-bafd-c6d81537197b",
   "metadata": {},
   "source": [
    "**Note:** Julia allows us to use directly the symbol δ instead of delta."
   ]
  },
  {
   "cell_type": "code",
   "execution_count": 33,
   "id": "159076da-e26a-4b0f-b097-5eafd7f9dfa9",
   "metadata": {},
   "outputs": [
    {
     "name": "stdout",
     "output_type": "stream",
     "text": [
      "ITensor ord=3\n",
      "Dim 1: (dim=3|id=970)\n",
      "Dim 2: (dim=3|id=701)\n",
      "Dim 3: (dim=3|id=146)\n",
      "NDTensors.Diag{Float64, Float64}\n",
      " 3×3×3\n",
      "[:, :, 1] =\n",
      " 1.0  0.0  0.0\n",
      " 0.0  0.0  0.0\n",
      " 0.0  0.0  0.0\n",
      "\n",
      "[:, :, 2] =\n",
      " 0.0  0.0  0.0\n",
      " 0.0  1.0  0.0\n",
      " 0.0  0.0  0.0\n",
      "\n",
      "[:, :, 3] =\n",
      " 0.0  0.0  0.0\n",
      " 0.0  0.0  0.0\n",
      " 0.0  0.0  1.0\n"
     ]
    }
   ],
   "source": [
    "println(δ(k,i,j))"
   ]
  },
  {
   "cell_type": "markdown",
   "id": "9504afb3-34a0-4899-9cc3-ca9c6f4ceed9",
   "metadata": {},
   "source": [
    "In addition to this, we also can use the Itensor product operator (*) to reshape Tensors using the functions **combiner()** and **dag()**. \n",
    "\n",
    "As an example consider this tensor:"
   ]
  },
  {
   "cell_type": "code",
   "execution_count": 34,
   "id": "35c26ef8-570f-4e65-a7cb-01d39fdaca4d",
   "metadata": {},
   "outputs": [
    {
     "name": "stdout",
     "output_type": "stream",
     "text": [
      "ITensor ord=4\n",
      "Dim 1: (dim=3|id=701)\n",
      "Dim 2: (dim=3|id=146)\n",
      "Dim 3: (dim=3|id=970)\n",
      "Dim 4: (dim=3|id=126)\n",
      "NDTensors.Dense{Float64, Vector{Float64}}\n",
      " 3×3×3×3\n",
      "[:, :, 1, 1] =\n",
      " -0.16467305983041852   -1.3799829327081825    0.3641270485862605\n",
      "  0.8724462033111595     1.0214697788154985    1.242192323190504\n",
      "  0.016985316198691227  -0.15572247294502684  -0.4674855966542696\n",
      "\n",
      "[:, :, 2, 1] =\n",
      "  0.5118804463690205   -0.8958436849056645   0.22165949526336484\n",
      " -0.12913085992471535   1.7998749629616766  -0.613701386594952\n",
      "  1.367350184841786     0.6512655055772542  -0.6048185333995241\n",
      "\n",
      "[:, :, 3, 1] =\n",
      "  0.517520910157864    -0.9375686807827592  -0.1311100132699169\n",
      " -0.9971536117207376    0.6009958590291659  -1.0750848472719128\n",
      "  0.08895613730104732   2.1751757489310024   0.3472960605565142\n",
      "\n",
      "[:, :, 1, 2] =\n",
      " -1.3113630132812824   0.8979562793257395   -0.2793031615940889\n",
      "  0.3212316104998843  -0.29135758471152484  -0.8805960579942903\n",
      " -0.6169398706507204  -0.31332297744293     -0.5528229144686562\n",
      "\n",
      "[:, :, 2, 2] =\n",
      " -1.0577890735334174  -0.15727043594286308  -0.3989102379264582\n",
      "  0.583655931667914   -0.26106428550926747  -0.42116288488162296\n",
      "  0.2549206570016759   1.3910164963830485   -0.07019247880814687\n",
      "\n",
      "[:, :, 3, 2] =\n",
      " -1.4242679443916104  -0.8301653805348318     0.13025225933947215\n",
      "  0.5577293593358994  -0.040869441291267815   0.7204207520011389\n",
      "  0.8230945573734006   0.6439207763216788    -1.190454110145767\n",
      "\n",
      "[:, :, 1, 3] =\n",
      " -0.22127075172922372  -0.4263310336243007   0.9658811244451502\n",
      "  1.312910436940747    -0.16292651787746673  0.16187298884291448\n",
      "  1.6029302738743811    1.9913516788175174   0.9908219335783708\n",
      "\n",
      "[:, :, 2, 3] =\n",
      "  0.4113962013040699    0.28602719155228296  -0.8960486490477458\n",
      "  0.31873229922446294   0.21176299821949984  -0.8180847504266139\n",
      " -0.28780931627937445  -0.5558401850646877   -0.48487140711674526\n",
      "\n",
      "[:, :, 3, 3] =\n",
      " -0.7873387958767754   0.2770473867162359  -0.09665414388229573\n",
      "  0.511219995794985    0.1361343222576142   0.009407614030854244\n",
      "  1.1745203808373812  -0.5836328397420842   0.19439349449147614\n"
     ]
    }
   ],
   "source": [
    "A = randomITensor(i,j,k,l)\n",
    "\n",
    "println(A)"
   ]
  },
  {
   "cell_type": "markdown",
   "id": "e4d95e2a-f7e6-4bcd-b7b2-65fa0cd98713",
   "metadata": {},
   "source": [
    "We have a tensor of order 4. If we want to reshape it as a tensor of order 2, we can use the function combiner to merge i, j and k indexes:"
   ]
  },
  {
   "cell_type": "code",
   "execution_count": 35,
   "id": "9b63a44b-7b80-487d-af25-377ebfdde261",
   "metadata": {},
   "outputs": [
    {
     "data": {
      "text/plain": [
       "ITensor ord=4 (dim=27|id=294|\"ijk\") (dim=3|id=701) (dim=3|id=146) (dim=3|id=970)\n",
       "NDTensors.Combiner"
      ]
     },
     "execution_count": 35,
     "metadata": {},
     "output_type": "execute_result"
    }
   ],
   "source": [
    "Mix_i_j_k = combiner(i,j,k, tags = \"ijk\") #tags is an optional parameter when we define indexes, is just a label to know what means the index. In this case is useful to remember which indexes was merged."
   ]
  },
  {
   "cell_type": "markdown",
   "id": "d1ea7438-2846-4761-ac19-798411dd1c73",
   "metadata": {},
   "source": [
    "Then we just need to do the product:"
   ]
  },
  {
   "cell_type": "code",
   "execution_count": 36,
   "id": "bfdc0b09-0c04-49a2-a561-88dcb389810e",
   "metadata": {},
   "outputs": [
    {
     "name": "stdout",
     "output_type": "stream",
     "text": [
      "ITensor ord=2\n",
      "Dim 1: (dim=27|id=294|\"ijk\")\n",
      "Dim 2: (dim=3|id=126)\n",
      "NDTensors.Dense{Float64, Vector{Float64}}\n",
      " 27×3\n",
      " -0.16467305983041852   -1.3113630132812824    -0.22127075172922372\n",
      "  0.8724462033111595     0.3212316104998843     1.312910436940747\n",
      "  0.016985316198691227  -0.6169398706507204     1.6029302738743811\n",
      " -1.3799829327081825     0.8979562793257395    -0.4263310336243007\n",
      "  1.0214697788154985    -0.29135758471152484   -0.16292651787746673\n",
      " -0.15572247294502684   -0.31332297744293       1.9913516788175174\n",
      "  0.3641270485862605    -0.2793031615940889     0.9658811244451502\n",
      "  1.242192323190504     -0.8805960579942903     0.16187298884291448\n",
      " -0.4674855966542696    -0.5528229144686562     0.9908219335783708\n",
      "  0.5118804463690205    -1.0577890735334174     0.4113962013040699\n",
      " -0.12913085992471535    0.583655931667914      0.31873229922446294\n",
      "  1.367350184841786      0.2549206570016759    -0.28780931627937445\n",
      " -0.8958436849056645    -0.15727043594286308    0.28602719155228296\n",
      "  1.7998749629616766    -0.26106428550926747    0.21176299821949984\n",
      "  0.6512655055772542     1.3910164963830485    -0.5558401850646877\n",
      "  0.22165949526336484   -0.3989102379264582    -0.8960486490477458\n",
      " -0.613701386594952     -0.42116288488162296   -0.8180847504266139\n",
      " -0.6048185333995241    -0.07019247880814687   -0.48487140711674526\n",
      "  0.517520910157864     -1.4242679443916104    -0.7873387958767754\n",
      " -0.9971536117207376     0.5577293593358994     0.511219995794985\n",
      "  0.08895613730104732    0.8230945573734006     1.1745203808373812\n",
      " -0.9375686807827592    -0.8301653805348318     0.2770473867162359\n",
      "  0.6009958590291659    -0.040869441291267815   0.1361343222576142\n",
      "  2.1751757489310024     0.6439207763216788    -0.5836328397420842\n",
      " -0.1311100132699169     0.13025225933947215   -0.09665414388229573\n",
      " -1.0750848472719128     0.7204207520011389     0.009407614030854244\n",
      "  0.3472960605565142    -1.190454110145767      0.19439349449147614\n"
     ]
    }
   ],
   "source": [
    "A_reshaped_ijk_l = Mix_i_j_k*A \n",
    "\n",
    "println(A_reshaped_ijk_l)"
   ]
  },
  {
   "cell_type": "markdown",
   "id": "e2043cf6-13ee-4ce5-841a-9b4ec9394285",
   "metadata": {},
   "source": [
    "We also could thing in a mix i,j and k,l in order to have a matrix of dimensions ij x kl. If we want to do that we just need to use two combiners:"
   ]
  },
  {
   "cell_type": "code",
   "execution_count": 37,
   "id": "4e8be2b6-28e6-4889-bf78-1c8ed5fb1022",
   "metadata": {},
   "outputs": [
    {
     "name": "stdout",
     "output_type": "stream",
     "text": [
      "ITensor ord=2\n",
      "Dim 1: (dim=9|id=77|\"ij\")\n",
      "Dim 2: (dim=9|id=848|\"kl\")\n",
      "NDTensors.Dense{Float64, Vector{Float64}}\n",
      " 9×9\n",
      " -0.16467305983041852    0.5118804463690205    0.517520910157864    -1.3113630132812824   -1.0577890735334174   -1.4242679443916104    -0.22127075172922372   0.4113962013040699   -0.7873387958767754\n",
      "  0.8724462033111595    -0.12913085992471535  -0.9971536117207376    0.3212316104998843    0.583655931667914     0.5577293593358994     1.312910436940747     0.31873229922446294   0.511219995794985\n",
      "  0.016985316198691227   1.367350184841786     0.08895613730104732  -0.6169398706507204    0.2549206570016759    0.8230945573734006     1.6029302738743811   -0.28780931627937445   1.1745203808373812\n",
      " -1.3799829327081825    -0.8958436849056645   -0.9375686807827592    0.8979562793257395   -0.15727043594286308  -0.8301653805348318    -0.4263310336243007    0.28602719155228296   0.2770473867162359\n",
      "  1.0214697788154985     1.7998749629616766    0.6009958590291659   -0.29135758471152484  -0.26106428550926747  -0.040869441291267815  -0.16292651787746673   0.21176299821949984   0.1361343222576142\n",
      " -0.15572247294502684    0.6512655055772542    2.1751757489310024   -0.31332297744293      1.3910164963830485    0.6439207763216788     1.9913516788175174   -0.5558401850646877   -0.5836328397420842\n",
      "  0.3641270485862605     0.22165949526336484  -0.1311100132699169   -0.2793031615940889   -0.3989102379264582    0.13025225933947215    0.9658811244451502   -0.8960486490477458   -0.09665414388229573\n",
      "  1.242192323190504     -0.613701386594952    -1.0750848472719128   -0.8805960579942903   -0.42116288488162296   0.7204207520011389     0.16187298884291448  -0.8180847504266139    0.009407614030854244\n",
      " -0.4674855966542696    -0.6048185333995241    0.3472960605565142   -0.5528229144686562   -0.07019247880814687  -1.190454110145767      0.9908219335783708   -0.48487140711674526   0.19439349449147614\n"
     ]
    }
   ],
   "source": [
    "Mix_i_j = combiner(i,j, tags = \"ij\")\n",
    "Mix_k_l = combiner(k,l, tags = \"kl\")\n",
    "\n",
    "A_reshaped_ij_kl = Mix_i_j*(Mix_k_l*A)\n",
    "\n",
    "println(A_reshaped_ij_kl)"
   ]
  },
  {
   "cell_type": "markdown",
   "id": "6bab8cf5-2ebb-4d4f-9e7b-0e57be9920c0",
   "metadata": {},
   "source": [
    "Now, if we just want to recover the initial shape we can use the function **dag()**:"
   ]
  },
  {
   "cell_type": "code",
   "execution_count": 38,
   "id": "2907bd8a-0de0-4f92-8646-90c9ad406092",
   "metadata": {},
   "outputs": [
    {
     "data": {
      "text/plain": [
       "true"
      ]
     },
     "execution_count": 38,
     "metadata": {},
     "output_type": "execute_result"
    }
   ],
   "source": [
    "A_reconstructed_1 = (dag(Mix_i_j_k)*A_reshaped_ijk_l)\n",
    "A_reconstructed_2 = dag(Mix_k_l)*(dag(Mix_i_j)*A_reshaped_ij_kl)\n",
    "\n",
    "# Let's see if these tensor are the same as A:\n",
    "\n",
    "# println(A_reconstructed_1, A_reconstructed_2, A)\n",
    "A == A_reconstructed_1 == A_reconstructed_2"
   ]
  },
  {
   "cell_type": "markdown",
   "id": "d681b815-dcb9-4a1a-bb01-6b66467d931c",
   "metadata": {},
   "source": [
    "#### Descomposition of ITensors (QR and SVD):\n",
    "\n",
    "QR and SVD are two very useful and famous ways to descompose Matrixes (2-rank tensors). These descompositions just exist for Matrixes, so if we have a tensor of rank i x j x k x l is necessary to reshape the tensor as a matrix (could be something like ij x kl or ijk x l or i x jkl, etc.), apply the algorithm to build the QR or the SVD descomposition, and finally reshape again to recover the structure i x j x k x l. **qr()** and **svd()** do this large process for us. \n",
    "\n",
    "We just need to specify which index(es) we want for Q (for QR) or U (For SVD) matrix at the end of the process."
   ]
  },
  {
   "cell_type": "code",
   "execution_count": 39,
   "id": "bc19d457-a0b9-40d1-a8e8-48b681e47f0b",
   "metadata": {},
   "outputs": [],
   "source": [
    "# Q,R = qr(A_reshaped_ij_kl)"
   ]
  },
  {
   "cell_type": "code",
   "execution_count": 40,
   "id": "be7ebf45-2e50-4761-a48c-9f274cffbfdb",
   "metadata": {},
   "outputs": [],
   "source": [
    "# U,S,V = svd(A_reshaped_ij_kl)"
   ]
  },
  {
   "cell_type": "markdown",
   "id": "c74a3029-2d04-401b-b3ff-17b542c1d8b2",
   "metadata": {},
   "source": [
    "To see this, just consider the following tensor:"
   ]
  },
  {
   "cell_type": "code",
   "execution_count": 41,
   "id": "610b3a6c-c10d-475e-b68c-b5d7a7801fb1",
   "metadata": {},
   "outputs": [
    {
     "data": {
      "text/plain": [
       "ITensor ord=3 (dim=3|id=50|\"i\") (dim=3|id=650|\"j\") (dim=3|id=461|\"k\")\n",
       "NDTensors.Dense{Float64, Vector{Float64}}"
      ]
     },
     "execution_count": 41,
     "metadata": {},
     "output_type": "execute_result"
    }
   ],
   "source": [
    "i = Index(3, \"i\")\n",
    "j = Index(3, \"j\")\n",
    "k = Index(3, \"k\")\n",
    "\n",
    "A = randomITensor(i,j,k)"
   ]
  },
  {
   "cell_type": "code",
   "execution_count": 42,
   "id": "11a8598e-51aa-4e08-9582-13404fbd09e7",
   "metadata": {},
   "outputs": [
    {
     "name": "stdout",
     "output_type": "stream",
     "text": [
      "ITensor ord=3\n",
      "Dim 1: (dim=3|id=50|\"i\")\n",
      "Dim 2: (dim=3|id=650|\"j\")\n",
      "Dim 3: (dim=3|id=593|\"Link,qr\")\n",
      "NDTensors.Dense{Float64, Vector{Float64}}\n",
      " 3×3×3\n",
      "[:, :, 1] =\n",
      " -0.1902172670369029  -0.43525092002584426   0.528261504935396\n",
      " -0.2611504781035302   0.267454250345887    -0.22972206929178257\n",
      "  0.3393359711040933   0.4250570198082059    0.08359343040087201\n",
      "\n",
      "[:, :, 2] =\n",
      " -0.07683140633112742  0.2554062925885529   -0.28138016366276813\n",
      " -0.7190499936685935   0.23140371777732213  -0.22185223172274554\n",
      " -0.29540127043290704  0.17156245103770795  -0.3364449320597507\n",
      "\n",
      "[:, :, 3] =\n",
      " -0.38959165745387536   0.18456179163861552   0.5479388934315914\n",
      "  0.13361103080971884  -0.13377314414835023  -0.28238469207503925\n",
      " -0.20780943791276663  -0.39986698332685344  -0.44198598593872385\n",
      "ITensor ord=2\n",
      "Dim 1: (dim=3|id=593|\"Link,qr\")\n",
      "Dim 2: (dim=3|id=461|\"k\")\n",
      "NDTensors.Dense{Float64, Vector{Float64}}\n",
      " 3×3\n",
      " 4.280488316259302   1.2089882744268212   0.5758125863817085\n",
      " 0.0                -2.7298958701800315   0.6085520284241868\n",
      " 0.0                 0.0                 -2.4613637232923726\n"
     ]
    }
   ],
   "source": [
    "Q,R = qr(A,(i,j))\n",
    "\n",
    "println(Q) #Has i,j\n",
    "println(R) #Has k"
   ]
  },
  {
   "cell_type": "markdown",
   "id": "d6d24a38-3715-4fbe-92fb-5a198e225b6b",
   "metadata": {},
   "source": [
    "or "
   ]
  },
  {
   "cell_type": "code",
   "execution_count": 43,
   "id": "13bbb8f7-6a33-4cea-8713-651a65a246cf",
   "metadata": {},
   "outputs": [
    {
     "name": "stdout",
     "output_type": "stream",
     "text": [
      "ITensor ord=2\n",
      "Dim 1: (dim=3|id=50|\"i\")\n",
      "Dim 2: (dim=3|id=489|\"Link,qr\")\n",
      "NDTensors.Dense{Float64, Vector{Float64}}\n",
      " 3×3\n",
      " -0.40597746599625406   0.5212964520832154  0.7506212801064942\n",
      " -0.5573690075339631   -0.7921477257431893  0.24868005557442255\n",
      "  0.7242389706056042   -0.3174145391209179  0.6121486125205138\n",
      "ITensor ord=3\n",
      "Dim 1: (dim=3|id=489|\"Link,qr\")\n",
      "Dim 2: (dim=3|id=650|\"j\")\n",
      "Dim 3: (dim=3|id=461|\"k\")\n",
      "NDTensors.Dense{Float64, Vector{Float64}}\n",
      " 3×3×3\n",
      "[:, :, 1] =\n",
      " 2.0055861649960427   1.4359934533612928  -0.1107819714899394\n",
      " 0.0                 -2.4556190423190607   1.8441237982586838\n",
      " 0.0                  0.0                  1.6718244682983783\n",
      "\n",
      "[:, :, 2] =\n",
      " -0.028729595236745405   0.7015439963623904   -0.015513466438785484\n",
      " -1.7015619378313918    -0.40796757464748923   0.15000167395441666\n",
      "  1.1392241986518825    -0.9671491578821215    1.7616167951051338\n",
      "\n",
      "[:, :, 3] =\n",
      " 0.5669137851513223   0.8409067921550986   0.9296041622920099\n",
      " 0.9773536890656648  -1.204039716663662   -1.268211712949225\n",
      " 0.6971619285790955   0.5589798917231826  -0.23609662668132148\n"
     ]
    }
   ],
   "source": [
    "Q,R = qr(A,(i))\n",
    "\n",
    "println(Q) #Has i\n",
    "println(R) #Has j,k"
   ]
  },
  {
   "cell_type": "markdown",
   "id": "f54f450e-297d-4131-8c5a-977c2dcd6834",
   "metadata": {},
   "source": [
    "In any case,"
   ]
  },
  {
   "cell_type": "code",
   "execution_count": 44,
   "id": "0eaaf72e-6c8a-4cae-9142-ea33a0cb9922",
   "metadata": {},
   "outputs": [
    {
     "data": {
      "text/plain": [
       "true"
      ]
     },
     "execution_count": 44,
     "metadata": {},
     "output_type": "execute_result"
    }
   ],
   "source": [
    "A ≈ Q*R"
   ]
  },
  {
   "cell_type": "markdown",
   "id": "f55f87cd-1850-4c20-afd6-e4ce379ca1d8",
   "metadata": {},
   "source": [
    "With SVD descomposition is exactly the same:"
   ]
  },
  {
   "cell_type": "code",
   "execution_count": 45,
   "id": "4a25bcc8-566a-4c20-87ad-1db02d20f236",
   "metadata": {},
   "outputs": [
    {
     "name": "stdout",
     "output_type": "stream",
     "text": [
      "ITensor ord=3\n",
      "Dim 1: (dim=3|id=50|\"i\")\n",
      "Dim 2: (dim=3|id=650|\"j\")\n",
      "Dim 3: (dim=3|id=830|\"Link,u\")\n",
      "NDTensors.Dense{Float64, Vector{Float64}}\n",
      " 3×3×3\n",
      "[:, :, 1] =\n",
      " -0.14109223665338408  -0.4916461352472188    0.5351903132463541\n",
      " -0.11150772392407438   0.22115379945032237  -0.15651609930774182\n",
      "  0.4083273780511589    0.4065627538835162    0.18461744689994486\n",
      "\n",
      "[:, :, 2] =\n",
      " -0.14103071087050909  -0.03959231986648622  0.4760315114811087\n",
      "  0.6882946780454582   -0.2986228607815069   0.042937468598669815\n",
      "  0.07064917666350777  -0.42682146438121904  0.00033946944660978584\n",
      "\n",
      "[:, :, 3] =\n",
      " -0.3925183468106545   0.21320252933324307   0.3813625226983017\n",
      " -0.3419076437316273   0.06992921229312914  -0.3941964492562095\n",
      " -0.271795917031121   -0.1501030104539572   -0.530519508351712\n",
      "ITensor ord=2\n",
      "Dim 1: (dim=3|id=830|\"Link,u\")\n",
      "Dim 2: (dim=3|id=768|\"Link,v\")\n",
      "NDTensors.Diag{Float64, Vector{Float64}}\n",
      " 3×3\n",
      " 4.5675645292988225  0.0                0.0\n",
      " 0.0                 2.903638135621514  0.0\n",
      " 0.0                 0.0                2.1686427247682\n",
      "ITensor ord=2\n",
      "Dim 1: (dim=3|id=461|\"k\")\n",
      "Dim 2: (dim=3|id=768|\"Link,v\")\n",
      "NDTensors.Dense{Float64, Vector{Float64}}\n",
      " 3×3\n",
      " 0.9133241895390596   -0.19366788830903056   0.3582341047984411\n",
      " 0.38480153517621757   0.6983521301318021   -0.6035164296573878\n",
      " 0.13329179768029858  -0.6890551874692588   -0.7123455940011555\n"
     ]
    }
   ],
   "source": [
    "U,S,V = svd(A,(i,j))\n",
    "\n",
    "println(U) # Has i,j\n",
    "println(S) \n",
    "println(V) # Has k"
   ]
  },
  {
   "cell_type": "code",
   "execution_count": 46,
   "id": "9d04f2af-bdb3-4e4d-9069-b6757fb9c7cc",
   "metadata": {},
   "outputs": [
    {
     "name": "stdout",
     "output_type": "stream",
     "text": [
      "ITensor ord=2\n",
      "Dim 1: (dim=3|id=50|\"i\")\n",
      "Dim 2: (dim=3|id=1|\"Link,u\")\n",
      "NDTensors.Dense{Float64, Vector{Float64}}\n",
      " 3×3\n",
      " -0.7745260941106948  -0.5758999517355441   -0.2616267859616619\n",
      "  0.4049392262398443  -0.13368632875548267  -0.9045176551931734\n",
      "  0.4859357494503854  -0.8065154748018653    0.3367480308943371\n",
      "ITensor ord=2\n",
      "Dim 1: (dim=3|id=1|\"Link,u\")\n",
      "Dim 2: (dim=3|id=365|\"Link,v\")\n",
      "NDTensors.Diag{Float64, Vector{Float64}}\n",
      " 3×3\n",
      " 4.44753072216934  0.0                0.0\n",
      " 0.0               2.961428227304642  0.0\n",
      " 0.0               0.0                2.3337062260527865\n",
      "ITensor ord=3\n",
      "Dim 1: (dim=3|id=650|\"j\")\n",
      "Dim 2: (dim=3|id=461|\"k\")\n",
      "Dim 3: (dim=3|id=365|\"Link,v\")\n",
      "NDTensors.Dense{Float64, Vector{Float64}}\n",
      " 3×3×3\n",
      "[:, :, 1] =\n",
      "  0.1987188116235778   0.28643028824006267  -0.1656593937339516\n",
      "  0.6274794628265924   0.18996029157262845   0.2981949028992104\n",
      " -0.4442194746799167  -0.10374307560348922   0.3524150010629198\n",
      "\n",
      "[:, :, 2] =\n",
      " -0.1867782802930767   -0.4017724970485623  -0.25825602381047097\n",
      " -0.18488147699572066   0.2394371719720492  -0.28445111151431013\n",
      " -0.4927912834068433   -0.566035515077954   -0.03651510318459808\n",
      "\n",
      "[:, :, 3] =\n",
      " 0.7341427278501184   -0.4606072338252436   0.3414281847958379\n",
      " 0.02768420000615268   0.26324578004852006  0.012112852150782366\n",
      " 0.17925697188372813  -0.13768983674447208  0.10487705171990147\n"
     ]
    }
   ],
   "source": [
    "U,S,V = svd(A,(i))\n",
    "\n",
    "println(U) # Has i\n",
    "println(S) \n",
    "println(V) # Has j,k"
   ]
  },
  {
   "cell_type": "markdown",
   "id": "017f9a24-9d74-4dd4-aee5-d813f6ef0776",
   "metadata": {},
   "source": [
    "In any case,"
   ]
  },
  {
   "cell_type": "code",
   "execution_count": 47,
   "id": "a4e98f86-2d20-4639-80ce-57dfccecf4eb",
   "metadata": {},
   "outputs": [
    {
     "data": {
      "text/plain": [
       "true"
      ]
     },
     "execution_count": 47,
     "metadata": {},
     "output_type": "execute_result"
    }
   ],
   "source": [
    " U*S*V ≈ A # true"
   ]
  },
  {
   "cell_type": "markdown",
   "id": "8e08e716-56d5-4ea7-8505-4d1fd22a7727",
   "metadata": {},
   "source": [
    "#### MPS and MPO examples"
   ]
  },
  {
   "cell_type": "code",
   "execution_count": 48,
   "id": "ae278711-c72d-43e8-bdb4-6baa921d7862",
   "metadata": {},
   "outputs": [
    {
     "data": {
      "text/plain": [
       "heisenberg_mpo (generic function with 1 method)"
      ]
     },
     "execution_count": 48,
     "metadata": {},
     "output_type": "execute_result"
    }
   ],
   "source": [
    "function heisenberg_mpo(N) # Make N S=1/2 spin indices \n",
    "    sites = siteinds(\"S=1/2\",N) \n",
    "    # Input the operator terms \n",
    "    \n",
    "    os = OpSum() \n",
    "    \n",
    "    for i=1:N-1 \n",
    "        os += \"Sz\",i,\"Sz\",i+1 \n",
    "        os += 1/2,\"S+\",i,\"S-\",i+1 \n",
    "        os += 1/2,\"S-\",i,\"S+\",i+1 \n",
    "    end \n",
    "    \n",
    "    # Convert these terms to an MPO \n",
    "    H = MPO(os,sites)\n",
    "    return H \n",
    "end"
   ]
  },
  {
   "cell_type": "code",
   "execution_count": null,
   "id": "40972dc3-f17d-4576-9fe0-25902b3f66f9",
   "metadata": {},
   "outputs": [],
   "source": [
    "H = heisenberg_mpo(10)"
   ]
  },
  {
   "cell_type": "code",
   "execution_count": null,
   "id": "6c59fb07-3137-4fba-865f-24e3c8cf994c",
   "metadata": {},
   "outputs": [],
   "source": [
    "H[2]"
   ]
  },
  {
   "cell_type": "code",
   "execution_count": null,
   "id": "bc8ee0dd-9ac7-4786-b17d-4520ba0558d4",
   "metadata": {},
   "outputs": [],
   "source": [
    "println(H[2])"
   ]
  },
  {
   "cell_type": "code",
   "execution_count": null,
   "id": "9cffd8bb-b3ed-4cc4-aae9-e91997c2ca3c",
   "metadata": {},
   "outputs": [],
   "source": []
  }
 ],
 "metadata": {
  "kernelspec": {
   "display_name": "Julia 1.9.2",
   "language": "julia",
   "name": "julia-1.9"
  },
  "language_info": {
   "file_extension": ".jl",
   "mimetype": "application/julia",
   "name": "julia",
   "version": "1.9.2"
  }
 },
 "nbformat": 4,
 "nbformat_minor": 5
}
