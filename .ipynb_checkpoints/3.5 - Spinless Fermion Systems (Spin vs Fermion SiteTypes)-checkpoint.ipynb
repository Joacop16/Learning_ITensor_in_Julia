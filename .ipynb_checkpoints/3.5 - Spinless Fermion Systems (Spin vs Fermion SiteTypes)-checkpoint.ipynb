{
 "cells": [
  {
   "cell_type": "markdown",
   "id": "425806e0-3506-4596-acde-127a8ef3bf60",
   "metadata": {},
   "source": [
    "##### **Test:** \n",
    "\n",
    "$$ H = \\sum_{j = 2}^{N} \\hat{c}_{1}^{\\dagger}\\hat{c}_{j} + \\hat{c}_{j}^{\\dagger}\\hat{c}_{1} + U \\sum_{j = 2}^{N} \\hat{n}_{1}\\hat{n}_{j}$$  \n",
    "\n",
    "Applying Jordan-Wigner (JW) transformation:\n",
    "\n",
    "$$ H = \\sum_{j = 2}^{N} \\left( \\prod_{i = 2}^{j - 1} \\hat{\\sigma}_{i}^{z}\\right) (\\hat{\\sigma}_{1}^{-} \\hat{\\sigma}_{j}^{+} + \\hat{\\sigma}_{j}^{-} \\hat{\\sigma}_{1}^{+}) + \n",
    " U \\sum_{j = 2}^{N} \\hat{\\sigma}_{1}^{-}\\hat{\\sigma}_{1}^{+}\\hat{\\sigma}_{j}^{-}\\hat{\\sigma}_{j}^{+} $$\n",
    "\n"
   ]
  },
  {
   "cell_type": "code",
   "execution_count": 1,
   "id": "dc1a72c3-866a-4ab8-bf3e-aa3dc294bb1a",
   "metadata": {},
   "outputs": [],
   "source": [
    "using ITensors\n",
    "using LinearAlgebra"
   ]
  },
  {
   "cell_type": "code",
   "execution_count": 2,
   "id": "37b91b51-ffe2-4b22-9396-f4c43fa80017",
   "metadata": {},
   "outputs": [],
   "source": [
    "ITensors.op(::OpName\"σz\",::SiteType\"S=1/2\") =\n",
    " [1 0\n",
    "  0 -1]"
   ]
  },
  {
   "cell_type": "code",
   "execution_count": 3,
   "id": "dd117b1a-c06f-4cab-ac0e-c78e02d85198",
   "metadata": {},
   "outputs": [],
   "source": [
    "ITensors.op(::OpName\"σ+\",::SiteType\"S=1/2\") =\n",
    " [0 1\n",
    "  0 0]"
   ]
  },
  {
   "cell_type": "code",
   "execution_count": 4,
   "id": "bb58c923-cd95-43ec-9318-c94465a9534b",
   "metadata": {},
   "outputs": [],
   "source": [
    "ITensors.op(::OpName\"σ-\",::SiteType\"S=1/2\") =\n",
    " [0 0\n",
    "  1 0]"
   ]
  },
  {
   "cell_type": "code",
   "execution_count": 5,
   "id": "3885e6f8-5e2b-49d9-97ff-6d6982d996cd",
   "metadata": {},
   "outputs": [],
   "source": [
    "ITensors.op(::OpName\"σ-σ+\",::SiteType\"S=1/2\") =\n",
    " [0 0\n",
    "  0 1]"
   ]
  },
  {
   "cell_type": "code",
   "execution_count": 6,
   "id": "1463650f-424f-46d2-8a88-a1836e6318d0",
   "metadata": {},
   "outputs": [
    {
     "data": {
      "text/plain": [
       "true"
      ]
     },
     "execution_count": 6,
     "metadata": {},
     "output_type": "execute_result"
    }
   ],
   "source": [
    "σ_z = [1 0; 0 -1]\n",
    "σ_plus = [0 1; 0 0]\n",
    "σ_minus = [0 0; 1 0]\n",
    "Identity = [1 0; 0 1] \n",
    "\n",
    "σ_minus*σ_z == σ_minus && σ_z*σ_plus == σ_plus"
   ]
  },
  {
   "cell_type": "code",
   "execution_count": 7,
   "id": "d2e0f129-f2f9-4fc0-9638-a1c3098f807a",
   "metadata": {},
   "outputs": [
    {
     "data": {
      "text/plain": [
       "2×2 Matrix{Int64}:\n",
       " 0  0\n",
       " 0  1"
      ]
     },
     "execution_count": 7,
     "metadata": {},
     "output_type": "execute_result"
    }
   ],
   "source": [
    "σ_minus*σ_plus"
   ]
  },
  {
   "cell_type": "code",
   "execution_count": 8,
   "id": "9d7f06c6-0dfd-4456-b2bb-b32197012bea",
   "metadata": {},
   "outputs": [
    {
     "data": {
      "text/plain": [
       "Calculate_Correlation_ij_Spins (generic function with 1 method)"
      ]
     },
     "execution_count": 8,
     "metadata": {},
     "output_type": "execute_result"
    }
   ],
   "source": [
    "#ITensors Code:\n",
    "\n",
    "#Fermions\n",
    "\n",
    "function Create_MPO_using_Fermion(N, U = 1.0, sites = []) \n",
    "\n",
    "    if length(sites) == 0\n",
    "        sites = siteinds(\"Fermion\",N)    \n",
    "    end\n",
    "    \n",
    "    os = OpSum() \n",
    "    for j=2:N \n",
    "        os += 1,\"Cdag\",1,\"C\",j \n",
    "        # os += -1,\"C\",1,\"Cdag\",j \n",
    "        os += 1,\"Cdag\",j,\"C\",1 \n",
    "        os += U,\"N\",1,\"N\",j\n",
    "        \n",
    "    end \n",
    "    \n",
    "    # Convert these terms to an MPO \n",
    "    H = MPO(os,sites)\n",
    "    return H, sites\n",
    "end\n",
    "\n",
    "function Calculate_Correlation_ij_Fermions(psi, i, j)\n",
    "\n",
    "    #Here the conmutation relations are not taken into account. ITensors just do it by itself inside OPSum() and correlation_matrix().\n",
    "    sites = siteinds(psi)\n",
    "    Op_1 = op(\"Cdag\", sites[i])\n",
    "    Op_2 = op(\"C\", sites[j])\n",
    "\n",
    "    return inner(psi, apply(Op_1, apply(Op_2,psi))) #It does not always results with the right sign.\n",
    "end\n",
    "\n",
    "#Spins\n",
    "\n",
    "function Create_MPO_using_Spins(N, U = 1.0, sites = []) # Make N S=1/2 spin indices \n",
    "\n",
    "    if length(sites) == 0\n",
    "        sites = siteinds(\"S=1/2\",N) \n",
    "    end\n",
    "    \n",
    "    os = OpSum()\n",
    "    for j=2:N \n",
    "\n",
    "        OP_array = []\n",
    "        for i=2:j-1\n",
    "            x = [\"σz\";i]\n",
    "            append!(OP_array, x)   \n",
    "        end\n",
    "        append!(OP_array, [\"σ-\";1; \"σ+\";j]) \n",
    "\n",
    "        os += tuple(OP_array...)\n",
    "        \n",
    "        OP_array = []\n",
    "        for i=2:j-1\n",
    "            x = [\"σz\";i]\n",
    "            append!(OP_array, x)    \n",
    "        end\n",
    "        append!(OP_array, [\"σ-\";j; \"σ+\";1]) \n",
    "        \n",
    "        os += tuple(OP_array...)\n",
    "\n",
    "        os += U,\"σ-\",1,\"σ+\",1,\"σ-\",j,\"σ+\",j\n",
    "    end \n",
    "    \n",
    "    H = MPO(os,sites)\n",
    "    return H, sites\n",
    "end\n",
    "\n",
    "function Build_MPO_Cdag(j, sites)\n",
    "\n",
    "    os = OpSum()\n",
    "    OP_array = []\n",
    "    for i=1:j-1\n",
    "        x = [\"σz\";i]\n",
    "        append!(OP_array, x)   \n",
    "    end\n",
    "    append!(OP_array, [\"σ-\";j]) \n",
    "    os += tuple(OP_array...)\n",
    "    \n",
    "    return MPO(os,sites)\n",
    "\n",
    "end\n",
    "\n",
    "function Build_MPO_C(j, sites)\n",
    "\n",
    "    os = OpSum()\n",
    "    OP_array = []\n",
    "    for i=1:j-1\n",
    "        x = [\"σz\";i]\n",
    "        append!(OP_array, x)   \n",
    "    end\n",
    "    append!(OP_array, [\"σ+\";j]) \n",
    "    os += tuple(OP_array...)\n",
    "    \n",
    "    return MPO(os,sites)\n",
    "\n",
    "end\n",
    "\n",
    "function Calculate_Correlation_ij_Spins(psi, i, j)\n",
    "    # <Ψ(t)|b†_i*b_j|Ψ(t)>\n",
    "    \n",
    "    sites = siteinds(psi)\n",
    "    OP_1 = Build_MPO_Cdag(i, sites)\n",
    "    OP_2 = Build_MPO_C(j, sites)\n",
    "    \n",
    "    return inner(psi, apply(OP_1, apply(OP_2,psi)))\n",
    "end"
   ]
  },
  {
   "cell_type": "code",
   "execution_count": 9,
   "id": "f5bc7b02-8bd1-498a-8bc5-e02d175a44bb",
   "metadata": {},
   "outputs": [
    {
     "data": {
      "text/plain": [
       "Build_C_Matrix (generic function with 1 method)"
      ]
     },
     "execution_count": 9,
     "metadata": {},
     "output_type": "execute_result"
    }
   ],
   "source": [
    "#ED code:\n",
    "\n",
    "function Enlarge_Matrix_site_j(j, N, matrix)\n",
    "    # I⊗...⊗I⊗M⊗I...⊗I\n",
    "\n",
    "    Identity = zeros(size(matrix))\n",
    "    for i=1:size(matrix)[1]\n",
    "        Identity[i,i] = 1\n",
    "    end\n",
    "    \n",
    "    M = Identity\n",
    "    \n",
    "    if j == 1\n",
    "        M = matrix\n",
    "    end    \n",
    "    \n",
    "    for i=2:N \n",
    "        if i == j\n",
    "        M = kron(M, matrix)\n",
    "        else\n",
    "        M = kron(M, Identity)        \n",
    "        end\n",
    "    end\n",
    "\n",
    "    return M\n",
    "end\n",
    "\n",
    "function Enlarge_Matrix_i_Matrix_j(i,j,N, matrix_i, matrix_j)\n",
    "    # I⊗...⊗I⊗M_i⊗I...⊗I⊗M_j⊗I⊗I...⊗I\n",
    "\n",
    "    Identity = zeros(size(matrix_i))\n",
    "    for i=1:size(matrix_i)[1]\n",
    "        Identity[i,i] = 1\n",
    "    end\n",
    "\n",
    "    M = Identity\n",
    "\n",
    "    \n",
    "    if j == 1\n",
    "        M = matrix_j\n",
    "    end    \n",
    "\n",
    "    if i == 1\n",
    "        M = matrix_i\n",
    "    end   \n",
    "    \n",
    "    for k=2:N \n",
    "        if k == j\n",
    "        M = kron(M, matrix_j)\n",
    "        elseif k == i\n",
    "        M = kron(M, matrix_i)\n",
    "        else\n",
    "        M = kron(M, Identity)        \n",
    "        end\n",
    "    end\n",
    "\n",
    "    return M\n",
    "end\n",
    "\n",
    "function Build_H_ED(N, U = 0)\n",
    "\n",
    "    if N > 14\n",
    "        return \"Error: N > 14\" #N = 14 is the biggest that I can run with 32GB of ram.\n",
    "    end   \n",
    "    \n",
    "    H = zeros(2^N, 2^N)\n",
    "    \n",
    "    for j=2:N\n",
    "        Matriz_1j = σ_minus\n",
    "        Matriz_j1 = σ_plus\n",
    "\n",
    "        for i=2:N\n",
    "            if i <= j-1\n",
    "            Matriz_1j = kron(Matriz_1j, σ_z)\n",
    "            Matriz_j1 = kron(Matriz_j1, σ_z)\n",
    "                \n",
    "            elseif i == j\n",
    "            Matriz_1j = kron(Matriz_1j, σ_plus)\n",
    "            Matriz_j1 = kron(Matriz_j1, σ_minus)\n",
    "                \n",
    "            else\n",
    "            Matriz_1j = kron(Matriz_1j, Identity)  \n",
    "            Matriz_j1 = kron(Matriz_j1, Identity)  \n",
    "            end\n",
    "        end \n",
    "\n",
    "\n",
    "        Matriz_U = Enlarge_Matrix_i_Matrix_j(1,j, N, σ_minus*σ_plus, σ_minus*σ_plus)\n",
    "        \n",
    "        H += Matriz_1j + Matriz_j1 + U*Matriz_U\n",
    "    end\n",
    "\n",
    "    return H\n",
    "end\n",
    "\n",
    "function Build_Cdag_Matrix(N, j)\n",
    "\n",
    "    if N > 14\n",
    "        return \"Error: N > 14\" #N = 14 is the biggest that I can run with 32GB of ram.\n",
    "    end   \n",
    "\n",
    "    if j == 1\n",
    "        Matrix = σ_minus\n",
    "    else\n",
    "        Matrix = σ_z\n",
    "    end\n",
    "\n",
    "    for i=2:N \n",
    "        if i <= j-1\n",
    "        Matrix = kron(Matrix, σ_z)\n",
    "        elseif i == j\n",
    "        Matrix = kron(Matrix, σ_minus)\n",
    "        else\n",
    "        Matrix = kron(Matrix, Identity)  \n",
    "        end\n",
    "    end \n",
    "\n",
    "    return Matrix\n",
    "\n",
    "end\n",
    "\n",
    "function Build_C_Matrix(N, j)\n",
    "\n",
    "    if N > 14\n",
    "        return \"Error: N > 14\" #N = 14 is the biggest that I can run with 32GB of ram.\n",
    "    end   \n",
    "\n",
    "    if j == 1\n",
    "        Matrix = σ_plus\n",
    "    else\n",
    "        Matrix = σ_z\n",
    "    end\n",
    "    \n",
    "    for i=2:N \n",
    "        if i <= j-1\n",
    "        Matrix = kron(Matrix, σ_z)\n",
    "        elseif i == j\n",
    "        Matrix = kron(Matrix, σ_plus)\n",
    "        else\n",
    "        Matrix = kron(Matrix, Identity)  \n",
    "        end\n",
    "    end \n",
    "\n",
    "    return Matrix\n",
    "\n",
    "end"
   ]
  },
  {
   "cell_type": "markdown",
   "id": "bd9fa804-3cc9-46cf-bc2f-a312e779465c",
   "metadata": {},
   "source": [
    "**Test values**"
   ]
  },
  {
   "cell_type": "code",
   "execution_count": 10,
   "id": "2b1ffffe-0dd4-42a7-9743-736706c6659a",
   "metadata": {},
   "outputs": [
    {
     "data": {
      "text/plain": [
       "1.5"
      ]
     },
     "execution_count": 10,
     "metadata": {},
     "output_type": "execute_result"
    }
   ],
   "source": [
    "N = 8\n",
    "U = 1.5"
   ]
  },
  {
   "cell_type": "markdown",
   "id": "a68bb963-064e-4c72-ab8a-e3e95cd05c65",
   "metadata": {},
   "source": [
    "**Ground State Energy**"
   ]
  },
  {
   "cell_type": "code",
   "execution_count": 11,
   "id": "db53100d-7bf1-46dd-b7d3-0d48b4440eef",
   "metadata": {},
   "outputs": [
    {
     "data": {
      "text/plain": [
       "1-element Vector{Float64}:\n",
       " 1.0e-10"
      ]
     },
     "execution_count": 11,
     "metadata": {},
     "output_type": "execute_result"
    }
   ],
   "source": [
    "nsweeps = 10\n",
    "maxdim = [10,20,100,100,200] #maxdim - integer or array of integers specifying the maximum size allowed for the bond dimension or rank of the MPS being optimized\n",
    "cutoff = [1E-10] #maxdim - integer or array of integers specifying the maximum size allowed for the bond dimension or rank of the MPS being optimized"
   ]
  },
  {
   "cell_type": "code",
   "execution_count": 12,
   "id": "137c2d39-7a70-4d8e-afb1-907243a38b64",
   "metadata": {},
   "outputs": [
    {
     "name": "stdout",
     "output_type": "stream",
     "text": [
      "After sweep 1 energy=-2.3484489869241325  maxlinkdim=4 maxerr=1.11E-15 time=8.644\n",
      "After sweep 2 energy=-2.6455334787607754  maxlinkdim=10 maxerr=7.95E-11 time=0.030\n",
      "After sweep 3 energy=-2.6457511454591187  maxlinkdim=6 maxerr=4.80E-11 time=0.006\n",
      "After sweep 4 energy=-2.645751310888486  maxlinkdim=2 maxerr=4.97E-11 time=0.005\n",
      "After sweep 5 energy=-2.645751311064563  maxlinkdim=2 maxerr=5.92E-13 time=0.005\n",
      "After sweep 6 energy=-2.64575131106459  maxlinkdim=2 maxerr=1.79E-16 time=0.005\n",
      "After sweep 7 energy=-2.6457513110645894  maxlinkdim=2 maxerr=8.88E-17 time=0.017\n",
      "After sweep 8 energy=-2.645751311064591  maxlinkdim=2 maxerr=5.00E-16 time=0.004\n",
      "After sweep 9 energy=-2.6457513110645885  maxlinkdim=2 maxerr=2.06E-16 time=0.003\n",
      "After sweep 10 energy=-2.6457513110645903  maxlinkdim=2 maxerr=6.66E-16 time=0.012\n",
      "After sweep 1 energy=-1.8745961862112566  maxlinkdim=4 maxerr=4.43E-16 time=0.155\n",
      "After sweep 2 energy=-1.9998157268911045  maxlinkdim=12 maxerr=5.09E-11 time=0.008\n",
      "After sweep 3 energy=-1.9999997563499003  maxlinkdim=7 maxerr=9.11E-11 time=0.007\n",
      "After sweep 4 energy=-1.9999999999105205  maxlinkdim=4 maxerr=8.68E-11 time=0.023\n",
      "After sweep 5 energy=-1.9999999999995959  maxlinkdim=4 maxerr=3.48E-14 time=0.006\n",
      "After sweep 6 energy=-1.9999999999999951  maxlinkdim=4 maxerr=2.06E-16 time=0.008\n",
      "After sweep 7 energy=-2.000000000000001  maxlinkdim=4 maxerr=1.82E-16 time=0.007\n",
      "After sweep 8 energy=-2.000000000000003  maxlinkdim=4 maxerr=1.37E-16 time=0.008\n",
      "After sweep 9 energy=-2.0000000000000018  maxlinkdim=4 maxerr=1.42E-16 time=0.018\n",
      "After sweep 10 energy=-2.0000000000000018  maxlinkdim=4 maxerr=9.81E-17 time=0.006\n"
     ]
    },
    {
     "data": {
      "text/plain": [
       "(-2.0000000000000018, MPS\n",
       "[1] ((dim=2|id=651|\"Link,l=1\"), (dim=2|id=408|\"Fermion,Site,n=1\"))\n",
       "[2] ((dim=4|id=759|\"Link,l=2\"), (dim=2|id=478|\"Fermion,Site,n=2\"), (dim=2|id=651|\"Link,l=1\"))\n",
       "[3] ((dim=2|id=393|\"Fermion,Site,n=3\"), (dim=4|id=248|\"Link,l=3\"), (dim=4|id=759|\"Link,l=2\"))\n",
       "[4] ((dim=2|id=44|\"Fermion,Site,n=4\"), (dim=4|id=199|\"Link,l=4\"), (dim=4|id=248|\"Link,l=3\"))\n",
       "[5] ((dim=2|id=883|\"Fermion,Site,n=5\"), (dim=4|id=78|\"Link,l=5\"), (dim=4|id=199|\"Link,l=4\"))\n",
       "[6] ((dim=2|id=978|\"Fermion,Site,n=6\"), (dim=4|id=776|\"Link,l=6\"), (dim=4|id=78|\"Link,l=5\"))\n",
       "[7] ((dim=2|id=864|\"Fermion,Site,n=7\"), (dim=2|id=430|\"Link,l=7\"), (dim=4|id=776|\"Link,l=6\"))\n",
       "[8] ((dim=2|id=533|\"Fermion,Site,n=8\"), (dim=2|id=430|\"Link,l=7\"))\n",
       ")"
      ]
     },
     "execution_count": 12,
     "metadata": {},
     "output_type": "execute_result"
    }
   ],
   "source": [
    "H, sites = Create_MPO_using_Fermion(N, U) \n",
    "psi0 = randomMPS(sites)\n",
    "\n",
    "energy_ground_state, psi_ground_state = dmrg(H,psi0; nsweeps, maxdim, cutoff)\n",
    "energy_1_excited_state, psi_1_excited_state = dmrg(H,[psi_ground_state], psi0; nsweeps, maxdim, cutoff)"
   ]
  },
  {
   "cell_type": "code",
   "execution_count": 13,
   "id": "960004cd-1c62-423d-97c1-8f4b525376b2",
   "metadata": {},
   "outputs": [
    {
     "name": "stdout",
     "output_type": "stream",
     "text": [
      "After sweep 1 energy=-1.9876247242153746  maxlinkdim=4 maxerr=1.44E-15 time=0.005\n",
      "After sweep 2 energy=-2.644571212769643  maxlinkdim=12 maxerr=2.83E-11 time=0.007\n",
      "After sweep 3 energy=-2.645748649647178  maxlinkdim=7 maxerr=8.07E-11 time=0.007\n",
      "After sweep 4 energy=-2.645751298324078  maxlinkdim=3 maxerr=9.86E-11 time=0.004\n",
      "After sweep 5 energy=-2.6457513110607014  maxlinkdim=2 maxerr=2.79E-12 time=0.004\n",
      "After sweep 6 energy=-2.6457513110645903  maxlinkdim=2 maxerr=6.05E-14 time=0.004\n",
      "After sweep 7 energy=-2.6457513110645885  maxlinkdim=2 maxerr=2.00E-16 time=0.016\n",
      "After sweep 8 energy=-2.645751311064594  maxlinkdim=2 maxerr=8.70E-17 time=0.004\n",
      "After sweep 9 energy=-2.6457513110645947  maxlinkdim=2 maxerr=2.49E-16 time=0.003\n",
      "After sweep 10 energy=-2.645751311064592  maxlinkdim=2 maxerr=7.22E-16 time=0.003\n",
      "After sweep 1 energy=-1.7797292275509902  maxlinkdim=4 maxerr=1.22E-15 time=0.008\n",
      "After sweep 2 energy=-1.9994468972255786  maxlinkdim=13 maxerr=2.47E-11 time=0.010\n",
      "After sweep 3 energy=-1.9999988757883627  maxlinkdim=8 maxerr=9.83E-11 time=0.009\n",
      "After sweep 4 energy=-1.9999999983870262  maxlinkdim=4 maxerr=5.86E-11 time=0.018\n",
      "After sweep 5 energy=-1.999999999996429  maxlinkdim=4 maxerr=1.89E-11 time=0.006\n",
      "After sweep 6 energy=-1.9999999999999913  maxlinkdim=4 maxerr=4.50E-14 time=0.006\n",
      "After sweep 7 energy=-2.000000000000002  maxlinkdim=4 maxerr=1.36E-16 time=0.006\n",
      "After sweep 8 energy=-2.000000000000001  maxlinkdim=4 maxerr=3.18E-16 time=0.008\n",
      "After sweep 9 energy=-2.0000000000000018  maxlinkdim=4 maxerr=1.87E-16 time=0.028\n",
      "After sweep 10 energy=-2.0000000000000013  maxlinkdim=4 maxerr=4.83E-17 time=0.018\n"
     ]
    },
    {
     "data": {
      "text/plain": [
       "(-2.0000000000000013, MPS\n",
       "[1] ((dim=2|id=993|\"Link,l=1\"), (dim=2|id=844|\"S=1/2,Site,n=1\"))\n",
       "[2] ((dim=4|id=181|\"Link,l=2\"), (dim=2|id=987|\"S=1/2,Site,n=2\"), (dim=2|id=993|\"Link,l=1\"))\n",
       "[3] ((dim=2|id=651|\"S=1/2,Site,n=3\"), (dim=4|id=363|\"Link,l=3\"), (dim=4|id=181|\"Link,l=2\"))\n",
       "[4] ((dim=2|id=354|\"S=1/2,Site,n=4\"), (dim=4|id=295|\"Link,l=4\"), (dim=4|id=363|\"Link,l=3\"))\n",
       "[5] ((dim=2|id=849|\"S=1/2,Site,n=5\"), (dim=4|id=124|\"Link,l=5\"), (dim=4|id=295|\"Link,l=4\"))\n",
       "[6] ((dim=2|id=147|\"S=1/2,Site,n=6\"), (dim=4|id=133|\"Link,l=6\"), (dim=4|id=124|\"Link,l=5\"))\n",
       "[7] ((dim=2|id=237|\"S=1/2,Site,n=7\"), (dim=2|id=83|\"Link,l=7\"), (dim=4|id=133|\"Link,l=6\"))\n",
       "[8] ((dim=2|id=779|\"S=1/2,Site,n=8\"), (dim=2|id=83|\"Link,l=7\"))\n",
       ")"
      ]
     },
     "execution_count": 13,
     "metadata": {},
     "output_type": "execute_result"
    }
   ],
   "source": [
    "H, sites = Create_MPO_using_Spins(N, U)  \n",
    "psi0 = randomMPS(sites)\n",
    "\n",
    "energy_ground_state, psi_ground_state = dmrg(H,psi0; nsweeps, maxdim, cutoff)\n",
    "energy_1_excited_state, psi_1_excited_state = dmrg(H,[psi_ground_state], psi0; nsweeps, maxdim, cutoff)"
   ]
  },
  {
   "cell_type": "code",
   "execution_count": 14,
   "id": "3ebf7297-7473-4ea4-9f4b-acbde1645fa2",
   "metadata": {},
   "outputs": [
    {
     "data": {
      "text/plain": [
       "256-element Vector{Float64}:\n",
       " -2.645751311064591\n",
       " -2.000000000000002\n",
       " -2.0000000000000018\n",
       " -2.000000000000001\n",
       " -2.000000000000001\n",
       " -2.0\n",
       " -1.9999999999999982\n",
       " -1.5413812651491121\n",
       " -1.5413812651491106\n",
       " -1.5413812651491103\n",
       " -1.5413812651491103\n",
       " -1.5413812651491101\n",
       " -1.5413812651491097\n",
       "  ⋮\n",
       "  8.339389937671447\n",
       "  8.339389937671449\n",
       "  8.33938993767146\n",
       "  8.33938993767147\n",
       "  8.999999999999982\n",
       "  8.999999999999984\n",
       "  8.999999999999988\n",
       "  9.000000000000002\n",
       "  9.000000000000002\n",
       "  9.000000000000007\n",
       "  9.720153254455274\n",
       " 10.5"
      ]
     },
     "execution_count": 14,
     "metadata": {},
     "output_type": "execute_result"
    }
   ],
   "source": [
    "H = Build_H_ED(N, U) \n",
    "eigen(H).values"
   ]
  },
  {
   "cell_type": "markdown",
   "id": "64d63caa-690f-4d34-958c-ebec730df9c1",
   "metadata": {},
   "source": [
    "**Particle Number expected value $\\langle N \\rangle = \\langle C_{j}^{\\dagger}C_{j} \\rangle$**"
   ]
  },
  {
   "cell_type": "code",
   "execution_count": 15,
   "id": "d2e869a9-8bb5-4034-9b76-17b2d840967b",
   "metadata": {},
   "outputs": [
    {
     "data": {
      "text/plain": [
       "6"
      ]
     },
     "execution_count": 15,
     "metadata": {},
     "output_type": "execute_result"
    }
   ],
   "source": [
    "j = 6"
   ]
  },
  {
   "cell_type": "code",
   "execution_count": 16,
   "id": "72dc8dd3-76b7-46f2-948f-db6810b96bcc",
   "metadata": {},
   "outputs": [
    {
     "data": {
      "text/plain": [
       "0.07142857142857097"
      ]
     },
     "execution_count": 16,
     "metadata": {},
     "output_type": "execute_result"
    }
   ],
   "source": [
    "H, sites = Create_MPO_using_Fermion(N, U) \n",
    "psi0 = randomMPS(sites)\n",
    "energy_ground_state, psi_ground_state = dmrg(H,psi0; nsweeps, maxdim, cutoff, outputlevel = 0)\n",
    "\n",
    "OP = op(\"N\", sites[j])\n",
    "inner(psi_ground_state, apply(OP, psi_ground_state))"
   ]
  },
  {
   "cell_type": "code",
   "execution_count": 17,
   "id": "7c46da36-e887-4916-a84a-fb255d09059f",
   "metadata": {},
   "outputs": [
    {
     "data": {
      "text/plain": [
       "0.07142857142857179"
      ]
     },
     "execution_count": 17,
     "metadata": {},
     "output_type": "execute_result"
    }
   ],
   "source": [
    "H, sites = Create_MPO_using_Spins(N, U) \n",
    "psi0 = randomMPS(sites)\n",
    "energy_ground_state, psi_ground_state = dmrg(H,psi0; nsweeps, maxdim, cutoff, outputlevel = 0)\n",
    "\n",
    "OP1 = op(\"σ-\", sites[j])\n",
    "OP2 = op(\"σ+\", sites[j])\n",
    "inner(psi_ground_state, apply(OP1, apply(OP2,psi_ground_state)))"
   ]
  },
  {
   "cell_type": "code",
   "execution_count": 18,
   "id": "f0706c30-7af6-4b89-aef5-e926a4bc2745",
   "metadata": {},
   "outputs": [
    {
     "data": {
      "text/plain": [
       "0.07142857142857134"
      ]
     },
     "execution_count": 18,
     "metadata": {},
     "output_type": "execute_result"
    }
   ],
   "source": [
    "H_ED = Build_H_ED(N, U)\n",
    "values, vectors = eigen(H_ED)\n",
    "Psi_0 = vectors[:,1]\n",
    "\n",
    "OP = Enlarge_Matrix_site_j(j, N, σ_minus*σ_plus)\n",
    "Adjoint(Psi_0)*OP*Psi_0"
   ]
  },
  {
   "cell_type": "markdown",
   "id": "78157dad-20b9-4850-bab3-71808d60d968",
   "metadata": {},
   "source": [
    "**Correlations $\\langle C_{i}^{\\dagger}C_{j} \\rangle$**"
   ]
  },
  {
   "cell_type": "code",
   "execution_count": 19,
   "id": "8aa26361-7648-44f4-b04b-0a97e5674d13",
   "metadata": {},
   "outputs": [
    {
     "data": {
      "text/plain": [
       "(2, 5)"
      ]
     },
     "execution_count": 19,
     "metadata": {},
     "output_type": "execute_result"
    }
   ],
   "source": [
    "i,j = 2,5"
   ]
  },
  {
   "cell_type": "code",
   "execution_count": 20,
   "id": "bac6ea1f-797c-44e1-b600-a5b8d2fd58a2",
   "metadata": {},
   "outputs": [
    {
     "data": {
      "text/plain": [
       "0.07142857142857155"
      ]
     },
     "execution_count": 20,
     "metadata": {},
     "output_type": "execute_result"
    }
   ],
   "source": [
    "H, sites = Create_MPO_using_Fermion(N, U) \n",
    "psi0 = randomMPS(sites)\n",
    "energy_ground_state, psi_ground_state = dmrg(H,psi0; nsweeps, maxdim, cutoff, outputlevel = 0)\n",
    "\n",
    "Calculate_Correlation_ij_Fermions(psi_ground_state, i, j)"
   ]
  },
  {
   "cell_type": "markdown",
   "id": "62cda4de-554e-4a5e-b465-886f42499920",
   "metadata": {},
   "source": [
    "Here we can see one thing very important:"
   ]
  },
  {
   "cell_type": "code",
   "execution_count": 21,
   "id": "b61a4693-d459-41d5-bf9c-6197f686195a",
   "metadata": {},
   "outputs": [
    {
     "data": {
      "text/plain": [
       "false"
      ]
     },
     "execution_count": 21,
     "metadata": {},
     "output_type": "execute_result"
    }
   ],
   "source": [
    "s1 = sites[j]\n",
    "s2 = sites[j + 1]\n",
    "\n",
    "op(\"Cdag\", s2)*op(\"C\", s1) == - op(\"C\", s1)*op(\"Cdag\", s2)"
   ]
  },
  {
   "cell_type": "code",
   "execution_count": 22,
   "id": "67205bdb-a82b-48e9-a1b3-910a5d6ae8f0",
   "metadata": {},
   "outputs": [
    {
     "data": {
      "text/plain": [
       "true"
      ]
     },
     "execution_count": 22,
     "metadata": {},
     "output_type": "execute_result"
    }
   ],
   "source": [
    "op(\"Cdag\", s2)*op(\"C\", s1) == op(\"C\", s1)*op(\"Cdag\", s2)"
   ]
  },
  {
   "cell_type": "markdown",
   "id": "bd2359fa-665f-4648-913b-b3bcbfbf4a1f",
   "metadata": {},
   "source": [
    "**ITensor does not consider conmutation relations when we use op() function. It just does it by itself when we build an MPO using OPsum() or when we calculate correlations using correlation_matrix().**"
   ]
  },
  {
   "cell_type": "code",
   "execution_count": 23,
   "id": "37b602db-3168-4936-aa28-8f74d4571a64",
   "metadata": {},
   "outputs": [
    {
     "data": {
      "text/plain": [
       "0.07142857142857147"
      ]
     },
     "execution_count": 23,
     "metadata": {},
     "output_type": "execute_result"
    }
   ],
   "source": [
    "correlation_matrix(psi_ground_state,\"Cdag\",\"C\")[i,j]"
   ]
  },
  {
   "cell_type": "code",
   "execution_count": 24,
   "id": "a401dd47-efc8-4297-b66e-9e92d19eccd3",
   "metadata": {},
   "outputs": [
    {
     "data": {
      "text/plain": [
       "0.07142857142857154"
      ]
     },
     "execution_count": 24,
     "metadata": {},
     "output_type": "execute_result"
    }
   ],
   "source": [
    "H, sites = Create_MPO_using_Spins(N, U) \n",
    "psi0 = randomMPS(sites)\n",
    "energy_ground_state, psi_ground_state = dmrg(H,psi0; nsweeps, maxdim, cutoff, outputlevel = 0)\n",
    "\n",
    "Calculate_Correlation_ij_Spins(psi_ground_state, i, j)"
   ]
  },
  {
   "cell_type": "code",
   "execution_count": 25,
   "id": "2dffc9f8-f152-4325-82cc-abc68f26feca",
   "metadata": {},
   "outputs": [
    {
     "data": {
      "text/plain": [
       "0.07142857142857134"
      ]
     },
     "execution_count": 25,
     "metadata": {},
     "output_type": "execute_result"
    }
   ],
   "source": [
    "H_ED = Build_H_ED(N, U)\n",
    "values, vectors = eigen(H_ED)\n",
    "Psi_0 = vectors[:,1]\n",
    "\n",
    "OP = Build_Cdag_Matrix(N, i)*Build_C_Matrix(N, j)\n",
    "Adjoint(Psi_0)*OP*Psi_0"
   ]
  },
  {
   "cell_type": "markdown",
   "id": "53d0a76e-4ed9-4dc8-b9c4-252ab62161a7",
   "metadata": {},
   "source": [
    "In this case all the options agree, however, during the TEBD we can see that is better use correlation_matrix(). Our function of Calculate_Correlation_ij_Fermions() does not work always."
   ]
  },
  {
   "cell_type": "markdown",
   "id": "6c627826-f3a6-4025-909a-fb1d31de5ddd",
   "metadata": {},
   "source": [
    "**Time Evolution of Correlations**"
   ]
  },
  {
   "cell_type": "code",
   "execution_count": 38,
   "id": "a40918c6-d3d7-4342-9e24-e10ead84a15e",
   "metadata": {},
   "outputs": [
    {
     "data": {
      "text/plain": [
       "TEBD_Correlation_ij_Spins (generic function with 5 methods)"
      ]
     },
     "execution_count": 38,
     "metadata": {},
     "output_type": "execute_result"
    }
   ],
   "source": [
    "function Time_Evolution_Operator_ED(t, H)\n",
    "    # U = exp(-itH)\n",
    "\n",
    "    return U = exp(-1im*t*H)   \n",
    "end\n",
    "\n",
    "SWAP = [1 0 0 0; 0 0 1 0; 0 1 0 0; 0 0 0 -1]\n",
    "\n",
    "function TEBD_Correlation_ij_Fermions(t, Psi_0, U, site_i =1, site_j = 2, maxdim = 40, output = false)\n",
    "    #|Ψ(t)> = exp(-itH)|Ψ(0)> #Main Function\n",
    "\n",
    "    N = length(Psi_0)\n",
    "    cutoff = 1E-8\n",
    "    dt = 0.01\n",
    "    s = siteinds(Psi_0)\n",
    "    \n",
    "    # Make gates (1,2),(2,3),(3,4),...\n",
    "    Evolution_Gates = ITensor[]    \n",
    "\n",
    "    for j in 1:(N - 1)\n",
    "    \n",
    "        s1 = s[j]\n",
    "        s2 = s[j + 1]\n",
    "\n",
    "        # hj = op(\"Cdag\", s1)*op(\"C\", s2) - op(\"C\", s1)*op(\"Cdag\", s2) + U*op(\"N\", s1)*op(\"N\", s2) #It does not work.\n",
    "        hj = op(\"Cdag\", s1)*op(\"C\", s2) + op(\"Cdag\", s2)*op(\"C\", s1) + U*op(\"N\", s1)*op(\"N\", s2) #It works well.\n",
    "        \n",
    "        push!(Evolution_Gates, exp(-1im * dt/ 2 * hj))\n",
    "\n",
    "        Sf = op(SWAP, [s1,s2])\n",
    "        push!(Evolution_Gates, Sf)\n",
    "    end\n",
    "\n",
    "    append!(Evolution_Gates, reverse(Evolution_Gates))\n",
    "\n",
    "    # Correlation_Values = [real(Calculate_Correlation_ij_Fermions(Psi_0, site_i, site_j))] #It does not work. That is because op does not take into account the commutation relations by itself.\n",
    "    Correlation_Values = [real(correlation_matrix(Psi_0,\"Cdag\",\"C\")[site_i,site_j])] #It works well.\n",
    "\n",
    "    Times = [0.0]\n",
    "    \n",
    "    Psi_t = Psi_0    \n",
    "        \n",
    "    for time in dt:dt:t\n",
    "        Psi_t = apply(Evolution_Gates, Psi_t; cutoff, maxdim)  #Each that apply is executed an SVD is also executed, maxdim is the maximum of the dimension that we will use from the SVD.\n",
    "        normalize!(Psi_t)\n",
    "\n",
    "        append!(Times, time)\n",
    "        # append!(Correlation_Values, real(Calculate_Correlation_ij_Fermions(Psi_t, site_i, site_j))) #It does not work.\n",
    "        append!(Correlation_Values, real(correlation_matrix(Psi_t,\"Cdag\",\"C\")[site_i,site_j])) #It works well.\n",
    "\n",
    "        if output == true\n",
    "            println(\"Correlations for t = \"*string(time)*\" calculated.\")\n",
    "        end\n",
    "    end\n",
    "    \n",
    "    return Correlation_Values, Times\n",
    "end\n",
    "\n",
    "function TEBD_Correlation_ij_Spins(t, Psi_0, U, site_i =1, site_j = 2, maxdim = 40, output = false)\n",
    "    #|Ψ(t)> = exp(-itH)|Ψ(0)> #Main Function\n",
    "\n",
    "    N = length(Psi_0)\n",
    "    cutoff = 1E-8\n",
    "    dt = 0.01\n",
    "    s = siteinds(Psi_0)\n",
    "    \n",
    "    # Make gates (1,2),(2,3),(3,4),...\n",
    "    Evolution_Gates = ITensor[]    \n",
    "\n",
    "    for j in 1:(N - 1)\n",
    "    \n",
    "        s1 = s[j]\n",
    "        s2 = s[j + 1]\n",
    "\n",
    "        hj = op(\"σ-\", s1)*op(\"σ+\", s2) + op(\"σ-\", s2)*op(\"σ+\", s1) + U*op(\"σ-σ+\", s1)*op(\"σ-σ+\", s2) #The signs of the JW strings are inside the SWAP gate\n",
    "\n",
    "        push!(Evolution_Gates, exp(-1im * dt/ 2 * hj))\n",
    "\n",
    "        Sf = op(SWAP, [s1,s2])\n",
    "        push!(Evolution_Gates, Sf)\n",
    "    end\n",
    "\n",
    "    append!(Evolution_Gates, reverse(Evolution_Gates))\n",
    "\n",
    "    Correlation_Values = [real(Calculate_Correlation_ij_Spins(Psi_0, site_i, site_j))] \n",
    "\n",
    "    Times = [0.0]\n",
    "    \n",
    "    Psi_t = Psi_0    \n",
    "        \n",
    "    for time in dt:dt:t\n",
    "        Psi_t = apply(Evolution_Gates, Psi_t; cutoff, maxdim)  #Each that apply is executed an SVD is also executed, maxdim is the maximum of the dimension that we will use from the SVD.\n",
    "        normalize!(Psi_t)\n",
    "\n",
    "        append!(Times, time)\n",
    "        append!(Correlation_Values, real(Calculate_Correlation_ij_Spins(Psi_t, site_i, site_j)))\n",
    "\n",
    "        if output == true\n",
    "            println(\"Correlations for t = \"*string(time)*\" calculated.\")\n",
    "        end\n",
    "    end\n",
    "    \n",
    "    return Correlation_Values, Times\n",
    "end"
   ]
  },
  {
   "cell_type": "markdown",
   "id": "0ccde648-c379-475b-bf89-a2c1af923e0c",
   "metadata": {},
   "source": [
    "**Time Evolution of correlations**"
   ]
  },
  {
   "cell_type": "code",
   "execution_count": 83,
   "id": "0a67b37f-9a14-4771-99b5-bec8e82a3105",
   "metadata": {},
   "outputs": [
    {
     "data": {
      "text/plain": [
       "8-element Vector{String}:\n",
       " \"0\"\n",
       " \"0\"\n",
       " \"1\"\n",
       " \"1\"\n",
       " \"1\"\n",
       " \"1\"\n",
       " \"0\"\n",
       " \"0\""
      ]
     },
     "execution_count": 83,
     "metadata": {},
     "output_type": "execute_result"
    }
   ],
   "source": [
    "N = 8\n",
    "U = 5\n",
    "\n",
    "i,j = 1,5\n",
    "\n",
    "tf = 0.2\n",
    "\n",
    "state = [\"0\", \"0\", \"1\", \"1\", \"1\", \"1\", \"0\", \"0\"]"
   ]
  },
  {
   "cell_type": "code",
   "execution_count": 84,
   "id": "8acb0a29-d52b-4525-b037-a3900edeab2b",
   "metadata": {},
   "outputs": [
    {
     "data": {
      "text/plain": [
       "MPS\n",
       "[1] ((dim=2|id=991|\"Fermion,Site,n=1\"), (dim=1|id=430|\"Link,l=1\"))\n",
       "[2] ((dim=1|id=430|\"Link,l=1\"), (dim=2|id=223|\"Fermion,Site,n=2\"), (dim=1|id=383|\"Link,l=2\"))\n",
       "[3] ((dim=1|id=383|\"Link,l=2\"), (dim=2|id=192|\"Fermion,Site,n=3\"), (dim=1|id=859|\"Link,l=3\"))\n",
       "[4] ((dim=1|id=859|\"Link,l=3\"), (dim=2|id=688|\"Fermion,Site,n=4\"), (dim=1|id=564|\"Link,l=4\"))\n",
       "[5] ((dim=1|id=564|\"Link,l=4\"), (dim=2|id=143|\"Fermion,Site,n=5\"), (dim=1|id=77|\"Link,l=5\"))\n",
       "[6] ((dim=1|id=77|\"Link,l=5\"), (dim=2|id=258|\"Fermion,Site,n=6\"), (dim=1|id=113|\"Link,l=6\"))\n",
       "[7] ((dim=1|id=113|\"Link,l=6\"), (dim=2|id=559|\"Fermion,Site,n=7\"), (dim=1|id=553|\"Link,l=7\"))\n",
       "[8] ((dim=1|id=553|\"Link,l=7\"), (dim=2|id=736|\"Fermion,Site,n=8\"))\n"
      ]
     },
     "execution_count": 84,
     "metadata": {},
     "output_type": "execute_result"
    }
   ],
   "source": [
    "H, sites = Create_MPO_using_Fermion(N, U) \n",
    "Initial_MPS = MPS(sites, state)\n",
    "normalize!(Initial_MPS)"
   ]
  },
  {
   "cell_type": "code",
   "execution_count": 85,
   "id": "190aa237-ba2d-47ba-94da-1220cc4c927a",
   "metadata": {},
   "outputs": [
    {
     "data": {
      "text/plain": [
       "([0.0, -0.0007489100200952444], [0.0, 0.01])"
      ]
     },
     "execution_count": 85,
     "metadata": {},
     "output_type": "execute_result"
    }
   ],
   "source": [
    "TEBD_Correlation_ij_Fermions(0.01, Initial_MPS, U, i,j)"
   ]
  },
  {
   "cell_type": "code",
   "execution_count": 86,
   "id": "43cb3ec0-188e-4068-9b07-7c94372a5a25",
   "metadata": {},
   "outputs": [
    {
     "data": {
      "text/plain": [
       "([0.0, -0.0007489100200952444, -0.002977288701614953, -0.006630372718196264, -0.011618086760131999, -0.017817511362878676, -0.02507586153005526, -0.03321424392670063, -0.042032093959364816, -0.05131210810875176  …  -0.07033814307190549, -0.07961534006389234, -0.08842860425706812, -0.09656080401014112, -0.10381158326065931, -0.11000231236058247, -0.11498050835096556, -0.11862351091782437, -0.12084165274093078, -0.12158027054954225], [0.0, 0.01, 0.02, 0.03, 0.04, 0.05, 0.06, 0.07, 0.08, 0.09  …  0.11, 0.12, 0.13, 0.14, 0.15, 0.16, 0.17, 0.18, 0.19, 0.2])"
      ]
     },
     "execution_count": 86,
     "metadata": {},
     "output_type": "execute_result"
    }
   ],
   "source": [
    "Correlation_Values_TEBD_Fermions, Times_TEBD_Fermions = TEBD_Correlation_ij_Fermions(tf, Initial_MPS, U, i,j)"
   ]
  },
  {
   "cell_type": "code",
   "execution_count": 87,
   "id": "ef9b1af4-9af6-4e94-ab3b-4807b2d7962c",
   "metadata": {},
   "outputs": [
    {
     "data": {
      "text/plain": [
       "MPS\n",
       "[1] ((dim=2|id=201|\"S=1/2,Site,n=1\"), (dim=1|id=296|\"Link,l=1\"))\n",
       "[2] ((dim=1|id=296|\"Link,l=1\"), (dim=2|id=287|\"S=1/2,Site,n=2\"), (dim=1|id=314|\"Link,l=2\"))\n",
       "[3] ((dim=1|id=314|\"Link,l=2\"), (dim=2|id=604|\"S=1/2,Site,n=3\"), (dim=1|id=395|\"Link,l=3\"))\n",
       "[4] ((dim=1|id=395|\"Link,l=3\"), (dim=2|id=898|\"S=1/2,Site,n=4\"), (dim=1|id=245|\"Link,l=4\"))\n",
       "[5] ((dim=1|id=245|\"Link,l=4\"), (dim=2|id=185|\"S=1/2,Site,n=5\"), (dim=1|id=817|\"Link,l=5\"))\n",
       "[6] ((dim=1|id=817|\"Link,l=5\"), (dim=2|id=132|\"S=1/2,Site,n=6\"), (dim=1|id=857|\"Link,l=6\"))\n",
       "[7] ((dim=1|id=857|\"Link,l=6\"), (dim=2|id=25|\"S=1/2,Site,n=7\"), (dim=1|id=228|\"Link,l=7\"))\n",
       "[8] ((dim=1|id=228|\"Link,l=7\"), (dim=2|id=860|\"S=1/2,Site,n=8\"))\n"
      ]
     },
     "execution_count": 87,
     "metadata": {},
     "output_type": "execute_result"
    }
   ],
   "source": [
    "H, sites = Create_MPO_using_Spins(N, U) \n",
    "Initial_MPS = MPS(sites, state)\n",
    "normalize!(Initial_MPS)"
   ]
  },
  {
   "cell_type": "code",
   "execution_count": 88,
   "id": "02c9e1b0-920e-491a-9f38-928760dac143",
   "metadata": {},
   "outputs": [
    {
     "data": {
      "text/plain": [
       "([0.0, -0.0007489100200952438], [0.0, 0.01])"
      ]
     },
     "execution_count": 88,
     "metadata": {},
     "output_type": "execute_result"
    }
   ],
   "source": [
    "TEBD_Correlation_ij_Spins(0.01, Initial_MPS, U, i,j)"
   ]
  },
  {
   "cell_type": "code",
   "execution_count": 89,
   "id": "ecf1729a-3c18-4e13-a327-61f73d4576d3",
   "metadata": {},
   "outputs": [
    {
     "data": {
      "text/plain": [
       "([0.0, -0.0007489100200952438, -0.0029772887016149578, -0.006630372718196269, -0.011618086760132006, -0.01781751136287866, -0.025075861530055244, -0.03321424392670064, -0.04203209395936482, -0.05131210810875172  …  -0.07033814307190552, -0.07961534006389244, -0.08842860425706811, -0.09656080401014118, -0.10381158326065941, -0.11000231236058264, -0.11498050835096563, -0.11862351091782425, -0.12084165274093071, -0.1215802705495421], [0.0, 0.01, 0.02, 0.03, 0.04, 0.05, 0.06, 0.07, 0.08, 0.09  …  0.11, 0.12, 0.13, 0.14, 0.15, 0.16, 0.17, 0.18, 0.19, 0.2])"
      ]
     },
     "execution_count": 89,
     "metadata": {},
     "output_type": "execute_result"
    }
   ],
   "source": [
    "Correlation_Values_TEBD_Spins, Times_TEBD_Spins = TEBD_Correlation_ij_Spins(tf, Initial_MPS, U, i,j)"
   ]
  },
  {
   "cell_type": "code",
   "execution_count": 90,
   "id": "f00f5fb8-fbdd-410e-818c-db427820d745",
   "metadata": {},
   "outputs": [
    {
     "name": "stdout",
     "output_type": "stream",
     "text": [
      "true\n"
     ]
    }
   ],
   "source": [
    "#Converting MPS to vector\n",
    "index_combiner = combiner(sites, tags = \"index\")\n",
    "A = Initial_MPS[1]*Initial_MPS[2]*Initial_MPS[3]*Initial_MPS[4]*Initial_MPS[5]*Initial_MPS[6]*Initial_MPS[7]*Initial_MPS[8]\n",
    "Initial_Vector = array(index_combiner*A)\n",
    "\n",
    "#Building the vector\n",
    "zero = [1;0]\n",
    "one = [0;1]\n",
    "\n",
    "Psi_0 = kron(zero, zero, one, one, one, one, zero, zero)\n",
    "Psi_0 = Psi_0/norm(Psi_0)\n",
    "\n",
    "println(Initial_Vector == Psi_0)\n",
    "\n",
    "Correlation_Operator = Build_Cdag_Matrix(N, i)*Build_C_Matrix(N, j)\n",
    "\n",
    "Times_ED = [0.0]\n",
    "Correlations_ED = [Adjoint(Psi_0)*Correlation_Operator*Psi_0]\n",
    "\n",
    "dt = 0.01\n",
    "U_Evolution = Time_Evolution_Operator_ED(dt, Build_H_ED(N, U))\n",
    "Psi_t = Psi_0\n",
    "\n",
    "for k=1:Integer(tf/dt)\n",
    "    Psi_t = U_Evolution*Psi_t\n",
    "    Correlation = Adjoint(Psi_t)*Correlation_Operator*Psi_t\n",
    "    append!(Correlations_ED, real(Correlation))\n",
    "    append!(Times_ED, dt*k)\n",
    "end"
   ]
  },
  {
   "cell_type": "code",
   "execution_count": 91,
   "id": "a0ad9b2d-9241-4804-a99c-dddff680e51e",
   "metadata": {},
   "outputs": [
    {
     "data": {
      "text/plain": [
       "21-element Vector{Float64}:\n",
       "  0.0\n",
       " -0.0007484575210219299\n",
       " -0.0029753812377327094\n",
       " -0.0066258795589769015\n",
       " -0.011609971764568764\n",
       " -0.01780480688236772\n",
       " -0.025057693066615136\n",
       " -0.03318986271649882\n",
       " -0.04200088041938204\n",
       " -0.051273584943384964\n",
       " -0.06077944333064036\n",
       " -0.07028418498076726\n",
       " -0.07955357671468916\n",
       " -0.08835919634201951\n",
       " -0.09648406230617176\n",
       " -0.10372798054852377\n",
       " -0.1099124767279013\n",
       " -0.11488519218118359\n",
       " -0.1185236352614235\n",
       " -0.120738195613851\n",
       " -0.12147434715381976"
      ]
     },
     "execution_count": 91,
     "metadata": {},
     "output_type": "execute_result"
    }
   ],
   "source": [
    "Correlations_ED"
   ]
  },
  {
   "cell_type": "code",
   "execution_count": 92,
   "id": "75364516-c5c3-4346-8a8b-d26fc0040374",
   "metadata": {},
   "outputs": [
    {
     "data": {
      "text/plain": [
       "21-element Vector{Float64}:\n",
       "  0.0\n",
       " -0.0007489100200952444\n",
       " -0.002977288701614953\n",
       " -0.006630372718196264\n",
       " -0.011618086760131999\n",
       " -0.017817511362878676\n",
       " -0.02507586153005526\n",
       " -0.03321424392670063\n",
       " -0.042032093959364816\n",
       " -0.05131210810875176\n",
       " -0.060825601082901165\n",
       " -0.07033814307190549\n",
       " -0.07961534006389234\n",
       " -0.08842860425706812\n",
       " -0.09656080401014112\n",
       " -0.10381158326065931\n",
       " -0.11000231236058247\n",
       " -0.11498050835096556\n",
       " -0.11862351091782437\n",
       " -0.12084165274093078\n",
       " -0.12158027054954225"
      ]
     },
     "execution_count": 92,
     "metadata": {},
     "output_type": "execute_result"
    }
   ],
   "source": [
    "Correlation_Values_TEBD_Fermions"
   ]
  },
  {
   "cell_type": "code",
   "execution_count": 93,
   "id": "fdfb16b2-46f9-4ba2-bcb4-99ed76009bc9",
   "metadata": {},
   "outputs": [
    {
     "data": {
      "text/plain": [
       "21-element Vector{Float64}:\n",
       "  0.0\n",
       " -0.0007489100200952438\n",
       " -0.0029772887016149578\n",
       " -0.006630372718196269\n",
       " -0.011618086760132006\n",
       " -0.01781751136287866\n",
       " -0.025075861530055244\n",
       " -0.03321424392670064\n",
       " -0.04203209395936482\n",
       " -0.05131210810875172\n",
       " -0.06082560108290114\n",
       " -0.07033814307190552\n",
       " -0.07961534006389244\n",
       " -0.08842860425706811\n",
       " -0.09656080401014118\n",
       " -0.10381158326065941\n",
       " -0.11000231236058264\n",
       " -0.11498050835096563\n",
       " -0.11862351091782425\n",
       " -0.12084165274093071\n",
       " -0.1215802705495421"
      ]
     },
     "execution_count": 93,
     "metadata": {},
     "output_type": "execute_result"
    }
   ],
   "source": [
    "Correlation_Values_TEBD_Spins"
   ]
  },
  {
   "cell_type": "markdown",
   "id": "e4fff27b-631a-4c8f-97a5-4b26ca4ce716",
   "metadata": {},
   "source": [
    "**Conclusion:** Fermion SiteType works well, but is important to check because is easy to made mistakes with the definitions and -. In addition to this, ITensor does not consider conmutation relationships when we need to use the function op(), this is very important in TEBD codes. It is the same with electrn (spinful fermions) sitetype."
   ]
  }
 ],
 "metadata": {
  "kernelspec": {
   "display_name": "Julia 1.10.3",
   "language": "julia",
   "name": "julia-1.10"
  },
  "language_info": {
   "file_extension": ".jl",
   "mimetype": "application/julia",
   "name": "julia",
   "version": "1.10.3"
  }
 },
 "nbformat": 4,
 "nbformat_minor": 5
}
