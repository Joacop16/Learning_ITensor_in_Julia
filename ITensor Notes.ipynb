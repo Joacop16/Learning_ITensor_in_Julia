{
 "cells": [
  {
   "cell_type": "markdown",
   "id": "3bd39f3c-1009-4997-b0be-aa1b67b77148",
   "metadata": {},
   "source": [
    "#### Install ITensor"
   ]
  },
  {
   "cell_type": "code",
   "execution_count": 1,
   "id": "b4607e51-e94e-4028-8693-6ad25031157e",
   "metadata": {},
   "outputs": [],
   "source": [
    "# using Pkg\n",
    "# Pkg.add(\"ITensors\")"
   ]
  },
  {
   "cell_type": "markdown",
   "id": "e1e99ecc-fe19-407b-be0e-2d671f41c5b9",
   "metadata": {},
   "source": [
    "#### Load ITensor"
   ]
  },
  {
   "cell_type": "code",
   "execution_count": 2,
   "id": "9132b2df-9e7e-4c43-94ea-af20f091d4b2",
   "metadata": {},
   "outputs": [],
   "source": [
    "using ITensors"
   ]
  },
  {
   "cell_type": "markdown",
   "id": "032f77fe-f9a8-49de-9996-7fa4d6fff544",
   "metadata": {},
   "source": [
    "#### Index() and Itensor() Functions\n",
    "\n",
    "- **Index()**: Define an Index represents a single tensor index with fixed dimension dim. \n",
    "\n",
    "- **Itensor()**: Constructor for an ITensor from a TensorStorage and a set of indices."
   ]
  },
  {
   "cell_type": "code",
   "execution_count": 3,
   "id": "211f5d1e-2960-4e49-98cd-c21884fad194",
   "metadata": {},
   "outputs": [],
   "source": [
    "# ?ITensor #This is how you ask for help in Julia"
   ]
  },
  {
   "cell_type": "code",
   "execution_count": 4,
   "id": "2090cbd5-0e9e-4542-847c-274539402003",
   "metadata": {},
   "outputs": [],
   "source": [
    "# ?Index #This is how you ask for help in Julia"
   ]
  },
  {
   "cell_type": "markdown",
   "id": "34a0bc60-fe61-4709-9b98-a57d039acf05",
   "metadata": {},
   "source": [
    "**Example of usage**:"
   ]
  },
  {
   "cell_type": "code",
   "execution_count": 5,
   "id": "9e0ce45f-16fc-417b-9b57-f50defc8393e",
   "metadata": {},
   "outputs": [
    {
     "name": "stdout",
     "output_type": "stream",
     "text": [
      "ITensor ord=2\n",
      "Dim 1: (dim=3|id=369)\n",
      "Dim 2: (dim=3|id=550)\n",
      "NDTensors.Dense{Int64, Vector{Int64}}\n",
      " 3×3\n",
      " 0  2  0\n",
      " 0  0  0\n",
      " 0  0  0\n"
     ]
    }
   ],
   "source": [
    "i = Index(3)\n",
    "j = Index(3)\n",
    "\n",
    "A = ITensor(i,j) \n",
    "\n",
    "A[i=>1, j => 2] = 2 #This is how we set the elements inside the tensor (it does not matter the order).\n",
    "# A[i=>1,j=>2] #This is how we can get the elements inside the tensor  (it does not matter the order).\n",
    "\n",
    "println(A)"
   ]
  },
  {
   "cell_type": "markdown",
   "id": "38e43ec3-49d9-426d-a129-8147d0b9089c",
   "metadata": {},
   "source": [
    "**Matrix Example**:"
   ]
  },
  {
   "cell_type": "markdown",
   "id": "2c379d5f-4681-47e2-be75-6f8fa87584cd",
   "metadata": {},
   "source": [
    "Let's play a little bith with this. Consider the tensor product: $A_{ij}*B_{ik}$"
   ]
  },
  {
   "cell_type": "code",
   "execution_count": 6,
   "id": "0a23de52-f637-4ead-a2a9-e164c4167869",
   "metadata": {},
   "outputs": [],
   "source": [
    "i = Index(3)\n",
    "j = Index(3)\n",
    "k = Index(3)\n",
    "\n",
    "A = ITensor(i,j) \n",
    "B = ITensor(i,k) \n",
    "\n",
    "for j_index in 1:dim(j)\n",
    "    A[i=>1, j => j_index] = j_index\n",
    "    A[i=>2, j => j_index] = 3 + j_index\n",
    "    A[i=>3, j => j_index] = 6 + j_index\n",
    "end\n",
    "\n",
    "for k_index in 1:dim(j)\n",
    "    B[i=>1, k => k_index] = (k_index)/10\n",
    "    B[i=>2, k => k_index] = (3 + k_index)/10\n",
    "    B[i=>3, k => k_index] = (6 + k_index)/10\n",
    "end"
   ]
  },
  {
   "cell_type": "code",
   "execution_count": 7,
   "id": "f12dd410-a1c3-43b9-ae7c-4204d8ce4a98",
   "metadata": {},
   "outputs": [
    {
     "name": "stdout",
     "output_type": "stream",
     "text": [
      "ITensor ord=2\n",
      "Dim 1: (dim=3|id=480)\n",
      "Dim 2: (dim=3|id=251)\n",
      "NDTensors.Dense{Int64, Vector{Int64}}\n",
      " 3×3\n",
      " 1  2  3\n",
      " 4  5  6\n",
      " 7  8  9\n"
     ]
    }
   ],
   "source": [
    "println(A)"
   ]
  },
  {
   "cell_type": "code",
   "execution_count": 8,
   "id": "56267531-e8aa-49da-a780-8f05e1f0979d",
   "metadata": {},
   "outputs": [
    {
     "name": "stdout",
     "output_type": "stream",
     "text": [
      "ITensor ord=2\n",
      "Dim 1: (dim=3|id=480)\n",
      "Dim 2: (dim=3|id=433)\n",
      "NDTensors.Dense{Float64, Vector{Float64}}\n",
      " 3×3\n",
      " 0.1  0.2  0.3\n",
      " 0.4  0.5  0.6\n",
      " 0.7  0.8  0.9\n"
     ]
    }
   ],
   "source": [
    "println(B)"
   ]
  },
  {
   "cell_type": "markdown",
   "id": "6955674f-c2e0-4381-96ad-d57f7ea29f72",
   "metadata": {},
   "source": [
    "I choose this values just because all of them are different. Let's try to contract the indixes using Itensor "
   ]
  },
  {
   "cell_type": "code",
   "execution_count": 9,
   "id": "4c112863-1095-411b-b138-9297f3c2b1b3",
   "metadata": {},
   "outputs": [
    {
     "name": "stdout",
     "output_type": "stream",
     "text": [
      "ITensor ord=2\n",
      "Dim 1: (dim=3|id=251)\n",
      "Dim 2: (dim=3|id=433)\n",
      "NDTensors.Dense{Float64, Vector{Float64}}\n",
      " 3×3\n",
      " 6.6   7.800000000000001   9.0\n",
      " 7.8   9.3                10.8\n",
      " 9.0  10.8                12.6\n"
     ]
    }
   ],
   "source": [
    "C = A*B\n",
    "\n",
    "println(C)"
   ]
  },
  {
   "cell_type": "markdown",
   "id": "4965a3c5-fae1-463d-a435-b3a487b4a7b9",
   "metadata": {},
   "source": [
    "Let's try exactly the same without using Itensor, just Julia:"
   ]
  },
  {
   "cell_type": "code",
   "execution_count": 10,
   "id": "a5e64ac2-5056-4753-992e-0ca3ba5b88e7",
   "metadata": {},
   "outputs": [],
   "source": [
    "m, n = 3,3\n",
    "A_matrix = fill(0.0, (3,3))\n",
    "B_matrix = fill(0.0, (3,3))\n",
    "\n",
    "for j_index in 1:3, i_index in 1:3\n",
    "        A_matrix[i_index, j_index] = A[i=>i_index,j=>j_index]\n",
    "end\n",
    "\n",
    "for k_index in 1:3, i_index in 1:3\n",
    "        B_matrix[i_index, k_index] = B[i=>i_index,k=>k_index]\n",
    "end"
   ]
  },
  {
   "cell_type": "code",
   "execution_count": 11,
   "id": "a988d3b8-f669-4351-aca1-6b7db9c1eebe",
   "metadata": {},
   "outputs": [
    {
     "data": {
      "text/plain": [
       "3×3 Matrix{Float64}:\n",
       " 1.0  2.0  3.0\n",
       " 4.0  5.0  6.0\n",
       " 7.0  8.0  9.0"
      ]
     },
     "execution_count": 11,
     "metadata": {},
     "output_type": "execute_result"
    }
   ],
   "source": [
    "A_matrix #i,j"
   ]
  },
  {
   "cell_type": "code",
   "execution_count": 12,
   "id": "c59839de-d0aa-41a8-bed8-33db94769157",
   "metadata": {},
   "outputs": [
    {
     "data": {
      "text/plain": [
       "3×3 Matrix{Float64}:\n",
       " 0.1  0.2  0.3\n",
       " 0.4  0.5  0.6\n",
       " 0.7  0.8  0.9"
      ]
     },
     "execution_count": 12,
     "metadata": {},
     "output_type": "execute_result"
    }
   ],
   "source": [
    "B_matrix #k,i"
   ]
  },
  {
   "cell_type": "markdown",
   "id": "db44e088-a56f-4ea8-828a-37bfd3f41d57",
   "metadata": {},
   "source": [
    "Here we do not have an index, just matrixes. We must be careful thinking what index we can to contract, and do the operation that we really want.\n",
    "\n",
    "It is not just A_matrix*B_matrix"
   ]
  },
  {
   "cell_type": "code",
   "execution_count": 13,
   "id": "11a5a49e-0834-4367-9a6e-50b93fb7e3dc",
   "metadata": {},
   "outputs": [
    {
     "data": {
      "text/plain": [
       "3×3 Matrix{Float64}:\n",
       "  3.0   3.6   4.2\n",
       "  6.6   8.1   9.6\n",
       " 10.2  12.6  15.0"
      ]
     },
     "execution_count": 13,
     "metadata": {},
     "output_type": "execute_result"
    }
   ],
   "source": [
    "A_matrix*B_matrix"
   ]
  },
  {
   "cell_type": "markdown",
   "id": "0b6fd745-40af-4e4b-960e-267670d925d6",
   "metadata": {},
   "source": [
    "We want $A_{ij}*B_{ik}$, and $(A*B)_{ik}$ = $A_{ij}*B_{jk}$, that is very different.\n",
    "\n",
    "So $A_{ij}*B_{ik}$ = $A^{T}_{ji}*B_{ik}$ = $(A^{T}*B)_{jk}$"
   ]
  },
  {
   "cell_type": "code",
   "execution_count": 14,
   "id": "79dfc2bc-fe20-434c-9e07-29f0282c10e6",
   "metadata": {},
   "outputs": [
    {
     "data": {
      "text/plain": [
       "3×3 Matrix{Float64}:\n",
       " 6.6   7.8   9.0\n",
       " 7.8   9.3  10.8\n",
       " 9.0  10.8  12.6"
      ]
     },
     "execution_count": 14,
     "metadata": {},
     "output_type": "execute_result"
    }
   ],
   "source": [
    "transpose(A_matrix)*B_matrix"
   ]
  },
  {
   "cell_type": "markdown",
   "id": "5ce9777b-c828-4a94-b634-af1f6cc5c6e4",
   "metadata": {},
   "source": [
    "We got the same result, but was harder without ITensor."
   ]
  },
  {
   "cell_type": "markdown",
   "id": "3826cf50-f61e-4e7b-873e-4776ba0dcf1d",
   "metadata": {},
   "source": [
    "#### randomITensor() Function\n",
    "\n",
    "Create an ITensor with normally-distributed random elements instead of specific values."
   ]
  },
  {
   "cell_type": "code",
   "execution_count": 16,
   "id": "d359c1ed-9120-4e2a-a050-b7e4cf7d8ee1",
   "metadata": {},
   "outputs": [
    {
     "data": {
      "text/plain": [
       "ITensor ord=3 (dim=3|id=480) (dim=3|id=251) (dim=3|id=433)\n",
       "NDTensors.Dense{Float64, Vector{Float64}}"
      ]
     },
     "execution_count": 16,
     "metadata": {},
     "output_type": "execute_result"
    }
   ],
   "source": [
    "A = randomITensor(i,j,k)"
   ]
  },
  {
   "cell_type": "code",
   "execution_count": 17,
   "id": "d1b0f72e-57f2-45e8-b044-17634324fd58",
   "metadata": {},
   "outputs": [
    {
     "name": "stdout",
     "output_type": "stream",
     "text": [
      "ITensor ord=3\n",
      "Dim 1: (dim=3|id=480)\n",
      "Dim 2: (dim=3|id=251)\n",
      "Dim 3: (dim=3|id=433)\n",
      "NDTensors.Dense{Float64, Vector{Float64}}\n",
      " 3×3×3\n",
      "[:, :, 1] =\n",
      "  1.2561508181706398  -0.2177920198793908   -0.03070596014606092\n",
      "  1.1144339434318813  -0.21862847720629294   0.025939044803507283\n",
      " -0.9866992758973254   0.4507056548007007    0.8945353015537075\n",
      "\n",
      "[:, :, 2] =\n",
      "  1.015123968741805    0.16671149792012843  -0.3117454541172909\n",
      " -0.33270681247748757  0.24523949792222458  -0.0850211521665733\n",
      " -0.5524822852231952   0.5652065184609159   -0.17789325375568701\n",
      "\n",
      "[:, :, 3] =\n",
      " 0.6992155613263914   1.022122817149885    1.566290225382175\n",
      " 2.0637031350292743  -0.21203257343910267  1.5926067467613607\n",
      " 0.5570677630357282  -0.540527449909668    1.7296023287204831\n"
     ]
    }
   ],
   "source": [
    "println(A)"
   ]
  },
  {
   "cell_type": "markdown",
   "id": "0ec6f796-5b53-4aaa-ac5f-d4b5b2c3feda",
   "metadata": {},
   "source": [
    "#### Linear Combinations of ITensors:\n",
    "\n",
    "ITensors may also be subtracted and multiplied by scalars, including complex scalars, for example:"
   ]
  },
  {
   "cell_type": "code",
   "execution_count": 19,
   "id": "b53e93ac-11af-44dc-8fa5-8183b5632da8",
   "metadata": {},
   "outputs": [
    {
     "data": {
      "text/plain": [
       "ITensor ord=3 (dim=3|id=433) (dim=3|id=480) (dim=3|id=251)\n",
       "NDTensors.Dense{Float64, Vector{Float64}}"
      ]
     },
     "execution_count": 19,
     "metadata": {},
     "output_type": "execute_result"
    }
   ],
   "source": [
    "A = randomITensor(i,j,k)\n",
    "B = randomITensor(k,i,j) "
   ]
  },
  {
   "cell_type": "code",
   "execution_count": 21,
   "id": "be94559e-aa71-4a80-8033-867130dacdcc",
   "metadata": {},
   "outputs": [
    {
     "data": {
      "text/plain": [
       "ITensor ord=3 (dim=3|id=480) (dim=3|id=251) (dim=3|id=433)\n",
       "NDTensors.Dense{ComplexF64, Vector{ComplexF64}}"
      ]
     },
     "execution_count": 21,
     "metadata": {},
     "output_type": "execute_result"
    }
   ],
   "source": [
    "C = 4*A - B/2 \n",
    "D = A + 3.0im * B"
   ]
  },
  {
   "cell_type": "code",
   "execution_count": 26,
   "id": "ba23f1d8-cda2-4172-b0bb-73695c2ece1c",
   "metadata": {},
   "outputs": [
    {
     "name": "stdout",
     "output_type": "stream",
     "text": [
      "ITensor ord=3\n",
      "Dim 1: (dim=3|id=480)\n",
      "Dim 2: (dim=3|id=251)\n",
      "Dim 3: (dim=3|id=433)\n",
      "NDTensors.Dense{ComplexF64, Vector{ComplexF64}}\n",
      " 3×3×3\n",
      "[:, :, 1] =\n",
      " -2.9013751848463154 - 3.8819026282880507im  -1.4455180194234138 + 1.3832114186685975im   -1.99062803328968 - 0.10210444816130013im\n",
      " -0.2470095274501079 + 1.2647459700429784im  0.46600432663353664 - 6.279371465151597im   0.8854809239647088 - 1.5768576991263634im\n",
      " -2.0734837288366648 - 1.3349230423045488im  -0.8086552468530479 - 4.792803237831798im    2.037856588550402 + 5.635122337034464im\n",
      "\n",
      "[:, :, 2] =\n",
      " 0.5581585906760147 + 1.2178158005700317im  -0.15031112346593073 + 3.8298152299336947im      1.0044986802148381 + 0.4525911163373254im\n",
      " 0.5597267997059165 + 3.398428977304306im   -0.30137786441148967 + 0.055960661730226666im  0.004889856044485032 - 1.2944276402167187im\n",
      " -2.149821622775805 + 1.8802898453970975im   0.24487463219569075 + 5.328770512643749im     -0.11236884632551272 + 5.555622151057216im\n",
      "\n",
      "[:, :, 3] =\n",
      "  0.7130516396156691 - 0.14616273670703978im    1.1602937462373812 - 0.6091084563550738im  -0.3550904084498182 - 2.990949561696306im\n",
      " 0.04748164787513201 - 0.26876587351335446im  0.036443780852066815 - 5.9512794411648535im  -1.2530162001000837 + 0.7474858928984622im\n",
      " -0.2610208069586718 + 0.1128533260747652im    -1.2320732644205719 + 2.4789630265410594im   0.5814562522404799 - 1.3269562738218452im\n"
     ]
    }
   ],
   "source": [
    "println(D)"
   ]
  },
  {
   "cell_type": "markdown",
   "id": "95b2f515-0f1b-4218-9fcb-debbdf9553c2",
   "metadata": {},
   "source": [
    "This is just possible because A and B have the same indexes:"
   ]
  },
  {
   "cell_type": "code",
   "execution_count": 23,
   "id": "bf822f38-d993-449a-be5d-67989fae018e",
   "metadata": {},
   "outputs": [
    {
     "data": {
      "text/plain": [
       "ITensor ord=3 (dim=3|id=433) (dim=3|id=480) (dim=3|id=234)\n",
       "NDTensors.Dense{Float64, Vector{Float64}}"
      ]
     },
     "execution_count": 23,
     "metadata": {},
     "output_type": "execute_result"
    }
   ],
   "source": [
    "l = Index(3)\n",
    "\n",
    "A = randomITensor(i,j,k)\n",
    "B = randomITensor(k,i,l) "
   ]
  },
  {
   "cell_type": "code",
   "execution_count": 25,
   "id": "ad43b9f2-0154-417e-946c-7fcbefe39cc0",
   "metadata": {},
   "outputs": [
    {
     "ename": "LoadError",
     "evalue": "You are trying to add an ITensor with indices:\n\n((dim=3|id=433), (dim=3|id=480), (dim=3|id=234))\n\ninto an ITensor with indices:\n\n((dim=3|id=480), (dim=3|id=251), (dim=3|id=433))\n\nbut the indices are not permutations of each other.\n",
     "output_type": "error",
     "traceback": [
      "You are trying to add an ITensor with indices:\n\n((dim=3|id=433), (dim=3|id=480), (dim=3|id=234))\n\ninto an ITensor with indices:\n\n((dim=3|id=480), (dim=3|id=251), (dim=3|id=433))\n\nbut the indices are not permutations of each other.\n",
      "",
      "Stacktrace:",
      " [1] error(s::String)",
      "   @ Base .\\error.jl:35",
      " [2] _map!!(f::Function, R::NDTensors.DenseTensor{Float64, 3, Tuple{Index{Int64}, Index{Int64}, Index{Int64}}, NDTensors.Dense{Float64, Vector{Float64}}}, T1::NDTensors.DenseTensor{Float64, 3, Tuple{Index{Int64}, Index{Int64}, Index{Int64}}, NDTensors.Dense{Float64, Vector{Float64}}}, T2::NDTensors.DenseTensor{Float64, 3, Tuple{Index{Int64}, Index{Int64}, Index{Int64}}, NDTensors.Dense{Float64, Vector{Float64}}})",
      "   @ ITensors C:\\Users\\joaqu\\.julia\\packages\\ITensors\\yZbTa\\src\\itensor.jl:1929",
      " [3] map!(f::Function, R::ITensor, T1::ITensor, T2::ITensor)",
      "   @ ITensors C:\\Users\\joaqu\\.julia\\packages\\ITensors\\yZbTa\\src\\itensor.jl:1955",
      " [4] copyto!",
      "   @ C:\\Users\\joaqu\\.julia\\packages\\ITensors\\yZbTa\\src\\broadcast.jl:321 [inlined]",
      " [5] materialize!",
      "   @ .\\broadcast.jl:884 [inlined]",
      " [6] materialize!",
      "   @ .\\broadcast.jl:881 [inlined]",
      " [7] -(A::ITensor, B::ITensor)",
      "   @ ITensors C:\\Users\\joaqu\\.julia\\packages\\ITensors\\yZbTa\\src\\itensor.jl:1872",
      " [8] top-level scope",
      "   @ In[25]:1"
     ]
    }
   ],
   "source": [
    "C = 4*A - B/2 "
   ]
  },
  {
   "cell_type": "code",
   "execution_count": null,
   "id": "eeff359b-01eb-4796-b7e5-423a278fa701",
   "metadata": {},
   "outputs": [],
   "source": []
  }
 ],
 "metadata": {
  "kernelspec": {
   "display_name": "Julia 1.9.2",
   "language": "julia",
   "name": "julia-1.9"
  },
  "language_info": {
   "file_extension": ".jl",
   "mimetype": "application/julia",
   "name": "julia",
   "version": "1.9.2"
  }
 },
 "nbformat": 4,
 "nbformat_minor": 5
}
